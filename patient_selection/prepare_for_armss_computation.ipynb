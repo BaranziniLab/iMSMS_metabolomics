{
 "cells": [
  {
   "cell_type": "markdown",
   "id": "1a79128d",
   "metadata": {},
   "source": [
    "## Patient selection criteria\n",
    "\n",
    "### Objective is to find MS patients with contrasting features\n",
    "\n",
    "#### 1. Compute ARMSS score for each patient\n",
    "#### 2. Select two groups of patients: N patients with low ARMSS and N patients with high ARMSS score\n",
    "#### 3. From each group, select M patients with same diet in the ratio of 70(Female):30(Male)\n",
    "Include diet as confounding variable in the model\n",
    "#### 4. Fit GLM model on each metabolites using the selected 2M patient samples (using Serum or Feces or ratio?) - Feces\n",
    "Separate models for targeted and untargeted\n",
    "#### 5. Select metabolites with significant relationship with ARMSS score difference\n",
    "Send the selected metabolites to Maura and Shaobo\n",
    "\n",
    "\n",
    "Manual selection on the selected metabolite\n",
    "#### 6. Create patient profile with the selected metabolites\n",
    "#### 7. Compute patient similarity matrix"
   ]
  },
  {
   "cell_type": "code",
   "execution_count": 1,
   "id": "5cee5ea3",
   "metadata": {},
   "outputs": [],
   "source": [
    "import pandas as pd\n",
    "import os\n",
    "import sys\n",
    "sys.path.insert(0, '..')\n",
    "from paths import *"
   ]
  },
  {
   "cell_type": "code",
   "execution_count": null,
   "id": "b346f05f",
   "metadata": {},
   "outputs": [],
   "source": []
  },
  {
   "cell_type": "code",
   "execution_count": 2,
   "id": "23c89eed",
   "metadata": {},
   "outputs": [],
   "source": [
    "CLINICAL_DATA_PATH = '../../wetlab/data/patient_selection/iMSMS_clinical_subset_20240105.xlsx'\n",
    "SAVE_DATA_PATH = '../../wetlab/data/patient_selection/clinical_data_for_ARMSS_computation.csv'\n"
   ]
  },
  {
   "cell_type": "code",
   "execution_count": 3,
   "id": "2f240eb9",
   "metadata": {},
   "outputs": [],
   "source": [
    "clinical_data = pd.read_excel(CLINICAL_DATA_PATH, engine='openpyxl')\n"
   ]
  },
  {
   "cell_type": "markdown",
   "id": "00a5aae0",
   "metadata": {},
   "source": [
    "### Preparing data for computing ARMSS score using the webservice: \n",
    "https://aliman.shinyapps.io/ARMSS/\n",
    "\n",
    "#### Data should be according to the following specs:\n",
    "\n",
    "#### Notes:\n",
    "#### 1. Your file should be in CSV format (.csv).\n",
    "#### 2. It should contain three variables named: ageatedss, dd and edss."
   ]
  },
  {
   "cell_type": "markdown",
   "id": "dbe23a1d",
   "metadata": {},
   "source": [
    "#### Step 1: Selecting only MS patients"
   ]
  },
  {
   "cell_type": "code",
   "execution_count": 6,
   "id": "d2dc71a8",
   "metadata": {},
   "outputs": [],
   "source": [
    "\n",
    "clinical_data_ms = clinical_data[clinical_data.Case_Control=='MS Participant']\n"
   ]
  },
  {
   "cell_type": "markdown",
   "id": "36856174",
   "metadata": {},
   "source": [
    "#### Step 2: Removing patients without EDSS date"
   ]
  },
  {
   "cell_type": "code",
   "execution_count": 8,
   "id": "3dece2e3",
   "metadata": {},
   "outputs": [
    {
     "name": "stderr",
     "output_type": "stream",
     "text": [
      "/var/folders/p1/h56gxdhs5vgb0ztp7h4z606h0000gn/T/ipykernel_94972/1624530916.py:1: SettingWithCopyWarning: \n",
      "A value is trying to be set on a copy of a slice from a DataFrame\n",
      "\n",
      "See the caveats in the documentation: https://pandas.pydata.org/pandas-docs/stable/user_guide/indexing.html#returning-a-view-versus-a-copy\n",
      "  clinical_data_ms.dropna(subset='EDSS_Date', inplace=True)\n"
     ]
    }
   ],
   "source": [
    "clinical_data_ms.dropna(subset='EDSS_Date', inplace=True)\n"
   ]
  },
  {
   "cell_type": "markdown",
   "id": "43d5b8ff",
   "metadata": {},
   "source": [
    "#### Step 3: Removing patients without EDSS score"
   ]
  },
  {
   "cell_type": "code",
   "execution_count": 9,
   "id": "6f76e7a9",
   "metadata": {},
   "outputs": [
    {
     "name": "stderr",
     "output_type": "stream",
     "text": [
      "/var/folders/p1/h56gxdhs5vgb0ztp7h4z606h0000gn/T/ipykernel_94972/4046816994.py:1: SettingWithCopyWarning: \n",
      "A value is trying to be set on a copy of a slice from a DataFrame\n",
      "\n",
      "See the caveats in the documentation: https://pandas.pydata.org/pandas-docs/stable/user_guide/indexing.html#returning-a-view-versus-a-copy\n",
      "  clinical_data_ms.dropna(subset='EDSS', inplace=True)\n"
     ]
    },
    {
     "data": {
      "text/plain": [
       "(1382, 73)"
      ]
     },
     "execution_count": 9,
     "metadata": {},
     "output_type": "execute_result"
    }
   ],
   "source": [
    "clinical_data_ms.dropna(subset='EDSS', inplace=True)\n"
   ]
  },
  {
   "cell_type": "markdown",
   "id": "add8b445",
   "metadata": {},
   "source": [
    "#### Step 4: Calculating Age at EDSS"
   ]
  },
  {
   "cell_type": "code",
   "execution_count": 86,
   "id": "c0f299c2",
   "metadata": {
    "scrolled": true
   },
   "outputs": [
    {
     "name": "stderr",
     "output_type": "stream",
     "text": [
      "/var/folders/p1/h56gxdhs5vgb0ztp7h4z606h0000gn/T/ipykernel_56560/2742805700.py:1: SettingWithCopyWarning: \n",
      "A value is trying to be set on a copy of a slice from a DataFrame.\n",
      "Try using .loc[row_indexer,col_indexer] = value instead\n",
      "\n",
      "See the caveats in the documentation: https://pandas.pydata.org/pandas-docs/stable/user_guide/indexing.html#returning-a-view-versus-a-copy\n",
      "  clinical_data_ms.loc[:, 'EDSS_Date'] = pd.to_datetime(clinical_data_ms['EDSS_Date'])\n",
      "/var/folders/p1/h56gxdhs5vgb0ztp7h4z606h0000gn/T/ipykernel_56560/2742805700.py:1: DeprecationWarning: In a future version, `df.iloc[:, i] = newvals` will attempt to set the values inplace instead of always setting a new array. To retain the old behavior, use either `df[df.columns[i]] = newvals` or, if columns are non-unique, `df.isetitem(i, newvals)`\n",
      "  clinical_data_ms.loc[:, 'EDSS_Date'] = pd.to_datetime(clinical_data_ms['EDSS_Date'])\n",
      "/var/folders/p1/h56gxdhs5vgb0ztp7h4z606h0000gn/T/ipykernel_56560/2742805700.py:3: SettingWithCopyWarning: \n",
      "A value is trying to be set on a copy of a slice from a DataFrame.\n",
      "Try using .loc[row_indexer,col_indexer] = value instead\n",
      "\n",
      "See the caveats in the documentation: https://pandas.pydata.org/pandas-docs/stable/user_guide/indexing.html#returning-a-view-versus-a-copy\n",
      "  clinical_data_ms.loc[:, 'EDSS_Year'] = clinical_data_ms['EDSS_Date'].dt.year\n",
      "/var/folders/p1/h56gxdhs5vgb0ztp7h4z606h0000gn/T/ipykernel_56560/2742805700.py:5: SettingWithCopyWarning: \n",
      "A value is trying to be set on a copy of a slice from a DataFrame.\n",
      "Try using .loc[row_indexer,col_indexer] = value instead\n",
      "\n",
      "See the caveats in the documentation: https://pandas.pydata.org/pandas-docs/stable/user_guide/indexing.html#returning-a-view-versus-a-copy\n",
      "  clinical_data_ms.loc[:, 'ageatedss'] = clinical_data_ms['EDSS_Year'] - clinical_data_ms['YOB']\n"
     ]
    }
   ],
   "source": [
    "clinical_data_ms.loc[:, 'EDSS_Date'] = pd.to_datetime(clinical_data_ms['EDSS_Date'])\n",
    "\n",
    "clinical_data_ms.loc[:, 'EDSS_Year'] = clinical_data_ms['EDSS_Date'].dt.year\n",
    "\n",
    "clinical_data_ms.loc[:, 'ageatedss'] = clinical_data_ms['EDSS_Year'] - clinical_data_ms['YOB']\n"
   ]
  },
  {
   "cell_type": "markdown",
   "id": "6bccdceb",
   "metadata": {},
   "source": [
    "#### Step 5: Renaming 'EDSS' column to 'edss'"
   ]
  },
  {
   "cell_type": "code",
   "execution_count": 87,
   "id": "af67c1cd",
   "metadata": {},
   "outputs": [],
   "source": [
    "clinical_data_ms = clinical_data_ms.rename(columns={'EDSS':'edss'})\n"
   ]
  },
  {
   "cell_type": "markdown",
   "id": "fed3036e",
   "metadata": {},
   "source": [
    "#### Step 6: Renaming 'Disease Duration (years)' to 'dd'"
   ]
  },
  {
   "cell_type": "code",
   "execution_count": 88,
   "id": "c56ca5c0",
   "metadata": {},
   "outputs": [],
   "source": [
    "clinical_data_ms = clinical_data_ms.rename(columns={'Disease Duration (years)':'dd'})\n",
    "\n"
   ]
  },
  {
   "cell_type": "markdown",
   "id": "79ef791c",
   "metadata": {},
   "source": [
    "#### Step 7: Selecting only untreated patients using metabolomics data"
   ]
  },
  {
   "cell_type": "code",
   "execution_count": 10,
   "id": "bfcf4a0a",
   "metadata": {},
   "outputs": [
    {
     "data": {
      "text/plain": [
       "(233, 73)"
      ]
     },
     "execution_count": 10,
     "metadata": {},
     "output_type": "execute_result"
    }
   ],
   "source": [
    "sample = \"serum\"\n",
    "\n",
    "filename = SHORT_CHAIN_FATTY_ACID_DATA_FILENAME\n",
    "mapping_filename = \"short_chain_fatty_acid_spoke_map.csv\"\n",
    "file_path = os.path.join(DATA_ROOT_PATH, filename)\n",
    "\n",
    "metabolomics_data = pd.read_excel(file_path, engine='openpyxl')\n",
    "metabolomics_data = metabolomics_data[metabolomics_data[\"Client Matrix\"]==sample]\n",
    "untreated_patient_id = metabolomics_data[(metabolomics_data.Treatment == 'Off')]['Client Sample ID'].unique()\n",
    "\n",
    "\n",
    "clinical_data_ms = clinical_data_ms[clinical_data_ms['Record ID'].isin(untreated_patient_id)]\n"
   ]
  },
  {
   "cell_type": "markdown",
   "id": "8ac62619",
   "metadata": {},
   "source": [
    "#### Step 8: Extracting relevant columns for ARMSS processing"
   ]
  },
  {
   "cell_type": "code",
   "execution_count": 90,
   "id": "dae6e0e8",
   "metadata": {},
   "outputs": [],
   "source": [
    "clinical_data_ms_prepared = clinical_data_ms[['Record ID', 'ageatedss', 'dd', 'edss']]\n"
   ]
  },
  {
   "cell_type": "markdown",
   "id": "1a6574c4",
   "metadata": {},
   "source": [
    "#### Step 9: Dropping rows with any nan values for the selected columns"
   ]
  },
  {
   "cell_type": "code",
   "execution_count": 91,
   "id": "42995b0a",
   "metadata": {},
   "outputs": [
    {
     "name": "stderr",
     "output_type": "stream",
     "text": [
      "/var/folders/p1/h56gxdhs5vgb0ztp7h4z606h0000gn/T/ipykernel_56560/1483681231.py:1: SettingWithCopyWarning: \n",
      "A value is trying to be set on a copy of a slice from a DataFrame\n",
      "\n",
      "See the caveats in the documentation: https://pandas.pydata.org/pandas-docs/stable/user_guide/indexing.html#returning-a-view-versus-a-copy\n",
      "  clinical_data_ms_prepared.dropna(inplace=True)\n"
     ]
    }
   ],
   "source": [
    "clinical_data_ms_prepared.dropna(inplace=True)"
   ]
  },
  {
   "cell_type": "markdown",
   "id": "c4583aa7",
   "metadata": {},
   "source": [
    "#### Step 10: Save the data"
   ]
  },
  {
   "cell_type": "code",
   "execution_count": 92,
   "id": "241a5c62",
   "metadata": {},
   "outputs": [],
   "source": [
    "clinical_data_ms_prepared.to_csv(SAVE_DATA_PATH, index=False, header=True)\n"
   ]
  },
  {
   "cell_type": "code",
   "execution_count": 93,
   "id": "08992920",
   "metadata": {},
   "outputs": [
    {
     "name": "stdout",
     "output_type": "stream",
     "text": [
      "Total 230 MS patients (untreated) are selected to compute ARMSS score\n"
     ]
    }
   ],
   "source": [
    "print('Total {} MS patients (untreated) are selected to compute ARMSS score'.format(clinical_data_ms_prepared['Record ID'].unique().shape[0]))\n",
    "      "
   ]
  },
  {
   "cell_type": "markdown",
   "id": "58cff4f6",
   "metadata": {},
   "source": [
    "#### Output file after ARMSS computation, has following scores:\n",
    "####    gARMSS: global ARMSS\n",
    "####    ugMSSS: updated global MSSS\n",
    "####    ogMSSS: original MSSS\n",
    "####    lMSSS: local MSSS\n",
    "####    lARMSS: local ARMSS\n",
    "\n",
    "#### Ref: https://www.ncbi.nlm.nih.gov/pmc/articles/PMC5700773/pdf/10.1177_1352458517690618.pdf\n",
    "\n",
    "Notes (from above Ref):\n",
    "Creation of the global ARMSS matrix\n",
    "A global ARMSS matrix was constructed using the\n",
    "cross-sectional data set. This matrix included the\n",
    "ARMSS scores obtained for EDSS scores recorded\n",
    "between ages of 18 and 75 years."
   ]
  },
  {
   "cell_type": "code",
   "execution_count": null,
   "id": "acf66ea0",
   "metadata": {},
   "outputs": [],
   "source": []
  }
 ],
 "metadata": {
  "kernelspec": {
   "display_name": "Python 3 (ipykernel)",
   "language": "python",
   "name": "python3"
  },
  "language_info": {
   "codemirror_mode": {
    "name": "ipython",
    "version": 3
   },
   "file_extension": ".py",
   "mimetype": "text/x-python",
   "name": "python",
   "nbconvert_exporter": "python",
   "pygments_lexer": "ipython3",
   "version": "3.10.9"
  }
 },
 "nbformat": 4,
 "nbformat_minor": 5
}
