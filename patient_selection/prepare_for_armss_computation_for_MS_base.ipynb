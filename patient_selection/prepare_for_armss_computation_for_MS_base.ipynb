{
 "cells": [
  {
   "cell_type": "code",
   "execution_count": 1,
   "id": "5cee5ea3",
   "metadata": {},
   "outputs": [
    {
     "name": "stderr",
     "output_type": "stream",
     "text": [
      "/Users/karthiksoman/anaconda3/lib/python3.10/site-packages/pandas/core/arrays/masked.py:60: UserWarning: Pandas requires version '1.3.6' or newer of 'bottleneck' (version '1.3.5' currently installed).\n",
      "  from pandas.core import (\n"
     ]
    }
   ],
   "source": [
    "import pandas as pd\n",
    "import os\n",
    "import sys\n",
    "sys.path.insert(0, '..')\n",
    "from paths import *"
   ]
  },
  {
   "cell_type": "code",
   "execution_count": null,
   "id": "b346f05f",
   "metadata": {},
   "outputs": [],
   "source": []
  },
  {
   "cell_type": "code",
   "execution_count": 2,
   "id": "23c89eed",
   "metadata": {},
   "outputs": [],
   "source": [
    "CLINICAL_DATA_PATH = '../../wetlab/data/patient_selection/iMSMS_clinical_subset_20240105.xlsx'\n",
    "SAVE_DATA_PATH = '../../wetlab/data/patient_selection/clinical_data_for_ARMSS_computation_for_MS_base.csv'\n",
    "UCSF_ONLY_SAVE_DATA_PATH = '../../wetlab/data/patient_selection/ucsf_only_clinical_data_for_ARMSS_computation_for_MS_base.csv'\n",
    "\n"
   ]
  },
  {
   "cell_type": "code",
   "execution_count": 28,
   "id": "2f240eb9",
   "metadata": {},
   "outputs": [],
   "source": [
    "clinical_data = pd.read_excel(CLINICAL_DATA_PATH, engine='openpyxl')\n"
   ]
  },
  {
   "cell_type": "markdown",
   "id": "00a5aae0",
   "metadata": {},
   "source": [
    "### Preparing data for computing ARMSS score using the webservice: \n",
    "https://aliman.shinyapps.io/ARMSS/\n",
    "\n",
    "#### Data should be according to the following specs:\n",
    "\n",
    "#### Notes:\n",
    "#### 1. Your file should be in CSV format (.csv).\n",
    "#### 2. It should contain three variables named: ageatedss, dd and edss."
   ]
  },
  {
   "cell_type": "markdown",
   "id": "dbe23a1d",
   "metadata": {},
   "source": [
    "#### Step 1: Selecting only MS patients"
   ]
  },
  {
   "cell_type": "code",
   "execution_count": 4,
   "id": "d2dc71a8",
   "metadata": {},
   "outputs": [],
   "source": [
    "\n",
    "clinical_data_ms = clinical_data[clinical_data.Case_Control=='MS Participant']\n"
   ]
  },
  {
   "cell_type": "markdown",
   "id": "36856174",
   "metadata": {},
   "source": [
    "#### Step 2: Removing patients without EDSS date"
   ]
  },
  {
   "cell_type": "code",
   "execution_count": 5,
   "id": "3dece2e3",
   "metadata": {},
   "outputs": [
    {
     "name": "stderr",
     "output_type": "stream",
     "text": [
      "/var/folders/p1/h56gxdhs5vgb0ztp7h4z606h0000gn/T/ipykernel_82703/1624530916.py:1: SettingWithCopyWarning: \n",
      "A value is trying to be set on a copy of a slice from a DataFrame\n",
      "\n",
      "See the caveats in the documentation: https://pandas.pydata.org/pandas-docs/stable/user_guide/indexing.html#returning-a-view-versus-a-copy\n",
      "  clinical_data_ms.dropna(subset='EDSS_Date', inplace=True)\n"
     ]
    }
   ],
   "source": [
    "clinical_data_ms.dropna(subset='EDSS_Date', inplace=True)\n"
   ]
  },
  {
   "cell_type": "markdown",
   "id": "43d5b8ff",
   "metadata": {},
   "source": [
    "#### Step 3: Removing patients without EDSS score"
   ]
  },
  {
   "cell_type": "code",
   "execution_count": 6,
   "id": "6f76e7a9",
   "metadata": {},
   "outputs": [
    {
     "name": "stderr",
     "output_type": "stream",
     "text": [
      "/var/folders/p1/h56gxdhs5vgb0ztp7h4z606h0000gn/T/ipykernel_82703/4028722422.py:1: SettingWithCopyWarning: \n",
      "A value is trying to be set on a copy of a slice from a DataFrame\n",
      "\n",
      "See the caveats in the documentation: https://pandas.pydata.org/pandas-docs/stable/user_guide/indexing.html#returning-a-view-versus-a-copy\n",
      "  clinical_data_ms.dropna(subset='EDSS', inplace=True)\n"
     ]
    }
   ],
   "source": [
    "clinical_data_ms.dropna(subset='EDSS', inplace=True)\n"
   ]
  },
  {
   "cell_type": "markdown",
   "id": "add8b445",
   "metadata": {},
   "source": [
    "#### Step 4: Calculating Age at EDSS"
   ]
  },
  {
   "cell_type": "code",
   "execution_count": 7,
   "id": "c0f299c2",
   "metadata": {
    "scrolled": true
   },
   "outputs": [
    {
     "name": "stderr",
     "output_type": "stream",
     "text": [
      "/var/folders/p1/h56gxdhs5vgb0ztp7h4z606h0000gn/T/ipykernel_82703/2742805700.py:3: SettingWithCopyWarning: \n",
      "A value is trying to be set on a copy of a slice from a DataFrame.\n",
      "Try using .loc[row_indexer,col_indexer] = value instead\n",
      "\n",
      "See the caveats in the documentation: https://pandas.pydata.org/pandas-docs/stable/user_guide/indexing.html#returning-a-view-versus-a-copy\n",
      "  clinical_data_ms.loc[:, 'EDSS_Year'] = clinical_data_ms['EDSS_Date'].dt.year\n",
      "/var/folders/p1/h56gxdhs5vgb0ztp7h4z606h0000gn/T/ipykernel_82703/2742805700.py:5: SettingWithCopyWarning: \n",
      "A value is trying to be set on a copy of a slice from a DataFrame.\n",
      "Try using .loc[row_indexer,col_indexer] = value instead\n",
      "\n",
      "See the caveats in the documentation: https://pandas.pydata.org/pandas-docs/stable/user_guide/indexing.html#returning-a-view-versus-a-copy\n",
      "  clinical_data_ms.loc[:, 'ageatedss'] = clinical_data_ms['EDSS_Year'] - clinical_data_ms['YOB']\n"
     ]
    }
   ],
   "source": [
    "clinical_data_ms.loc[:, 'EDSS_Date'] = pd.to_datetime(clinical_data_ms['EDSS_Date'])\n",
    "\n",
    "clinical_data_ms.loc[:, 'EDSS_Year'] = clinical_data_ms['EDSS_Date'].dt.year\n",
    "\n",
    "clinical_data_ms.loc[:, 'ageatedss'] = clinical_data_ms['EDSS_Year'] - clinical_data_ms['YOB']\n"
   ]
  },
  {
   "cell_type": "markdown",
   "id": "6bccdceb",
   "metadata": {},
   "source": [
    "#### Step 5: Renaming 'EDSS' column to 'edss'"
   ]
  },
  {
   "cell_type": "code",
   "execution_count": 8,
   "id": "af67c1cd",
   "metadata": {},
   "outputs": [],
   "source": [
    "clinical_data_ms = clinical_data_ms.rename(columns={'EDSS':'edss'})\n"
   ]
  },
  {
   "cell_type": "markdown",
   "id": "fed3036e",
   "metadata": {},
   "source": [
    "#### Step 6: Renaming 'Disease Duration (years)' to 'dd'"
   ]
  },
  {
   "cell_type": "code",
   "execution_count": 9,
   "id": "c56ca5c0",
   "metadata": {},
   "outputs": [],
   "source": [
    "clinical_data_ms = clinical_data_ms.rename(columns={'Disease Duration (years)':'dd'})\n",
    "\n"
   ]
  },
  {
   "cell_type": "markdown",
   "id": "8ac62619",
   "metadata": {},
   "source": [
    "#### Step 8: Extracting relevant columns for ARMSS processing"
   ]
  },
  {
   "cell_type": "code",
   "execution_count": 10,
   "id": "dae6e0e8",
   "metadata": {},
   "outputs": [],
   "source": [
    "clinical_data_ms_prepared = clinical_data_ms[['Record ID', 'ageatedss', 'dd', 'edss']]\n"
   ]
  },
  {
   "cell_type": "markdown",
   "id": "1a6574c4",
   "metadata": {},
   "source": [
    "#### Step 9: Dropping rows with any nan values for the selected columns"
   ]
  },
  {
   "cell_type": "code",
   "execution_count": 11,
   "id": "42995b0a",
   "metadata": {},
   "outputs": [
    {
     "name": "stderr",
     "output_type": "stream",
     "text": [
      "/var/folders/p1/h56gxdhs5vgb0ztp7h4z606h0000gn/T/ipykernel_82703/1483681231.py:1: SettingWithCopyWarning: \n",
      "A value is trying to be set on a copy of a slice from a DataFrame\n",
      "\n",
      "See the caveats in the documentation: https://pandas.pydata.org/pandas-docs/stable/user_guide/indexing.html#returning-a-view-versus-a-copy\n",
      "  clinical_data_ms_prepared.dropna(inplace=True)\n"
     ]
    }
   ],
   "source": [
    "clinical_data_ms_prepared.dropna(inplace=True)"
   ]
  },
  {
   "cell_type": "markdown",
   "id": "c4583aa7",
   "metadata": {},
   "source": [
    "#### Step 10: Save the data"
   ]
  },
  {
   "cell_type": "code",
   "execution_count": 25,
   "id": "241a5c62",
   "metadata": {},
   "outputs": [],
   "source": [
    "clinical_data_ms_prepared = clinical_data_ms_prepared[clinical_data_ms_prepared.edss!='? Not disclosed']\n",
    "clinical_data_ms_prepared = clinical_data_ms_prepared[clinical_data_ms_prepared.edss!='unknown']\n",
    "clinical_data_ms_prepared = clinical_data_ms_prepared[clinical_data_ms_prepared.edss!='2,5']\n",
    "clinical_data_ms_prepared = clinical_data_ms_prepared[clinical_data_ms_prepared.edss!='4 (ambulation 1)']\n",
    "clinical_data_ms_prepared.edss = clinical_data_ms_prepared.edss.astype('float64')\n",
    "\n",
    "clinical_data_ms_prepared.to_csv(SAVE_DATA_PATH, index=False, header=True)\n"
   ]
  },
  {
   "cell_type": "markdown",
   "id": "7f64c378",
   "metadata": {},
   "source": [
    "#### Selecting only UCSF patients"
   ]
  },
  {
   "cell_type": "code",
   "execution_count": 13,
   "id": "53601956",
   "metadata": {},
   "outputs": [],
   "source": [
    "clinical_data_ms_prepared_only_ucsf = clinical_data_ms_prepared[clinical_data_ms_prepared['Record ID'].str.startswith('714')]\n",
    "\n",
    "clinical_data_ms_prepared_only_ucsf.to_csv(UCSF_ONLY_SAVE_DATA_PATH, index=False, header=True)\n"
   ]
  },
  {
   "cell_type": "code",
   "execution_count": 14,
   "id": "08992920",
   "metadata": {},
   "outputs": [
    {
     "name": "stdout",
     "output_type": "stream",
     "text": [
      "Total 1348 MS patients are selected to compute ARMSS score for MS base\n",
      "Total 289 UCSF only MS patients are selected to compute ARMSS score for MS base\n"
     ]
    }
   ],
   "source": [
    "print('Total {} MS patients are selected to compute ARMSS score for MS base'.format(clinical_data_ms_prepared['Record ID'].unique().shape[0]))\n",
    "      \n",
    "print('Total {} UCSF only MS patients are selected to compute ARMSS score for MS base'.format(clinical_data_ms_prepared_only_ucsf['Record ID'].unique().shape[0]))\n",
    "      "
   ]
  },
  {
   "cell_type": "markdown",
   "id": "58cff4f6",
   "metadata": {},
   "source": [
    "#### Output file after ARMSS computation, has following scores:\n",
    "####    gARMSS: global ARMSS\n",
    "####    ugMSSS: updated global MSSS\n",
    "####    ogMSSS: original MSSS\n",
    "####    lMSSS: local MSSS\n",
    "####    lARMSS: local ARMSS\n",
    "\n",
    "#### Ref: https://www.ncbi.nlm.nih.gov/pmc/articles/PMC5700773/pdf/10.1177_1352458517690618.pdf\n",
    "\n",
    "Notes (from above Ref):\n",
    "Creation of the global ARMSS matrix\n",
    "A global ARMSS matrix was constructed using the\n",
    "cross-sectional data set. This matrix included the\n",
    "ARMSS scores obtained for EDSS scores recorded\n",
    "between ages of 18 and 75 years."
   ]
  },
  {
   "cell_type": "code",
   "execution_count": 16,
   "id": "acf66ea0",
   "metadata": {},
   "outputs": [
    {
     "data": {
      "text/html": [
       "<div>\n",
       "<style scoped>\n",
       "    .dataframe tbody tr th:only-of-type {\n",
       "        vertical-align: middle;\n",
       "    }\n",
       "\n",
       "    .dataframe tbody tr th {\n",
       "        vertical-align: top;\n",
       "    }\n",
       "\n",
       "    .dataframe thead th {\n",
       "        text-align: right;\n",
       "    }\n",
       "</style>\n",
       "<table border=\"1\" class=\"dataframe\">\n",
       "  <thead>\n",
       "    <tr style=\"text-align: right;\">\n",
       "      <th></th>\n",
       "      <th>Record ID</th>\n",
       "      <th>ageatedss</th>\n",
       "      <th>dd</th>\n",
       "      <th>edss</th>\n",
       "    </tr>\n",
       "  </thead>\n",
       "  <tbody>\n",
       "    <tr>\n",
       "      <th>36</th>\n",
       "      <td>71401-0001</td>\n",
       "      <td>54.0</td>\n",
       "      <td>4.0</td>\n",
       "      <td>2</td>\n",
       "    </tr>\n",
       "    <tr>\n",
       "      <th>39</th>\n",
       "      <td>71401-0003</td>\n",
       "      <td>40.0</td>\n",
       "      <td>4.0</td>\n",
       "      <td>0</td>\n",
       "    </tr>\n",
       "    <tr>\n",
       "      <th>42</th>\n",
       "      <td>71401-0004</td>\n",
       "      <td>53.0</td>\n",
       "      <td>24.0</td>\n",
       "      <td>4</td>\n",
       "    </tr>\n",
       "    <tr>\n",
       "      <th>43</th>\n",
       "      <td>71401-0005</td>\n",
       "      <td>55.0</td>\n",
       "      <td>31.0</td>\n",
       "      <td>0</td>\n",
       "    </tr>\n",
       "    <tr>\n",
       "      <th>46</th>\n",
       "      <td>71401-0008</td>\n",
       "      <td>42.0</td>\n",
       "      <td>10.0</td>\n",
       "      <td>0</td>\n",
       "    </tr>\n",
       "    <tr>\n",
       "      <th>...</th>\n",
       "      <td>...</td>\n",
       "      <td>...</td>\n",
       "      <td>...</td>\n",
       "      <td>...</td>\n",
       "    </tr>\n",
       "    <tr>\n",
       "      <th>752</th>\n",
       "      <td>71403-0026</td>\n",
       "      <td>51.0</td>\n",
       "      <td>5.0</td>\n",
       "      <td>2</td>\n",
       "    </tr>\n",
       "    <tr>\n",
       "      <th>754</th>\n",
       "      <td>71403-0029</td>\n",
       "      <td>57.0</td>\n",
       "      <td>0.0</td>\n",
       "      <td>1.5</td>\n",
       "    </tr>\n",
       "    <tr>\n",
       "      <th>756</th>\n",
       "      <td>71403-0032</td>\n",
       "      <td>41.0</td>\n",
       "      <td>5.0</td>\n",
       "      <td>3</td>\n",
       "    </tr>\n",
       "    <tr>\n",
       "      <th>757</th>\n",
       "      <td>71403-0034</td>\n",
       "      <td>52.0</td>\n",
       "      <td>28.0</td>\n",
       "      <td>3</td>\n",
       "    </tr>\n",
       "    <tr>\n",
       "      <th>758</th>\n",
       "      <td>71403-0035</td>\n",
       "      <td>68.0</td>\n",
       "      <td>10.0</td>\n",
       "      <td>4.5</td>\n",
       "    </tr>\n",
       "  </tbody>\n",
       "</table>\n",
       "<p>289 rows × 4 columns</p>\n",
       "</div>"
      ],
      "text/plain": [
       "      Record ID  ageatedss    dd edss\n",
       "36   71401-0001       54.0   4.0    2\n",
       "39   71401-0003       40.0   4.0    0\n",
       "42   71401-0004       53.0  24.0    4\n",
       "43   71401-0005       55.0  31.0    0\n",
       "46   71401-0008       42.0  10.0    0\n",
       "..          ...        ...   ...  ...\n",
       "752  71403-0026       51.0   5.0    2\n",
       "754  71403-0029       57.0   0.0  1.5\n",
       "756  71403-0032       41.0   5.0    3\n",
       "757  71403-0034       52.0  28.0    3\n",
       "758  71403-0035       68.0  10.0  4.5\n",
       "\n",
       "[289 rows x 4 columns]"
      ]
     },
     "execution_count": 16,
     "metadata": {},
     "output_type": "execute_result"
    }
   ],
   "source": [
    "clinical_data_ms_prepared_only_ucsf"
   ]
  },
  {
   "cell_type": "code",
   "execution_count": 14,
   "id": "7a0246ba",
   "metadata": {},
   "outputs": [
    {
     "data": {
      "text/plain": [
       "(1349, 4)"
      ]
     },
     "execution_count": 14,
     "metadata": {},
     "output_type": "execute_result"
    }
   ],
   "source": [
    "clinical_data_ms_prepared.shape"
   ]
  },
  {
   "cell_type": "code",
   "execution_count": null,
   "id": "e3065b88",
   "metadata": {},
   "outputs": [],
   "source": []
  },
  {
   "cell_type": "code",
   "execution_count": 2,
   "id": "a0f0b2e9-93ba-493e-8a56-2ea0df5024e9",
   "metadata": {},
   "outputs": [],
   "source": [
    "## After ARMSS computation and Cuquita EPIC annottation"
   ]
  },
  {
   "cell_type": "code",
   "execution_count": 1,
   "id": "7a612409-fb0f-431b-90b7-31f30bb0311a",
   "metadata": {},
   "outputs": [
    {
     "name": "stderr",
     "output_type": "stream",
     "text": [
      "/Users/karthiksoman/anaconda3/lib/python3.10/site-packages/pandas/core/arrays/masked.py:60: UserWarning: Pandas requires version '1.3.6' or newer of 'bottleneck' (version '1.3.5' currently installed).\n",
      "  from pandas.core import (\n"
     ]
    }
   ],
   "source": [
    "import pandas as pd\n"
   ]
  },
  {
   "cell_type": "code",
   "execution_count": 16,
   "id": "41018251-5b61-409d-a5a2-5094b5a70658",
   "metadata": {},
   "outputs": [],
   "source": [
    "df = pd.read_excel('../../wetlab/data/patient_selection/ms_base_epic_ids/iMSMS_EPIC.xlsx', engine='openpyxl')\n",
    "df_ = df[df['EPIC_Status'] == 'EPIC 1 (Yr 20 candidate)']\n",
    "df_ = df_.sort_values(by='gARMSS', ascending=False)\n",
    "df_.dropna(subset='gARMSS', inplace=True)\n"
   ]
  },
  {
   "cell_type": "code",
   "execution_count": 33,
   "id": "08efcbce-5e45-48a3-aadc-0a5f0e676995",
   "metadata": {},
   "outputs": [
    {
     "name": "stderr",
     "output_type": "stream",
     "text": [
      "/var/folders/p1/h56gxdhs5vgb0ztp7h4z606h0000gn/T/ipykernel_21400/1299532645.py:4: SettingWithCopyWarning: \n",
      "A value is trying to be set on a copy of a slice from a DataFrame\n",
      "\n",
      "See the caveats in the documentation: https://pandas.pydata.org/pandas-docs/stable/user_guide/indexing.html#returning-a-view-versus-a-copy\n",
      "  df_top.drop(['lARMSS', 'lMSSS', 'uGMSSS', 'oGMSSS'], axis=1, inplace=True)\n",
      "/var/folders/p1/h56gxdhs5vgb0ztp7h4z606h0000gn/T/ipykernel_21400/1299532645.py:5: SettingWithCopyWarning: \n",
      "A value is trying to be set on a copy of a slice from a DataFrame\n",
      "\n",
      "See the caveats in the documentation: https://pandas.pydata.org/pandas-docs/stable/user_guide/indexing.html#returning-a-view-versus-a-copy\n",
      "  df_bottom.drop(['lARMSS', 'lMSSS', 'uGMSSS', 'oGMSSS'], axis=1, inplace=True)\n",
      "/var/folders/p1/h56gxdhs5vgb0ztp7h4z606h0000gn/T/ipykernel_21400/1299532645.py:7: SettingWithCopyWarning: \n",
      "A value is trying to be set on a copy of a slice from a DataFrame\n",
      "\n",
      "See the caveats in the documentation: https://pandas.pydata.org/pandas-docs/stable/user_guide/indexing.html#returning-a-view-versus-a-copy\n",
      "  df_top.rename(columns={'gARMSS':'global_ARMSS', 'dd':'Disease Duration (years)'}, inplace=True)\n",
      "/var/folders/p1/h56gxdhs5vgb0ztp7h4z606h0000gn/T/ipykernel_21400/1299532645.py:8: SettingWithCopyWarning: \n",
      "A value is trying to be set on a copy of a slice from a DataFrame\n",
      "\n",
      "See the caveats in the documentation: https://pandas.pydata.org/pandas-docs/stable/user_guide/indexing.html#returning-a-view-versus-a-copy\n",
      "  df_bottom.rename(columns={'gARMSS':'global_ARMSS', 'dd':'Disease Duration (years)'}, inplace=True)\n"
     ]
    }
   ],
   "source": [
    "df_top = df_.head(10)\n",
    "df_bottom = df_.tail(10)\n",
    "\n",
    "df_top.drop(['lARMSS', 'lMSSS', 'uGMSSS', 'oGMSSS'], axis=1, inplace=True)\n",
    "df_bottom.drop(['lARMSS', 'lMSSS', 'uGMSSS', 'oGMSSS'], axis=1, inplace=True)\n",
    "\n",
    "df_top.rename(columns={'gARMSS':'global_ARMSS', 'dd':'Disease Duration (years)'}, inplace=True)\n",
    "df_bottom.rename(columns={'gARMSS':'global_ARMSS', 'dd':'Disease Duration (years)'}, inplace=True)\n",
    "\n"
   ]
  },
  {
   "cell_type": "code",
   "execution_count": 35,
   "id": "5693d0ac-aa0a-4a11-9c41-2e9e9269e6cb",
   "metadata": {},
   "outputs": [],
   "source": [
    "with pd.ExcelWriter('../../wetlab/data/patient_selection/ms_base_epic_ids/iMSMS_EPIC_patient_selection.xlsx', engine='openpyxl') as writer:\n",
    "    df_top.to_excel(writer, sheet_name='patients with high ARMSS score', index=False)\n",
    "    df_bottom.to_excel(writer, sheet_name='patients with low ARMSS score', index=False)\n"
   ]
  },
  {
   "cell_type": "code",
   "execution_count": null,
   "id": "426c8fa2-2625-47d5-94f5-2e0984c5c2a6",
   "metadata": {},
   "outputs": [],
   "source": []
  }
 ],
 "metadata": {
  "kernelspec": {
   "display_name": "Python 3 (ipykernel)",
   "language": "python",
   "name": "python3"
  },
  "language_info": {
   "codemirror_mode": {
    "name": "ipython",
    "version": 3
   },
   "file_extension": ".py",
   "mimetype": "text/x-python",
   "name": "python",
   "nbconvert_exporter": "python",
   "pygments_lexer": "ipython3",
   "version": "3.10.9"
  }
 },
 "nbformat": 4,
 "nbformat_minor": 5
}
