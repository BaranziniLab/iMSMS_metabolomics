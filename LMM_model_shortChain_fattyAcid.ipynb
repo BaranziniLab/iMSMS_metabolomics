{
 "cells": [
  {
   "cell_type": "code",
   "execution_count": null,
   "id": "e826903a",
   "metadata": {},
   "outputs": [],
   "source": [
    "from paths import *\n",
    "import pandas as pd\n",
    "import os\n",
    "import statsmodels.api as sm\n",
    "from sklearn.preprocessing import LabelEncoder\n",
    "import matplotlib.pyplot as plt\n",
    "import matplotlib.patches as mpatches\n",
    "from tqdm import tqdm\n",
    "import joblib\n",
    "\n"
   ]
  },
  {
   "cell_type": "code",
   "execution_count": 5,
   "id": "06ad9031",
   "metadata": {},
   "outputs": [],
   "source": [
    "def lmm_model(data_analyte, maxiter=1000):\n",
    "    le = LabelEncoder()\n",
    "    data_analyte['Disease_label'] = le.fit_transform(data_analyte['Group Name'])\n",
    "    data_analyte['Gender_label'] = le.fit_transform(data_analyte['Gender'])\n",
    "    data_analyte['site'] = data_analyte['Client Sample ID'].str[:3]\n",
    "    data_analyte['site'] = data_analyte['site'].astype(\"int\")\n",
    "    data_analyte = data_analyte[[\"Result\", \"Disease_label\", \"Age\", \"BMI\", \"Gender_label\", \"site\", \"house\"]]\n",
    "    '''\n",
    "    In the LMM model here, we consider site and house as crossed random effects (because each site holds household pairs)\n",
    "    This crossed random effect is implemented in the model (as shown below) based on these references:\n",
    "        https://www.statsmodels.org/stable/mixed_linear.html\n",
    "        https://stackoverflow.com/questions/59359568/from-2d-to-1d-how-to-pass-a-second-random-effect-in-mixed-model-python-statsm)\n",
    "        https://www.statsmodels.org/devel/generated/statsmodels.regression.mixed_linear_model.MixedLM.from_formula.html#statsmodels.regression.mixed_linear_model.MixedLM.from_formula\n",
    "    '''\n",
    "    data_analyte[\"group\"] = 1    # all in the case group \n",
    "    re_formula = \"~(1|site) + (1|house)\" \n",
    "    vcf = {\"site\": \"0 + C(site)\", \"house\": \"0 + C(house)\"}  # formula selected for the variance-covariance structure of the random effects in LMM\n",
    "    formula = \"Result ~ Disease_label + Age + BMI + Gender_label\"\n",
    "    model = sm.MixedLM.from_formula(formula, \n",
    "                                 data_analyte, \n",
    "                                 groups=data_analyte['group'], \n",
    "                                 re_formula=re_formula,\n",
    "                                 vc_formula=vcf)\n",
    "    print(\"Fitting the model...\")\n",
    "    mdf = model.fit(maxiter=maxiter)\n",
    "    print(\"Completed model fitting!\")\n",
    "    return mdf\n",
    "\n",
    "\n"
   ]
  },
  {
   "cell_type": "markdown",
   "id": "e57547f0",
   "metadata": {},
   "source": [
    "## Loading data of Targeted compounds"
   ]
  },
  {
   "cell_type": "code",
   "execution_count": 6,
   "id": "d763a3de",
   "metadata": {},
   "outputs": [
    {
     "data": {
      "text/html": [
       "<div>\n",
       "<style scoped>\n",
       "    .dataframe tbody tr th:only-of-type {\n",
       "        vertical-align: middle;\n",
       "    }\n",
       "\n",
       "    .dataframe tbody tr th {\n",
       "        vertical-align: top;\n",
       "    }\n",
       "\n",
       "    .dataframe thead th {\n",
       "        text-align: right;\n",
       "    }\n",
       "</style>\n",
       "<table border=\"1\" class=\"dataframe\">\n",
       "  <thead>\n",
       "    <tr style=\"text-align: right;\">\n",
       "      <th></th>\n",
       "      <th>Unique Tube Label ID</th>\n",
       "      <th>Client Sample ID</th>\n",
       "      <th>Client Matrix</th>\n",
       "      <th>Sample Description</th>\n",
       "      <th>Group Name</th>\n",
       "      <th>Treatment</th>\n",
       "      <th>Gender</th>\n",
       "      <th>Age</th>\n",
       "      <th>BMI</th>\n",
       "      <th>Race / Ethnicity</th>\n",
       "      <th>Analyte</th>\n",
       "      <th>Result</th>\n",
       "      <th>Unit</th>\n",
       "      <th>Dilution Factor</th>\n",
       "      <th>LLOQ</th>\n",
       "      <th>ULOQ</th>\n",
       "      <th>Analysis Comment</th>\n",
       "    </tr>\n",
       "  </thead>\n",
       "  <tbody>\n",
       "    <tr>\n",
       "      <th>1000</th>\n",
       "      <td>FS10431265</td>\n",
       "      <td>71701-0004</td>\n",
       "      <td>serum</td>\n",
       "      <td>serum</td>\n",
       "      <td>MS</td>\n",
       "      <td>Treated</td>\n",
       "      <td>F</td>\n",
       "      <td>52.0</td>\n",
       "      <td>19.422970</td>\n",
       "      <td>Caucasian/Hispanic</td>\n",
       "      <td>2-Methylbutyric acid</td>\n",
       "      <td>73.66340</td>\n",
       "      <td>ng/mL</td>\n",
       "      <td>1</td>\n",
       "      <td>25</td>\n",
       "      <td>2500</td>\n",
       "      <td>NaN</td>\n",
       "    </tr>\n",
       "    <tr>\n",
       "      <th>1001</th>\n",
       "      <td>FS10431273</td>\n",
       "      <td>71601-0150</td>\n",
       "      <td>serum</td>\n",
       "      <td>serum</td>\n",
       "      <td>MS</td>\n",
       "      <td>Off</td>\n",
       "      <td>F</td>\n",
       "      <td>51.0</td>\n",
       "      <td>25.501750</td>\n",
       "      <td>Caucasian/Hispanic</td>\n",
       "      <td>2-Methylbutyric acid</td>\n",
       "      <td>48.47522</td>\n",
       "      <td>ng/mL</td>\n",
       "      <td>1</td>\n",
       "      <td>25</td>\n",
       "      <td>2500</td>\n",
       "      <td>NaN</td>\n",
       "    </tr>\n",
       "    <tr>\n",
       "      <th>1002</th>\n",
       "      <td>FS10431281</td>\n",
       "      <td>71602-0150</td>\n",
       "      <td>serum</td>\n",
       "      <td>serum</td>\n",
       "      <td>Control</td>\n",
       "      <td>Control</td>\n",
       "      <td>M</td>\n",
       "      <td>52.0</td>\n",
       "      <td>34.970939</td>\n",
       "      <td>Caucasian/Hispanic</td>\n",
       "      <td>2-Methylbutyric acid</td>\n",
       "      <td>38.87322</td>\n",
       "      <td>ng/mL</td>\n",
       "      <td>1</td>\n",
       "      <td>25</td>\n",
       "      <td>2500</td>\n",
       "      <td>NaN</td>\n",
       "    </tr>\n",
       "    <tr>\n",
       "      <th>1003</th>\n",
       "      <td>FS10431289</td>\n",
       "      <td>71601-0164</td>\n",
       "      <td>serum</td>\n",
       "      <td>serum</td>\n",
       "      <td>MS</td>\n",
       "      <td>Treated</td>\n",
       "      <td>M</td>\n",
       "      <td>56.0</td>\n",
       "      <td>26.544467</td>\n",
       "      <td>Caucasian/Hispanic</td>\n",
       "      <td>2-Methylbutyric acid</td>\n",
       "      <td>129.41031</td>\n",
       "      <td>ng/mL</td>\n",
       "      <td>1</td>\n",
       "      <td>25</td>\n",
       "      <td>2500</td>\n",
       "      <td>NaN</td>\n",
       "    </tr>\n",
       "    <tr>\n",
       "      <th>1004</th>\n",
       "      <td>FS10431297</td>\n",
       "      <td>71602-0164</td>\n",
       "      <td>serum</td>\n",
       "      <td>serum</td>\n",
       "      <td>Control</td>\n",
       "      <td>Control</td>\n",
       "      <td>F</td>\n",
       "      <td>53.0</td>\n",
       "      <td>31.176140</td>\n",
       "      <td>Caucasian/Hispanic</td>\n",
       "      <td>2-Methylbutyric acid</td>\n",
       "      <td>85.74194</td>\n",
       "      <td>ng/mL</td>\n",
       "      <td>1</td>\n",
       "      <td>25</td>\n",
       "      <td>2500</td>\n",
       "      <td>NaN</td>\n",
       "    </tr>\n",
       "  </tbody>\n",
       "</table>\n",
       "</div>"
      ],
      "text/plain": [
       "     Unique Tube Label ID Client Sample ID Client Matrix Sample Description  \\\n",
       "1000           FS10431265       71701-0004         serum              serum   \n",
       "1001           FS10431273       71601-0150         serum              serum   \n",
       "1002           FS10431281       71602-0150         serum              serum   \n",
       "1003           FS10431289       71601-0164         serum              serum   \n",
       "1004           FS10431297       71602-0164         serum              serum   \n",
       "\n",
       "     Group Name Treatment Gender   Age        BMI    Race / Ethnicity  \\\n",
       "1000         MS   Treated      F  52.0  19.422970  Caucasian/Hispanic   \n",
       "1001         MS       Off      F  51.0  25.501750  Caucasian/Hispanic   \n",
       "1002    Control   Control      M  52.0  34.970939  Caucasian/Hispanic   \n",
       "1003         MS   Treated      M  56.0  26.544467  Caucasian/Hispanic   \n",
       "1004    Control   Control      F  53.0  31.176140  Caucasian/Hispanic   \n",
       "\n",
       "                   Analyte     Result   Unit  Dilution Factor  LLOQ  ULOQ  \\\n",
       "1000  2-Methylbutyric acid   73.66340  ng/mL                1    25  2500   \n",
       "1001  2-Methylbutyric acid   48.47522  ng/mL                1    25  2500   \n",
       "1002  2-Methylbutyric acid   38.87322  ng/mL                1    25  2500   \n",
       "1003  2-Methylbutyric acid  129.41031  ng/mL                1    25  2500   \n",
       "1004  2-Methylbutyric acid   85.74194  ng/mL                1    25  2500   \n",
       "\n",
       "     Analysis Comment  \n",
       "1000              NaN  \n",
       "1001              NaN  \n",
       "1002              NaN  \n",
       "1003              NaN  \n",
       "1004              NaN  "
      ]
     },
     "execution_count": 6,
     "metadata": {},
     "output_type": "execute_result"
    }
   ],
   "source": [
    "'''\n",
    "Note that, here we are taking all samples without applying the threshold of \"Analysis Comment\". This is because,\n",
    "if we apply the threshold, each analyte will have different number of patient samples.\n",
    "Hence, there could be a sample effect on the parameter estimation, for e.g. one analyte's parameter may be estimated\n",
    "from N1 samples and the other analyte's parameter estimated from N2 samples. If N2<<N1, then the estimated model parameters\n",
    "maynot be comparable. Hence, to ensure that all analyte's model parameters are estimated from the same set of patient samples,\n",
    "we are not applying this \"Analysis Comment\" threshold.\n",
    "'''\n",
    "\n",
    "sample = \"serum\"\n",
    "\n",
    "filename = SHORT_CHAIN_FATTY_ACID_DATA_FILENAME\n",
    "mapping_filename = \"short_chain_fatty_acid_spoke_map.csv\"\n",
    "file_path = os.path.join(DATA_ROOT_PATH, filename)\n",
    "mapping_filepath = os.path.join(OUTPUT_PATH, mapping_filename)\n",
    "data = pd.read_excel(file_path, engine='openpyxl')\n",
    "data = data[data[\"Client Matrix\"]==sample]\n",
    "mapping_data = pd.read_csv(mapping_filepath)\n",
    "analytes = mapping_data[\"name\"].unique()\n",
    "data.head()\n"
   ]
  },
  {
   "cell_type": "code",
   "execution_count": null,
   "id": "d2873ced",
   "metadata": {},
   "outputs": [],
   "source": [
    "\"\"\"\n",
    "Data will be pre-processed as follows:\n",
    "    1. Remove patients with missing values (remove their paired partner too even if they have all values. This is to balance the data in terms of the diet)\n",
    "    2. Remove patients with outlier values in the specific analyte concentration (also their paired partner, for the same reason mentioned above)\n",
    "\n",
    "Build 2 models (for each sample serum/feces):\n",
    "    Model 1 - Stringent model \n",
    "        This model uses the fully pre-processed data as mentioned above. Hence, it does not use outlier and missing values.\n",
    "    Model 2 - Less stringent model\n",
    "        This model uses partially pre-processed data. i.e. data obtained after removing missing values (point 1 of pre-processing).\n",
    "        Hence, it uses outlier values and no missing values.\n",
    "\n",
    "Even though we compute Model 1 for all analytes, for the downstream analysis, we may only consider those Model 1 models of analytes for which there exists at least 800 patient samples after pre-processing.\n",
    "\"\"\"\n"
   ]
  },
  {
   "cell_type": "markdown",
   "id": "7ac3beaa",
   "metadata": {},
   "source": [
    "## Check count of patient samples for each analyte after pre-processing"
   ]
  },
  {
   "cell_type": "code",
   "execution_count": null,
   "id": "fd8b4616",
   "metadata": {},
   "outputs": [],
   "source": [
    "data['house'] = data['Client Sample ID'].str[:3] + data['Client Sample ID'].str[-4:]\n",
    "data['house'] = data['house'].astype(\"int\")\n",
    "data_exclude_outlier_threshold_column = data.drop(\"Analysis Comment\", axis=1)\n",
    "house_to_exclude = data_exclude_outlier_threshold_column[data_exclude_outlier_threshold_column.isna().any(axis=1)].house.values\n",
    "data_nan_removed = data[~data[\"house\"].isin(house_to_exclude)]\n",
    "\n",
    "data_outlier_removed = data_nan_removed[data_nan_removed[\"Analysis Comment\"].isna()]\n",
    "data_outlier_removed.drop(\"Analysis Comment\", axis=1, inplace=True)\n",
    "\n",
    "\n",
    "#Removing unpaired house for each analyte after removing the outliers, so that we get paired MS and control patients\n",
    "\n",
    "#Step 1: Group by \"Analyte\" and \"house\" and count the number of occurrences of each group\n",
    "group_counts = data_outlier_removed.groupby(['Analyte', 'house']).size()\n",
    "\n",
    "#Step 2: Get the list of index values where the count is 2\n",
    "valid_index = group_counts[group_counts == 2].reset_index().set_index(['Analyte', 'house']).index\n",
    "\n",
    "#Step 3: Filter the DataFrame to keep only the rows with paired \"house\" values for each \"Analyte\"\n",
    "data_outlier_removed = data_outlier_removed.set_index(['Analyte', 'house']).loc[valid_index].reset_index()\n",
    "\n",
    "analyte_sample_count_after_pre_processing = data_outlier_removed.groupby('Analyte')['Unique Tube Label ID'].nunique().to_dict()\n",
    "\n"
   ]
  },
  {
   "cell_type": "code",
   "execution_count": 8,
   "id": "98f959bf",
   "metadata": {},
   "outputs": [
    {
     "data": {
      "text/plain": [
       "{'2-Methylbutyric acid': 996,\n",
       " 'Acetic acid': 846,\n",
       " 'Butyric acid': 856,\n",
       " 'Hexanoic acid': 340,\n",
       " 'Isobutyric acid': 996,\n",
       " 'Isovaleric acid': 994,\n",
       " 'Propionic acid': 398,\n",
       " 'Valeric acid': 8}"
      ]
     },
     "execution_count": 8,
     "metadata": {},
     "output_type": "execute_result"
    }
   ],
   "source": [
    "analyte_sample_count_after_pre_processing"
   ]
  },
  {
   "cell_type": "markdown",
   "id": "cba9adc4",
   "metadata": {},
   "source": [
    "## Plotting the final count of patient samples after pre-processing"
   ]
  },
  {
   "cell_type": "code",
   "execution_count": 9,
   "id": "ac8554fb",
   "metadata": {},
   "outputs": [
    {
     "data": {
      "image/png": "[encoded data removed]",
      "text/plain": [
       "<Figure size 720x288 with 1 Axes>"
      ]
     },
     "metadata": {
      "needs_background": "light"
     },
     "output_type": "display_data"
    },
    {
     "name": "stdout",
     "output_type": "stream",
     "text": [
      "Saving the figure ...\n"
     ]
    }
   ],
   "source": [
    "fontsize = 20\n",
    "figsize = (10,4)\n",
    "\n",
    "fig = plt.figure(figsize=figsize)\n",
    "\n",
    "ax = plt.gca()\n",
    "\n",
    "# group the data by analyte and group name, and get the unique count of unique tube label ID\n",
    "grouped = data_outlier_removed.groupby(['Analyte', 'Group Name'])['Unique Tube Label ID'].nunique().reset_index()\n",
    "\n",
    "# pivot the table to get the count for each group name as separate columns\n",
    "pivoted = grouped.pivot(index='Analyte', columns='Group Name', values='Unique Tube Label ID')\n",
    "\n",
    "# create the bar plot for each analyte\n",
    "for i, analyte in enumerate(pivoted.index):\n",
    "    ms_count = pivoted.loc[analyte, 'MS']\n",
    "    control_count = pivoted.loc[analyte, 'Control']\n",
    "    total_count = ms_count + control_count    \n",
    "    \n",
    "    # plot red bar for MS count\n",
    "    ax.bar(i, ms_count, color='red', width=0.7, align='center')\n",
    "    # plot light blue bar for control count\n",
    "    ax.bar(i, control_count, color='lightblue', width=0.7, align='center', bottom=control_count)\n",
    "    # add the total count above the bars\n",
    "    ax.text(i, total_count+50, f'{total_count}', ha='center', fontsize=fontsize-4)\n",
    "    # add the count for each group name on top of the bars\n",
    "    ax.text(i, control_count/2, f'{control_count}', ha='center', fontsize=fontsize-4, color='black')\n",
    "    ax.text(i, control_count+ms_count/2, f'{ms_count}', ha='center', fontsize=fontsize-4, color='black')\n",
    "\n",
    "# set the x-axis labels to be the analyte names\n",
    "ax.set_xticks(range(len(pivoted.index)))\n",
    "ax.set_xticklabels(pivoted.index, fontsize=12, rotation=45, ha='right')\n",
    "\n",
    "# set the y-axis label and tick labels\n",
    "# ax.set_ylabel('Unique Tube Label ID Count', fontsize=12)\n",
    "ax.tick_params(axis='y', labelsize=12)\n",
    "\n",
    "# remove the top and right spines\n",
    "ax.spines['top'].set_visible(False)\n",
    "ax.spines['right'].set_visible(False)\n",
    "\n",
    "# set the x label and title\n",
    "plt.xlabel('Analyte',fontsize=fontsize)\n",
    "plt.ylabel('Patient samples',fontsize=fontsize)\n",
    "\n",
    "plt.xticks(rotation=45, fontsize=fontsize-5)\n",
    "plt.yticks(fontsize=fontsize-5)\n",
    "plt.gca().spines['top'].set_visible(False)\n",
    "plt.gca().spines['right'].set_visible(False)\n",
    "\n",
    "# add legend box\n",
    "blue_patch = mpatches.Patch(color='lightblue', label='Control')\n",
    "red_patch = mpatches.Patch(color='red', label='MS')\n",
    "plt.legend(handles=[blue_patch, red_patch], fontsize=fontsize-5)\n",
    "plt.show()\n",
    "\n",
    "print('Saving the figure ...')\n",
    "fig_filename = os.path.join(OUTPUT_PATH, \"figures\", \"shortChain_fattyAcid_patient_counts_{}_sample.svg\".format(sample))\n",
    "fig.savefig(fig_filename, format='svg', bbox_inches='tight')\n"
   ]
  },
  {
   "cell_type": "markdown",
   "id": "1b3a42fb",
   "metadata": {},
   "source": [
    "## Linear Mixed Effects Models (LMM) with fully pre-processed data (This takes < 2 min to run)"
   ]
  },
  {
   "cell_type": "code",
   "execution_count": null,
   "id": "b9dd27df",
   "metadata": {},
   "outputs": [],
   "source": [
    "analyte_stringent_model_list = []\n",
    "for analyte in tqdm(analytes):\n",
    "    mdf = lmm_model(data_outlier_removed[data_outlier_removed[\"Analyte\"] == analyte], maxiter=10000)\n",
    "    analyte_stringent_model_list.append({\"analyte\": analyte, \n",
    "                                         \"patient_sample_count\":analyte_sample_count_after_pre_processing[analyte], \n",
    "                                         \"model\": mdf})\n",
    "    \n",
    "joblib.dump(analyte_stringent_model_list, os.path.join(OUTPUT_PATH, \"shortChain_fattyAcid_stringentModel.joblib\"))\n"
   ]
  },
  {
   "cell_type": "markdown",
   "id": "9cfb6815",
   "metadata": {},
   "source": [
    "## LMM using data with outlier values, but excluding missing data (This takes ~2hr to run)\n"
   ]
  },
  {
   "cell_type": "code",
   "execution_count": null,
   "id": "b386c34a",
   "metadata": {},
   "outputs": [],
   "source": [
    "analyte_less_stringent_model_list = []\n",
    "for analyte in tqdm(analytes):\n",
    "    mdf = lmm_model(data_nan_removed[data_nan_removed[\"Analyte\"] == analyte], maxiter=10000)\n",
    "    analyte_less_stringent_model_list.append({\"analyte\": analyte, \n",
    "                                              \"patient_sample_count\":data_nan_removed[data_nan_removed[\"Analyte\"] == analyte].shape[0], \n",
    "                                              \"model\":mdf})\n",
    "\n",
    "joblib.dump(analyte_less_stringent_model_list, os.path.join(OUTPUT_PATH, \"shortChain_fattyAcid_less_stringentModel.joblib\"))\n"
   ]
  },
  {
   "cell_type": "markdown",
   "id": "15aebf55",
   "metadata": {},
   "source": [
    "## LMM on MS patients who undergoes treatment (along with their control pairs, this takes ~21 seconds to run)"
   ]
  },
  {
   "cell_type": "code",
   "execution_count": 35,
   "id": "46bc6dc1",
   "metadata": {},
   "outputs": [
    {
     "name": "stdout",
     "output_type": "stream",
     "text": [
      "There 267 MS patients that undergo treatment\n",
      "Hence, total samples =  534\n"
     ]
    }
   ],
   "source": [
    "house_to_include = data_outlier_removed[data_outlier_removed.Treatment==\"Treated\"][\"house\"].unique()\n",
    "data_outlier_removed_ms_treated = data_outlier_removed[data_outlier_removed.house.isin(house_to_include)]\n",
    "print(\"There are {} MS patients that undergo treatment\".format(house_to_include.shape[0]))\n",
    "print(\"Hence, total samples = \", data_outlier_removed_ms_treated[\"Unique Tube Label ID\"].unique().shape[0])\n",
    "\n",
    "analyte_stringent_model_ms_treated_list = []\n",
    "for analyte in tqdm(analytes):\n",
    "    try:\n",
    "        mdf = lmm_model(data_outlier_removed_ms_treated[data_outlier_removed_ms_treated[\"Analyte\"] == analyte], maxiter=10000)\n",
    "    except: \n",
    "        mdf = None\n",
    "    analyte_stringent_model_ms_treated_list.append({\"analyte\": analyte, \n",
    "                                     \"patient_sample_count\": data_outlier_removed_ms_treated[data_outlier_removed_ms_treated[\"Analyte\"] == analyte].shape[0], \n",
    "                                     \"model\": mdf})\n",
    "\n",
    "joblib.dump(analyte_stringent_model_ms_treated_list, os.path.join(OUTPUT_PATH, \"shortChain_fattyAcid_stringentModel_MS_treated.joblib\"))\n",
    "    "
   ]
  },
  {
   "cell_type": "markdown",
   "id": "87c8ad96",
   "metadata": {},
   "source": [
    "## LMM on MS patients that are not undergoing treatment (along with their control pairs, this takes 15 seconds to run)"
   ]
  },
  {
   "cell_type": "code",
   "execution_count": 51,
   "id": "3055c76b",
   "metadata": {},
   "outputs": [
    {
     "name": "stdout",
     "output_type": "stream",
     "text": [
      "There are 231 MS patients that do not undergo treatment\n",
      "Hence, total samples =  462\n"
     ]
    }
   ],
   "source": [
    "house_to_include = data_outlier_removed[data_outlier_removed.Treatment==\"Off\"][\"house\"].unique()\n",
    "data_outlier_removed_ms_not_treated = data_outlier_removed[data_outlier_removed.house.isin(house_to_include)]\n",
    "print(\"There are {} MS patients that do not undergo treatment\".format(house_to_include.shape[0]))\n",
    "print(\"Hence, total samples = \", data_outlier_removed_ms_not_treated[\"Unique Tube Label ID\"].unique().shape[0])\n",
    "\n",
    "analyte_stringent_model_ms_not_treated_list = []\n",
    "for analyte in tqdm(analytes):\n",
    "    try:\n",
    "        mdf = lmm_model(data_outlier_removed_ms_not_treated[data_outlier_removed_ms_not_treated[\"Analyte\"] == analyte], maxiter=10000)\n",
    "    except:\n",
    "        mdf = None\n",
    "    analyte_stringent_model_ms_not_treated_list.append({\"analyte\": analyte, \n",
    "                                     \"patient_sample_count\": data_outlier_removed_ms_not_treated[data_outlier_removed_ms_not_treated[\"Analyte\"] == analyte].shape[0], \n",
    "                                     \"model\": mdf})\n",
    "    \n",
    "joblib.dump(analyte_stringent_model_ms_not_treated_list, os.path.join(OUTPUT_PATH, \"shortChain_fattyAcid_stringentModel_MS_not_treated.joblib\"))\n",
    "        \n",
    "        "
   ]
  },
  {
   "cell_type": "code",
   "execution_count": null,
   "id": "36f51508",
   "metadata": {},
   "outputs": [],
   "source": []
  },
  {
   "cell_type": "code",
   "execution_count": null,
   "id": "02e116c2",
   "metadata": {},
   "outputs": [],
   "source": []
  },
  {
   "cell_type": "code",
   "execution_count": null,
   "id": "949297cd",
   "metadata": {},
   "outputs": [],
   "source": []
  },
  {
   "cell_type": "code",
   "execution_count": null,
   "id": "eb1cfab2",
   "metadata": {},
   "outputs": [],
   "source": []
  },
  {
   "cell_type": "code",
   "execution_count": 172,
   "id": "b072a883",
   "metadata": {},
   "outputs": [],
   "source": [
    "# # Get predicted values and residuals from the mixed effects model\n",
    "# predicted_values = mdf.predict()\n",
    "# residuals = mdf.resid\n",
    "\n",
    "# # Create the plot\n",
    "# plt.scatter(predicted_values, residuals, alpha=0.5)\n",
    "# plt.xlabel(\"Predicted Values\")\n",
    "# plt.ylabel(\"Residuals\")\n",
    "# plt.title(\"Residual vs Predicted Value Plot\")\n",
    "# # plt.axhline(y=0, color='r', linestyle='--') # Add a horizontal line at y=0 for reference\n",
    "# plt.show()\n",
    "\n",
    "\n",
    "\n",
    "\n",
    "# def get_data(data_type, sample):\n",
    "#     data_chemical_annotation = []\n",
    "#     data_sample_metadata = []\n",
    "#     if data_type == \"targeted\":\n",
    "#         filename = SHORT_CHAIN_FATTY_ACID_DATA_FILENAME\n",
    "#         mapping_filename = \"short_chain_fatty_acid_spoke_map.csv\"\n",
    "#         file_path = os.path.join(DATA_ROOT_PATH, filename)\n",
    "#         mapping_filepath = os.path.join(OUTPUT_PATH, mapping_filename)\n",
    "#         data = pd.read_excel(file_path, engine='openpyxl')\n",
    "#         data = data[data[\"Client Matrix\"]==sample]\n",
    "# #         data = data[data[\"Analysis Comment\"].isna()]\n",
    "#         mapping_data = pd.read_csv(mapping_filepath)\n",
    "#         analytes = mapping_data[\"name\"].unique()\n",
    "#     elif data_type == \"global\":\n",
    "#         sheet_name = [\"Chemical Annotation\", \"Sample Meta Data\", \"Log Transformed Data\"]\n",
    "#         mapping_filename = \"global_metabolomics_compound_spoke_map.csv\"\n",
    "#         if sample == \"serum\":\n",
    "#             filename = GLOBAL_SERUM_DATA_FILENAME\n",
    "#         else:\n",
    "#             filename = GLOBAL_STOOL_DATA_FILENAME\n",
    "#         file_path = os.path.join(DATA_ROOT_PATH, filename)\n",
    "#         mapping_filepath = os.path.join(OUTPUT_PATH, mapping_filename)\n",
    "#         data_chemical_annotation = pd.read_excel(file_path, engine='openpyxl', sheet_name=sheet_name[0])\n",
    "#         data_sample_metadata = pd.read_excel(file_path, engine='openpyxl', sheet_name=sheet_name[1])\n",
    "#         data = pd.read_excel(file_path, engine='openpyxl', sheet_name=sheet_name[2])\n",
    "#         mapping_data = pd.read_csv(mapping_filepath)\n",
    "#         analytes = mapping_data[\"CHEM_ID\"].unique()\n",
    "#     return data, mapping_data, analytes, data_chemical_annotation, data_sample_metadata\n",
    "\n",
    "\n"
   ]
  },
  {
   "cell_type": "code",
   "execution_count": null,
   "id": "b0b83b59",
   "metadata": {},
   "outputs": [],
   "source": []
  }
 ],
 "metadata": {
  "kernelspec": {
   "display_name": "Python 3",
   "language": "python",
   "name": "python3"
  },
  "language_info": {
   "codemirror_mode": {
    "name": "ipython",
    "version": 3
   },
   "file_extension": ".py",
   "mimetype": "text/x-python",
   "name": "python",
   "nbconvert_exporter": "python",
   "pygments_lexer": "ipython3",
   "version": "3.6.9"
  }
 },
 "nbformat": 4,
 "nbformat_minor": 5
}
