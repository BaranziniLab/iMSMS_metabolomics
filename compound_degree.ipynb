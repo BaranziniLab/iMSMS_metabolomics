{
 "cells": [
  {
   "cell_type": "code",
   "execution_count": 1,
   "id": "847b98c6",
   "metadata": {},
   "outputs": [],
   "source": [
    "import pandas as pd\n",
    "import numpy as np\n",
    "import matplotlib.pyplot as plt\n",
    "import seaborn as sns\n",
    "from tqdm import tqdm\n",
    "from paths import *\n",
    "from neo4j import GraphDatabase, basic_auth"
   ]
  },
  {
   "cell_type": "code",
   "execution_count": 2,
   "id": "a0249f80",
   "metadata": {},
   "outputs": [],
   "source": [
    "def get_names_from_inchikeys(inchikeys):\n",
    "    base_url = 'https://pubchem.ncbi.nlm.nih.gov/rest/pug'\n",
    "    url = f\"{base_url}/compound/inchikey/{','.join(inchikeys)}/property/IUPACName/JSON\"\n",
    "    response = requests.get(url)\n",
    "    data = response.json()\n",
    "    compound_names = []\n",
    "    for record in data['PropertyTable']['Properties']:\n",
    "        try:\n",
    "            compound_names.append(record['IUPACName'])\n",
    "        except:\n",
    "            compound_names.append(None)\n",
    "    return compound_names\n",
    "\n"
   ]
  },
  {
   "cell_type": "code",
   "execution_count": 3,
   "id": "399669a9",
   "metadata": {},
   "outputs": [],
   "source": [
    "filepath = \"../spoke_35M_data/compound_degree.csv\"\n",
    "\n",
    "df = pd.read_csv(filepath)"
   ]
  },
  {
   "cell_type": "code",
   "execution_count": 4,
   "id": "ed56880f",
   "metadata": {},
   "outputs": [
    {
     "data": {
      "text/plain": [
       "(562200, 2)"
      ]
     },
     "execution_count": 4,
     "metadata": {},
     "output_type": "execute_result"
    }
   ],
   "source": [
    "df.node_id = df.node_id.apply(lambda x:x.split(\"Compound:\")[-1])\n",
    "df.shape"
   ]
  },
  {
   "cell_type": "code",
   "execution_count": 5,
   "id": "6a395451",
   "metadata": {},
   "outputs": [
    {
     "name": "stdout",
     "output_type": "stream",
     "text": [
      "There are 5553 Compounds with degree greater than the selected threshold\n",
      "Minimum degree of that group = 786\n",
      "Maximum degree of that group = 494633\n"
     ]
    }
   ],
   "source": [
    "threshold = np.percentile(df['degree'], 99)\n",
    "\n",
    "filtered_df = df[df['degree'] > threshold]\n",
    "print(\"There are {} Compounds with degree greater than the selected threshold\".format(filtered_df.shape[0]))\n",
    "print(\"Minimum degree of that group = {}\".format(filtered_df.degree.min()))\n",
    "print(\"Maximum degree of that group = {}\".format(filtered_df.degree.max()))"
   ]
  },
  {
   "cell_type": "code",
   "execution_count": 13,
   "id": "940e4e4a",
   "metadata": {},
   "outputs": [
    {
     "name": "stdout",
     "output_type": "stream",
     "text": [
      "CPU times: user 216 ms, sys: 26.1 ms, total: 242 ms\n",
      "Wall time: 1.44 s\n"
     ]
    }
   ],
   "source": [
    "%%time\n",
    "\n",
    "query = \"\"\"\n",
    "            MATCH(n:Compound)\n",
    "            WHERE n.identifier in {}\n",
    "            RETURN n.identifier AS n_id, n.name AS n_name\n",
    "\"\"\"\n",
    "\n",
    "auth = basic_auth(SPOKE_USER, SPOKE_PASSWORD)\n",
    "sdb = GraphDatabase.driver(URI, auth=auth)\n",
    "node_list = []\n",
    "with sdb.session() as session:\n",
    "    with session.begin_transaction() as tx:\n",
    "        result = tx.run(query.format(list(filtered_df[\"node_id\"].unique())))\n",
    "        for row in result:\n",
    "            node_list.append((row[\"n_id\"], row[\"n_name\"]))\n",
    "sdb.close()\n"
   ]
  },
  {
   "cell_type": "code",
   "execution_count": 15,
   "id": "2ee5d6e5",
   "metadata": {},
   "outputs": [],
   "source": [
    "node_df = pd.DataFrame(node_list, columns=[\"node_id\", \"node_name\"])\n",
    "filtered_df_with_name_and_degree = pd.merge(filtered_df, node_df, on=\"node_id\")\n",
    "filtered_df_with_name_and_degree.to_csv(\"../spoke_35M_data/compound_degree_greater_than_99_percentile.csv\", index=False, header=True)\n"
   ]
  },
  {
   "cell_type": "code",
   "execution_count": 19,
   "id": "f04c6236",
   "metadata": {},
   "outputs": [
    {
     "data": {
      "text/html": [
       "<div>\n",
       "<style scoped>\n",
       "    .dataframe tbody tr th:only-of-type {\n",
       "        vertical-align: middle;\n",
       "    }\n",
       "\n",
       "    .dataframe tbody tr th {\n",
       "        vertical-align: top;\n",
       "    }\n",
       "\n",
       "    .dataframe thead th {\n",
       "        text-align: right;\n",
       "    }\n",
       "</style>\n",
       "<table border=\"1\" class=\"dataframe\">\n",
       "  <thead>\n",
       "    <tr style=\"text-align: right;\">\n",
       "      <th></th>\n",
       "      <th>node_id</th>\n",
       "      <th>degree</th>\n",
       "      <th>node_name</th>\n",
       "    </tr>\n",
       "  </thead>\n",
       "  <tbody>\n",
       "    <tr>\n",
       "      <th>137</th>\n",
       "      <td>inchikey:MYMOFIZGZYHOMD-UHFFFAOYSA-N</td>\n",
       "      <td>64493</td>\n",
       "      <td>Oxygen</td>\n",
       "    </tr>\n",
       "    <tr>\n",
       "      <th>307</th>\n",
       "      <td>inchikey:XLYOFNOQVPJJNP-UHFFFAOYSA-N</td>\n",
       "      <td>267316</td>\n",
       "      <td>Water</td>\n",
       "    </tr>\n",
       "    <tr>\n",
       "      <th>3586</th>\n",
       "      <td>inchikey:UFHFLCQGNIYNRP-UHFFFAOYSA-N</td>\n",
       "      <td>262288</td>\n",
       "      <td>Hydrogen</td>\n",
       "    </tr>\n",
       "    <tr>\n",
       "      <th>3902</th>\n",
       "      <td>inchikey:GPRLSGONYQIRFK-UHFFFAOYSA-N</td>\n",
       "      <td>274946</td>\n",
       "      <td>Hydron</td>\n",
       "    </tr>\n",
       "    <tr>\n",
       "      <th>4107</th>\n",
       "      <td>inchikey:XLYOFNOQVPJJNP-BJUDXGSMSA-N</td>\n",
       "      <td>255874</td>\n",
       "      <td>Water O-15</td>\n",
       "    </tr>\n",
       "  </tbody>\n",
       "</table>\n",
       "</div>"
      ],
      "text/plain": [
       "                                   node_id  degree   node_name\n",
       "137   inchikey:MYMOFIZGZYHOMD-UHFFFAOYSA-N   64493      Oxygen\n",
       "307   inchikey:XLYOFNOQVPJJNP-UHFFFAOYSA-N  267316       Water\n",
       "3586  inchikey:UFHFLCQGNIYNRP-UHFFFAOYSA-N  262288    Hydrogen\n",
       "3902  inchikey:GPRLSGONYQIRFK-UHFFFAOYSA-N  274946      Hydron\n",
       "4107  inchikey:XLYOFNOQVPJJNP-BJUDXGSMSA-N  255874  Water O-15"
      ]
     },
     "execution_count": 19,
     "metadata": {},
     "output_type": "execute_result"
    }
   ],
   "source": [
    "compounds_to_remove = [\"Hydron\", \"Water\", \"Hydrogen\", \"Water O-15\", \"Oxygen\"]\n",
    "\n",
    "filtered_df_with_name_and_degree[filtered_df_with_name_and_degree.node_name.isin(compounds_to_remove)]\n"
   ]
  },
  {
   "cell_type": "code",
   "execution_count": null,
   "id": "39b970f0",
   "metadata": {},
   "outputs": [],
   "source": []
  }
 ],
 "metadata": {
  "kernelspec": {
   "display_name": "Python 3 (ipykernel)",
   "language": "python",
   "name": "python3"
  },
  "language_info": {
   "codemirror_mode": {
    "name": "ipython",
    "version": 3
   },
   "file_extension": ".py",
   "mimetype": "text/x-python",
   "name": "python",
   "nbconvert_exporter": "python",
   "pygments_lexer": "ipython3",
   "version": "3.10.9"
  }
 },
 "nbformat": 4,
 "nbformat_minor": 5
}
