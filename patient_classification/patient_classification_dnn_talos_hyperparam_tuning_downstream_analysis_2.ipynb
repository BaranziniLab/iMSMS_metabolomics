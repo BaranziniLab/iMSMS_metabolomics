{
 "cells": [
  {
   "cell_type": "code",
   "execution_count": 5,
   "id": "cefe7544",
   "metadata": {},
   "outputs": [],
   "source": [
    "import os\n",
    "import pandas as pd\n",
    "import numpy as np\n",
    "import sys\n",
    "sys.path.insert(0, os.path.abspath(os.path.join(os.getcwd(), '..')))\n",
    "from paths import *\n",
    "from sklearn.manifold import TSNE\n",
    "import umap.umap_ as umap\n",
    "import tensorflow as tf\n",
    "from tensorflow.keras.models import load_model\n",
    "from tensorflow.keras.models import Sequential\n",
    "from tensorflow import keras\n",
    "import joblib\n",
    "from sklearn.preprocessing import StandardScaler\n",
    "from data_utility import get_processed_global_and_targeted_data\n",
    "from tqdm import tqdm\n",
    "import matplotlib\n",
    "import matplotlib.pyplot as plt\n",
    "import seaborn as sns\n",
    "import warnings"
   ]
  },
  {
   "cell_type": "code",
   "execution_count": 6,
   "id": "dd5f67fc",
   "metadata": {},
   "outputs": [],
   "source": [
    "warnings.filterwarnings(\"ignore\", message=\"`distplot` is a deprecated function\")\n",
    "warnings.filterwarnings(\"ignore\", message=\"DeprecationWarning\")"
   ]
  },
  {
   "cell_type": "code",
   "execution_count": 24,
   "id": "aecc2fb8",
   "metadata": {},
   "outputs": [],
   "source": [
    "sample = \"feces\"\n"
   ]
  },
  {
   "cell_type": "code",
   "execution_count": null,
   "id": "53fb8cb2",
   "metadata": {},
   "outputs": [],
   "source": [
    "_, analyte_columns_selected = get_processed_global_and_targeted_data(sample)\n",
    "\n",
    "modelData = joblib.load(os.path.join(OUTPUT_PATH, \"patient_classification\", \"dnn_models_total_analyte\", sample, \"data\", \"data_used_for_talos_optimized_dnn_models_for_global_compound_{}_sample.joblib\".format(sample)))\n",
    "\n"
   ]
  },
  {
   "cell_type": "code",
   "execution_count": 26,
   "id": "a9a7b19b",
   "metadata": {},
   "outputs": [],
   "source": [
    "SAMPLE_DIR = os.path.join(OUTPUT_PATH, \"patient_classification\", \"dnn_models_total_analyte\", sample)\n",
    "MODEL_DIR = os.path.join(SAMPLE_DIR, \"models\")\n",
    "SUMMARY_DIR = os.path.join(SAMPLE_DIR, \"summary\")\n",
    "MODEL_DATA_DIR = os.path.join(SAMPLE_DIR, \"data\")\n",
    "\n",
    "NITER = 1000\n",
    "lr = 0.001\n",
    "batch_size = 32"
   ]
  },
  {
   "cell_type": "code",
   "execution_count": 27,
   "id": "427d4bd7",
   "metadata": {},
   "outputs": [],
   "source": [
    "modelIndex_vs_auc = []\n",
    "for model_index in range(NITER):\n",
    "    summary_df = pd.read_csv(os.path.join(SUMMARY_DIR, \"talos_for_global_compounds_{}_sample_index_{}.csv\".format(sample, model_index+1)))\n",
    "    summary_df = summary_df.sort_values('val_auc', ascending=False)\n",
    "    best_params = summary_df.iloc[0].to_dict()\n",
    "    modelIndex_vs_auc.append((model_index+1 , best_params[\"val_auc\"]))\n"
   ]
  },
  {
   "cell_type": "code",
   "execution_count": 28,
   "id": "efbf5ef7",
   "metadata": {},
   "outputs": [],
   "source": [
    "modelIndex_vs_auc_df = pd.DataFrame(modelIndex_vs_auc, columns = [\"modelIndex\", \"val_auc\"])\n",
    "modelIndex_vs_auc_df.sort_values(\"val_auc\", ascending=False, inplace=True)\n",
    "# selectedModelIndex = modelIndex_vs_auc_df[modelIndex_vs_auc_df.val_auc == modelIndex_vs_auc_df.val_auc.max()].modelIndex.values[0]\n",
    "# print(\"Selected model index = {}, with a val AUC of {}\".format(selectedModelIndex, modelIndex_vs_auc_df.val_auc.max()))\n"
   ]
  },
  {
   "cell_type": "code",
   "execution_count": 30,
   "id": "90ec6901",
   "metadata": {},
   "outputs": [
    {
     "data": {
      "image/png": "[encoded data removed]",
      "text/plain": [
       "<Figure size 360x216 with 1 Axes>"
      ]
     },
     "metadata": {
      "needs_background": "light"
     },
     "output_type": "display_data"
    },
    {
     "name": "stdout",
     "output_type": "stream",
     "text": [
      "Saving the figure ...\n"
     ]
    }
   ],
   "source": [
    "FIGSIZE = (5,3)\n",
    "fontsize = 15\n",
    "modelIndex_vs_auc_df\n",
    "fig, axes = plt.subplots(figsize=FIGSIZE)\n",
    "\n",
    "if sample == \"serum\":\n",
    "    color = \"red\"\n",
    "else:\n",
    "    color = \"red\"\n",
    "sns.distplot(modelIndex_vs_auc_df[\"val_auc\"], hist=True, kde=True, ax=axes, \n",
    "             kde_kws={'color': color, 'lw': 3},\n",
    "             hist_kws={'color': 'gray', 'edgecolor': 'gray', 'linewidth': 1})\n",
    "\n",
    "# Set the title and axis labels\n",
    "mean_auc = round(np.mean(modelIndex_vs_auc_df[\"val_auc\"]), 2)\n",
    "axes.set_title(f\"mean AUC = {mean_auc}\", fontsize=fontsize)\n",
    "axes.spines['top'].set_visible(False)\n",
    "axes.spines['right'].set_visible(False)\n",
    "plt.xlabel('AUC',fontsize=fontsize)\n",
    "plt.ylabel('Density',fontsize=fontsize)\n",
    "plt.xticks(fontsize=fontsize)\n",
    "plt.yticks(fontsize=fontsize)\n",
    "if sample == \"serum\":\n",
    "#     axes.set_xticks([0.72, 0.75, 0.8, 0.85])\n",
    "    axes.set_xticks([0.5, 0.6, 0.7, 0.8, 0.9])\n",
    "else:\n",
    "#     axes.set_xticks([0.6, 0.65, 0.7, 0.75, 0.8])\n",
    "    axes.set_xticks([0.5, 0.6, 0.7, 0.8, 0.9])\n",
    "\n",
    "# Show the plot\n",
    "plt.show()\n",
    "\n",
    "print('Saving the figure ...')\n",
    "fig_filename = os.path.join(OUTPUT_PATH, \"figures\", \"patient_classification\", \"AUC_distribution_of_dnn_models_{}_sample_full_analyte_extended_axis.svg\".format(sample))\n",
    "fig.savefig(fig_filename, format='svg', bbox_inches='tight')\n"
   ]
  },
  {
   "cell_type": "code",
   "execution_count": 32,
   "id": "64d3d667",
   "metadata": {},
   "outputs": [
    {
     "name": "stdout",
     "output_type": "stream",
     "text": [
      "WARNING:tensorflow:No training configuration found in the save file, so the model was *not* compiled. Compile it manually.\n",
      "Model: \"sequential\"\n",
      "_________________________________________________________________\n",
      "Layer (type)                 Output Shape              Param #   \n",
      "=================================================================\n",
      "dense (Dense)                (None, 1000)              686000    \n",
      "_________________________________________________________________\n",
      "dropout (Dropout)            (None, 1000)              0         \n",
      "_________________________________________________________________\n",
      "dense_1 (Dense)              (None, 100)               100100    \n",
      "_________________________________________________________________\n",
      "dense_2 (Dense)              (None, 1)                 101       \n",
      "=================================================================\n",
      "Total params: 786,201\n",
      "Trainable params: 786,201\n",
      "Non-trainable params: 0\n",
      "_________________________________________________________________\n",
      "val auc for the selected model =  0.7553499937057495\n"
     ]
    }
   ],
   "source": [
    "sel = 5\n",
    "selectedModelIndex = modelIndex_vs_auc_df.iloc[sel][\"modelIndex\"].astype(int)\n",
    "selectedModel_score = modelIndex_vs_auc_df.iloc[sel][\"val_auc\"]\n",
    "selectedModel = load_model(os.path.join(MODEL_DIR, \"talos_best_dnn_model_for_global_compounds_{}_sample_index_{}.h5\".format(sample, selectedModelIndex)))\n",
    "selectedModel.compile(optimizer=tf.keras.optimizers.Adam(lr=lr), loss='binary_crossentropy', metrics=['AUC'])\n",
    "selectedModel.summary()\n",
    "print(\"val auc for the selected model = \",selectedModel_score)\n"
   ]
  },
  {
   "cell_type": "code",
   "execution_count": 33,
   "id": "c225ab47",
   "metadata": {},
   "outputs": [],
   "source": [
    "# FIG_SIZE = (20, 4)\n",
    "# FONTSIZE = 12\n",
    "# LABELSIZE = 15\n",
    "# fig, axes = plt.subplots(nrows=1, ncols=5, figsize=FIG_SIZE, sharey=False)\n",
    "\n",
    "# for i, ax in enumerate(axes.flat):\n",
    "#     sel_for_summary_plot = i\n",
    "#     selectedModelIndex_for_summary_plot = modelIndex_vs_auc_df.iloc[sel_for_summary_plot][\"modelIndex\"].astype(int)\n",
    "#     summary_df_for_summary_plot = pd.read_csv(os.path.join(SUMMARY_DIR, \"talos_for_global_compounds_{}_sample_index_{}.csv\".format(sample, selectedModelIndex_for_summary_plot)))\n",
    "#     summary_df_for_summary_plot = summary_df_for_summary_plot[[\"first_neuron\", \"second_neuron\", \"val_auc\"]]\n",
    "#     heatmap_df = summary_df_for_summary_plot.pivot_table(index='second_neuron', columns='first_neuron', values='val_auc')\n",
    "#     sns.heatmap(heatmap_df, annot=True, cmap='coolwarm', annot_kws={\"fontsize\": FONTSIZE}, cbar=None, ax=ax)\n",
    "#     ax.set_title(\"Data split {}\".format(i+1), fontsize=LABELSIZE)\n",
    "#     ax.set_xticklabels(ax.get_xticklabels(), fontsize=FONTSIZE)\n",
    "#     ax.set_yticklabels(ax.get_yticklabels(), fontsize=FONTSIZE)\n",
    "#     ax.set_xlabel('First Neuron', fontsize=LABELSIZE)        \n",
    "#     if i==0:\n",
    "#         ax.set_ylabel('Second Neuron', fontsize=LABELSIZE)\n",
    "#     else:\n",
    "#         ax.set_ylabel(None)\n",
    "        \n",
    "# # Add some white space between subplots\n",
    "# plt.subplots_adjust(wspace=0.4, hspace=0.5)\n",
    "\n",
    "# # Create a common colorbar for all subplots\n",
    "# # cbar_ax = fig.add_axes([0.95, 0.15, 0.02, 0.7])\n",
    "# # fig.colorbar(axes[0].collections[0], cax=cbar_ax)\n",
    "\n",
    "# plt.show()\n",
    "\n",
    "# print('Saving the figure ...')\n",
    "# fig_filename = os.path.join(OUTPUT_PATH, \"figures\", \"patient_classification\", \"dnn_talos_optimization_{}_sample_full_analyte.svg\".format(sample))\n",
    "# fig.savefig(fig_filename, format='svg', bbox_inches='tight')\n"
   ]
  },
  {
   "cell_type": "code",
   "execution_count": 34,
   "id": "dfd4a515",
   "metadata": {},
   "outputs": [],
   "source": [
    "for item in modelData:\n",
    "    if item[\"model_index\"] == selectedModelIndex:\n",
    "        train_data = item[\"train\"] \n",
    "        test_data = item[\"test\"]\n",
    "        break"
   ]
  },
  {
   "cell_type": "code",
   "execution_count": 35,
   "id": "d74f7240",
   "metadata": {},
   "outputs": [
    {
     "name": "stdout",
     "output_type": "stream",
     "text": [
      "7/7 [==============================] - 0s 2ms/step - loss: 1.7989 - auc: 0.7703\n"
     ]
    },
    {
     "data": {
      "text/plain": [
       "[1.7419503927230835, 0.7651000022888184]"
      ]
     },
     "execution_count": 35,
     "metadata": {},
     "output_type": "execute_result"
    }
   ],
   "source": [
    "X_train = train_data[analyte_columns_selected].values\n",
    "X_test = test_data[analyte_columns_selected].values\n",
    "y_test = test_data.Disease_label.values\n",
    "\n",
    "scaler = StandardScaler()\n",
    "X_train_norm = scaler.fit_transform(X_train)\n",
    "X_test_norm = scaler.transform(X_test)\n",
    "\n",
    "selectedModel.evaluate(X_test_norm, y_test, batch_size=batch_size)"
   ]
  },
  {
   "cell_type": "code",
   "execution_count": 36,
   "id": "94d787f9",
   "metadata": {},
   "outputs": [],
   "source": [
    "last_layer_model = Sequential()\n",
    "for layer in selectedModel.layers[:-1]:\n",
    "    last_layer_model.add(layer)\n",
    "last_layer_model.compile(optimizer=keras.optimizers.Adam(lr=lr), loss=\"binary_crossentropy\")\n",
    "\n",
    "X_test_norm_latent_matrix = last_layer_model.predict(X_test_norm)\n"
   ]
  },
  {
   "cell_type": "code",
   "execution_count": 37,
   "id": "a4fe3665",
   "metadata": {},
   "outputs": [
    {
     "data": {
      "image/png": "[encoded data removed]",
      "text/plain": [
       "<Figure size 216x216 with 1 Axes>"
      ]
     },
     "metadata": {
      "needs_background": "light"
     },
     "output_type": "display_data"
    },
    {
     "name": "stdout",
     "output_type": "stream",
     "text": [
      "Saving the figure ...\n"
     ]
    }
   ],
   "source": [
    "# serum: \n",
    "    # model sel = 7\n",
    "    # tsne = TSNE(n_components=2, perplexity=12, random_state=25) \n",
    "\n",
    "# feces:\n",
    "    # model sel = 5\n",
    "    # tsne = TSNE(n_components=2, perplexity=14, random_state=42)\n",
    "\n",
    "tsne = TSNE(n_components=2, perplexity=14, random_state=42)\n",
    "X_test_tsne = tsne.fit_transform(X_test_norm_latent_matrix)\n",
    "\n",
    "fontsize = 15\n",
    "FIGSIZE = (3, 3)\n",
    "# Define custom colors for labels\n",
    "colors = ['lightblue', 'red']\n",
    "\n",
    "# Create a color map with the custom colors\n",
    "cmap = matplotlib.colors.ListedColormap(colors)\n",
    "\n",
    "# Plot the scatter plot with the custom color map\n",
    "fig, ax = plt.subplots(figsize=FIGSIZE)\n",
    "plt.scatter(X_test_tsne[:, 0], X_test_tsne[:, 1], c=y_test, cmap=cmap, s=50)\n",
    "# plt.colorbar()\n",
    "\n",
    "# Set xticks and yticks size\n",
    "plt.xticks(fontsize=12)\n",
    "plt.yticks(fontsize=12)\n",
    "# remove the top and right spines\n",
    "ax.spines['top'].set_visible(False)\n",
    "ax.spines['right'].set_visible(False)\n",
    "\n",
    "plt.xlabel('tSNE1',fontsize=fontsize)\n",
    "plt.ylabel('tSNE2',fontsize=fontsize)\n",
    "\n",
    "# plt.xlim([-30, 40])\n",
    "# plt.ylim([-30, 33])\n",
    "\n",
    "plt.show()\n",
    "\n",
    "print('Saving the figure ...')\n",
    "fig_filename = os.path.join(OUTPUT_PATH, \"figures\", \"patient_classification\", \"patient_tSNE_dnn_model_global_compounds_{}_sample_full_analyte.svg\".format(sample))\n",
    "fig.savefig(fig_filename, format='svg', bbox_inches='tight')\n",
    "\n"
   ]
  },
  {
   "cell_type": "code",
   "execution_count": 38,
   "id": "3e56a4c1",
   "metadata": {},
   "outputs": [
    {
     "data": {
      "image/png": "[encoded data removed]",
      "text/plain": [
       "<Figure size 216x216 with 1 Axes>"
      ]
     },
     "metadata": {
      "needs_background": "light"
     },
     "output_type": "display_data"
    },
    {
     "name": "stdout",
     "output_type": "stream",
     "text": [
      "Saving the figure ...\n"
     ]
    }
   ],
   "source": [
    "# Compute the UMAP embedding\n",
    "\n",
    "# serum:\n",
    "    # umap_embed = umap.UMAP(n_neighbors=20, min_dist=0.2, n_components=2, random_state=9).fit_transform(X_test_norm_latent_matrix)\n",
    "\n",
    "# feces:\n",
    "#     umap_embed = umap.UMAP(n_neighbors=15, min_dist=0.1, n_components=2, random_state=11).fit_transform(X_test_norm_latent_matrix)\n",
    "\n",
    "umap_embed = umap.UMAP(n_neighbors=15, min_dist=0.1, n_components=2, random_state=11).fit_transform(X_test_norm_latent_matrix)\n",
    "\n",
    "fontsize = 15\n",
    "FIGSIZE = (3, 3)\n",
    "# Define custom colors for labels\n",
    "colors = ['lightblue', 'red']\n",
    "\n",
    "# Create a color map with the custom colors\n",
    "cmap = matplotlib.colors.ListedColormap(colors)\n",
    "\n",
    "# Plot the scatter plot with the custom color map\n",
    "fig, ax = plt.subplots(figsize=FIGSIZE)\n",
    "plt.scatter(umap_embed[:, 0], umap_embed[:, 1], c=y_test, cmap=cmap, s=50)\n",
    "# plt.colorbar()\n",
    "\n",
    "# Set xticks and yticks size\n",
    "plt.xticks(fontsize=12)\n",
    "plt.yticks(fontsize=12)\n",
    "# remove the top and right spines\n",
    "ax.spines['top'].set_visible(False)\n",
    "ax.spines['right'].set_visible(False)\n",
    "\n",
    "plt.xlabel('UMAP1',fontsize=fontsize)\n",
    "plt.ylabel('UMAP2',fontsize=fontsize)\n",
    "\n",
    "\n",
    "# # Add legend\n",
    "# legend_elements = [plt.Line2D([0], [0], marker='o', color='w', label='MS',\n",
    "#                               markerfacecolor='red', markersize=10),\n",
    "#                    plt.Line2D([0], [0], marker='o', color='w', label='Control',\n",
    "#                               markerfacecolor='lightblue', markersize=10)]\n",
    "# ax.legend(handles=legend_elements, bbox_to_anchor=(1.5, 0.5), loc='center', fontsize=fontsize)\n",
    "\n",
    "plt.show()\n",
    "\n",
    "print('Saving the figure ...')\n",
    "fig_filename = os.path.join(OUTPUT_PATH, \"figures\", \"patient_classification\", \"patient_UMAP_dnn_model_global_compounds_{}_sample_full_analyte.svg\".format(sample))\n",
    "fig.savefig(fig_filename, format='svg', bbox_inches='tight')\n",
    "\n",
    "# print('Saving the figure ...')\n",
    "# fig_filename = os.path.join(OUTPUT_PATH, \"figures\", \"patient_classification\", \"patient_UMAP_dnn_model_global_compounds_{}_sample_full_analyte_with_legend.svg\".format(sample))\n",
    "# fig.savefig(fig_filename, format='svg', bbox_inches='tight')\n"
   ]
  },
  {
   "cell_type": "code",
   "execution_count": 409,
   "id": "a9d4c024",
   "metadata": {},
   "outputs": [],
   "source": [
    "# from sklearn.cluster import KMeans\n",
    "\n",
    "# def get_mean_distance(X_test_tsne):\n",
    "#     # Apply KMeans clustering to the t-SNE embeddings\n",
    "#     kmeans = KMeans(n_clusters=2, random_state=42)\n",
    "#     y_pred = kmeans.fit_predict(X_test_tsne)\n",
    "#     # Compute distance between cluster means\n",
    "#     mean_dist = np.abs(kmeans.cluster_centers_[0] - kmeans.cluster_centers_[1]).mean()\n",
    "#     return mean_dist\n",
    "\n",
    "# perplexity_arr = np.arange(5, 50)\n",
    "# random_state = 42\n",
    "# perplexity_dist_list = []\n",
    "# for perplexity in tqdm(perplexity_arr):\n",
    "#     tsne = TSNE(n_components=2, perplexity=perplexity, random_state=random_state)\n",
    "#     X_test_tsne = tsne.fit_transform(X_test_norm_latent_matrix)\n",
    "#     mean_dist = get_mean_distance(X_test_tsne)\n",
    "#     perplexity_dist_list.append((perplexity, mean_dist))\n",
    "\n",
    "# perplexity_dist_df = pd.DataFrame(perplexity_dist_list, columns=[\"perplexity\", \"mean_dist\"])\n",
    "\n",
    "# perplexity_dist_df.sort_values(\"mean_dist\", ascending=False, inplace=True)\n",
    "# perplexity_dist_df\n"
   ]
  },
  {
   "cell_type": "code",
   "execution_count": null,
   "id": "d515b50f",
   "metadata": {},
   "outputs": [],
   "source": []
  },
  {
   "cell_type": "code",
   "execution_count": null,
   "id": "b6a1e447",
   "metadata": {},
   "outputs": [],
   "source": []
  }
 ],
 "metadata": {
  "kernelspec": {
   "display_name": "Python 3",
   "language": "python",
   "name": "python3"
  },
  "language_info": {
   "codemirror_mode": {
    "name": "ipython",
    "version": 3
   },
   "file_extension": ".py",
   "mimetype": "text/x-python",
   "name": "python",
   "nbconvert_exporter": "python",
   "pygments_lexer": "ipython3",
   "version": "3.6.9"
  }
 },
 "nbformat": 4,
 "nbformat_minor": 5
}
