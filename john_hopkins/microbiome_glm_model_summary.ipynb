{
 "cells": [
  {
   "cell_type": "code",
   "execution_count": 1,
   "id": "c615941b-bf40-41ff-b715-59fb29e19e6a",
   "metadata": {},
   "outputs": [
    {
     "name": "stderr",
     "output_type": "stream",
     "text": [
      "/Users/karthiksoman/anaconda3/lib/python3.10/site-packages/pandas/core/arrays/masked.py:60: UserWarning: Pandas requires version '1.3.6' or newer of 'bottleneck' (version '1.3.5' currently installed).\n",
      "  from pandas.core import (\n"
     ]
    }
   ],
   "source": [
    "import sys\n",
    "sys.path.insert(0,'..')\n",
    "from paths import *\n",
    "import joblib\n",
    "import os\n",
    "import pandas as pd\n"
   ]
  },
  {
   "cell_type": "code",
   "execution_count": 2,
   "id": "3971ea7e-40bb-4368-825c-466ee9d48a07",
   "metadata": {},
   "outputs": [],
   "source": [
    "p_val_thresh = 0.05\n"
   ]
  },
  {
   "cell_type": "code",
   "execution_count": 3,
   "id": "3c0aaa1a-e0cd-4240-8d64-263b2c1e2a84",
   "metadata": {},
   "outputs": [],
   "source": [
    "model = []\n",
    "taxa_list = ['species', 'genus']\n",
    "for taxa in taxa_list:\n",
    "    with open(os.path.join(DATA_ROOT_PATH, f'john_hopkins/glm_model_results_for_{taxa}_taxa.joblib'), 'rb') as f:\n",
    "        model.extend(joblib.load(f)) \n",
    "    "
   ]
  },
  {
   "cell_type": "code",
   "execution_count": 4,
   "id": "650f76fe-b212-453e-8b90-91d273968cb1",
   "metadata": {},
   "outputs": [],
   "source": [
    "\n",
    "full_summary = []\n",
    "for item in model:\n",
    "    for index, row in item['model_summary'].iterrows():\n",
    "        full_summary.append((row['analyte_name'], row['microbial_abundance_coeff'], row['pvalue'], item['microbiome'], item['taxa'], item['cohort_category'], item['sample'], row['number_of_samples']))\n",
    "\n",
    "full_summary_df = pd.DataFrame(full_summary, columns=['analyte_name', 'microbial_abundance_coeff', 'pvalue', 'microbiome', 'taxa', 'cohort_category', 'sample', 'number_of_samples'])\n",
    "full_summary_df.sort_values(by='pvalue', inplace=True)\n"
   ]
  },
  {
   "cell_type": "code",
   "execution_count": 5,
   "id": "0c271b1b-8746-4619-b396-d8f42f6eeb4a",
   "metadata": {},
   "outputs": [],
   "source": [
    "\n",
    "significant_summary = []\n",
    "for item in model:\n",
    "    for index, row in item['model_summary'].iterrows():\n",
    "        if row['pvalue']:\n",
    "            if (row['pvalue'] < p_val_thresh) & (row['model_converged_flag']==True):\n",
    "                significant_summary.append((row['analyte_name'], row['microbial_abundance_coeff'], row['pvalue'], item['microbiome'], item['taxa'], item['cohort_category'], item['sample'], row['number_of_samples']))\n",
    "\n",
    "significant_summary_df = pd.DataFrame(significant_summary, columns=['analyte_name', 'microbial_abundance_coeff', 'pvalue', 'microbiome', 'taxa', 'cohort_category', 'sample', 'number_of_samples'])\n",
    "significant_summary_df.sort_values(by='pvalue', inplace=True)\n"
   ]
  },
  {
   "cell_type": "code",
   "execution_count": 7,
   "id": "9c8cd862-4701-498f-9366-7bef7b851aa1",
   "metadata": {},
   "outputs": [],
   "source": [
    "full_summary_df.to_excel(os.path.join(DATA_ROOT_PATH, 'john_hopkins', 'microbiome_glm_model_all_associations.xlsx'), index=False, header=True)\n",
    "\n",
    "significant_summary_df.to_excel(os.path.join(DATA_ROOT_PATH, 'john_hopkins', 'microbiome_glm_model_significant_associations.xlsx'), index=False, header=True)\n",
    "\n",
    "                    "
   ]
  },
  {
   "cell_type": "code",
   "execution_count": 11,
   "id": "3b139092-6895-41b7-a00b-a07c19f36e9a",
   "metadata": {},
   "outputs": [
    {
     "data": {
      "text/html": [
       "<div>\n",
       "<style scoped>\n",
       "    .dataframe tbody tr th:only-of-type {\n",
       "        vertical-align: middle;\n",
       "    }\n",
       "\n",
       "    .dataframe tbody tr th {\n",
       "        vertical-align: top;\n",
       "    }\n",
       "\n",
       "    .dataframe thead th {\n",
       "        text-align: right;\n",
       "    }\n",
       "</style>\n",
       "<table border=\"1\" class=\"dataframe\">\n",
       "  <thead>\n",
       "    <tr style=\"text-align: right;\">\n",
       "      <th></th>\n",
       "      <th>analyte_name</th>\n",
       "      <th>microbial_abundance_coeff</th>\n",
       "      <th>pvalue</th>\n",
       "      <th>microbiome</th>\n",
       "      <th>taxa</th>\n",
       "      <th>cohort_category</th>\n",
       "      <th>sample</th>\n",
       "      <th>number_of_samples</th>\n",
       "    </tr>\n",
       "  </thead>\n",
       "  <tbody>\n",
       "    <tr>\n",
       "      <th>0</th>\n",
       "      <td>exp_ratio</td>\n",
       "      <td>22.845148</td>\n",
       "      <td>0.000014</td>\n",
       "      <td>Anaerostipes</td>\n",
       "      <td>genus</td>\n",
       "      <td>RRMS</td>\n",
       "      <td>feces</td>\n",
       "      <td>426</td>\n",
       "    </tr>\n",
       "    <tr>\n",
       "      <th>1</th>\n",
       "      <td>exp_ratio</td>\n",
       "      <td>-9.924888</td>\n",
       "      <td>0.000424</td>\n",
       "      <td>Bacteroides thetaiotaomicron</td>\n",
       "      <td>species</td>\n",
       "      <td>full</td>\n",
       "      <td>feces</td>\n",
       "      <td>696</td>\n",
       "    </tr>\n",
       "    <tr>\n",
       "      <th>2</th>\n",
       "      <td>exp_ratio</td>\n",
       "      <td>617541.924504</td>\n",
       "      <td>0.000568</td>\n",
       "      <td>Dubosiella newyorkensis</td>\n",
       "      <td>species</td>\n",
       "      <td>PMS</td>\n",
       "      <td>feces</td>\n",
       "      <td>180</td>\n",
       "    </tr>\n",
       "    <tr>\n",
       "      <th>3</th>\n",
       "      <td>exp_ratio</td>\n",
       "      <td>0.469900</td>\n",
       "      <td>0.001193</td>\n",
       "      <td>Bacteroides</td>\n",
       "      <td>genus</td>\n",
       "      <td>full</td>\n",
       "      <td>serum</td>\n",
       "      <td>696</td>\n",
       "    </tr>\n",
       "    <tr>\n",
       "      <th>4</th>\n",
       "      <td>exp_ratio</td>\n",
       "      <td>0.537569</td>\n",
       "      <td>0.001283</td>\n",
       "      <td>Bacteroides</td>\n",
       "      <td>genus</td>\n",
       "      <td>RRMS</td>\n",
       "      <td>serum</td>\n",
       "      <td>516</td>\n",
       "    </tr>\n",
       "    <tr>\n",
       "      <th>5</th>\n",
       "      <td>exp_ratio</td>\n",
       "      <td>2.818236</td>\n",
       "      <td>0.047372</td>\n",
       "      <td>Bacteroides thetaiotaomicron</td>\n",
       "      <td>species</td>\n",
       "      <td>full</td>\n",
       "      <td>serum</td>\n",
       "      <td>696</td>\n",
       "    </tr>\n",
       "  </tbody>\n",
       "</table>\n",
       "</div>"
      ],
      "text/plain": [
       "  analyte_name  microbial_abundance_coeff    pvalue  \\\n",
       "0    exp_ratio                  22.845148  0.000014   \n",
       "1    exp_ratio                  -9.924888  0.000424   \n",
       "2    exp_ratio              617541.924504  0.000568   \n",
       "3    exp_ratio                   0.469900  0.001193   \n",
       "4    exp_ratio                   0.537569  0.001283   \n",
       "5    exp_ratio                   2.818236  0.047372   \n",
       "\n",
       "                     microbiome     taxa cohort_category sample  \\\n",
       "0                  Anaerostipes    genus            RRMS  feces   \n",
       "1  Bacteroides thetaiotaomicron  species            full  feces   \n",
       "2       Dubosiella newyorkensis  species             PMS  feces   \n",
       "3                   Bacteroides    genus            full  serum   \n",
       "4                   Bacteroides    genus            RRMS  serum   \n",
       "5  Bacteroides thetaiotaomicron  species            full  serum   \n",
       "\n",
       "   number_of_samples  \n",
       "0                426  \n",
       "1                696  \n",
       "2                180  \n",
       "3                696  \n",
       "4                516  \n",
       "5                696  "
      ]
     },
     "execution_count": 11,
     "metadata": {},
     "output_type": "execute_result"
    }
   ],
   "source": [
    "analyte_df = significant_summary_df[significant_summary_df.analyte_name=='exp_ratio']\n",
    "analyte_df.reset_index().drop('index', axis=1)\n"
   ]
  },
  {
   "cell_type": "code",
   "execution_count": 9,
   "id": "dd050412-f771-4c56-a550-d6206dd26a75",
   "metadata": {},
   "outputs": [],
   "source": [
    "# import pandas as pd\n",
    "# import matplotlib.pyplot as plt\n",
    "\n",
    "\n",
    "# # Sort DataFrame for better visualization (optional)\n",
    "# analyte_df = analyte_df.sort_values(by='microbial_abundance_coeff', ascending=False)\n",
    "\n",
    "# # Set the figure size\n",
    "# plt.figure(figsize=(4, 3))\n",
    "\n",
    "# # Create a bar plot\n",
    "# bars = plt.barh(analyte_df['microbiome'], analyte_df['microbial_abundance_coeff'], color='skyblue')\n",
    "\n",
    "# # Annotate each bar with cohort_category and sample\n",
    "# for bar, cohort, sample in zip(bars, analyte_df['cohort_category'], analyte_df['sample']):\n",
    "#     plt.text(bar.get_width(), bar.get_y() + bar.get_height()/2,\n",
    "#              f'{cohort}\\n{sample}', ha='center', va='center')\n",
    "\n",
    "# # Add labels and title\n",
    "# plt.xlabel('Microbial Abundance Coeff')\n",
    "# plt.ylabel('Microbiome')\n",
    "# plt.title('Microbial Abundance Coefficient by Microbiome')\n",
    "\n",
    "# # Show the plot\n",
    "# plt.tight_layout()\n",
    "# plt.show()\n"
   ]
  },
  {
   "cell_type": "code",
   "execution_count": null,
   "id": "ea8566c1-9045-46c1-b3ae-a762e4daa44c",
   "metadata": {},
   "outputs": [],
   "source": []
  }
 ],
 "metadata": {
  "kernelspec": {
   "display_name": "Python 3 (ipykernel)",
   "language": "python",
   "name": "python3"
  },
  "language_info": {
   "codemirror_mode": {
    "name": "ipython",
    "version": 3
   },
   "file_extension": ".py",
   "mimetype": "text/x-python",
   "name": "python",
   "nbconvert_exporter": "python",
   "pygments_lexer": "ipython3",
   "version": "3.10.9"
  }
 },
 "nbformat": 4,
 "nbformat_minor": 5
}
