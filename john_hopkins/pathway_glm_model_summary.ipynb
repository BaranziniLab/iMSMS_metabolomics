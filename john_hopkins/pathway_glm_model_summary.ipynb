{
 "cells": [
  {
   "cell_type": "code",
   "execution_count": 1,
   "id": "9e43fb1f-0403-4d6a-9ef3-cec8b3feff24",
   "metadata": {},
   "outputs": [
    {
     "name": "stderr",
     "output_type": "stream",
     "text": [
      "/Users/karthiksoman/anaconda3/lib/python3.10/site-packages/pandas/core/arrays/masked.py:60: UserWarning: Pandas requires version '1.3.6' or newer of 'bottleneck' (version '1.3.5' currently installed).\n",
      "  from pandas.core import (\n"
     ]
    }
   ],
   "source": [
    "import sys\n",
    "sys.path.insert(0,'..')\n",
    "from paths import *\n",
    "import joblib\n",
    "import os\n",
    "import pandas as pd\n"
   ]
  },
  {
   "cell_type": "code",
   "execution_count": 2,
   "id": "57e280f0-70a2-4be4-bc69-c31bdfda8940",
   "metadata": {},
   "outputs": [],
   "source": [
    "p_val_thresh = 0.05\n"
   ]
  },
  {
   "cell_type": "code",
   "execution_count": 3,
   "id": "98ae35ef-a117-43a5-a3e0-533c4e5a9df0",
   "metadata": {},
   "outputs": [],
   "source": [
    "model = []\n",
    "with open(os.path.join(DATA_ROOT_PATH, f'john_hopkins/glm_model_results_for_pathway.joblib'), 'rb') as f:\n",
    "    model.extend(joblib.load(f))\n",
    "    "
   ]
  },
  {
   "cell_type": "code",
   "execution_count": 4,
   "id": "652472a7-c644-433a-a185-3577473a4f84",
   "metadata": {},
   "outputs": [],
   "source": [
    "\n",
    "full_summary = []\n",
    "for item in model:\n",
    "    for index, row in item['model_summary'].iterrows():\n",
    "        full_summary.append((row['analyte_name'], row['pathway_abundance_coeff'], row['pvalue'], item['pathway'], item['cohort_category'], item['sample'], row['number_of_samples']))\n",
    "\n",
    "full_summary_df = pd.DataFrame(full_summary, columns=['analyte_name', 'pathway_abundance_coeff', 'pvalue', 'pathway', 'cohort_category', 'sample', 'number_of_samples'])\n",
    "full_summary_df.sort_values(by='pvalue', inplace=True)\n"
   ]
  },
  {
   "cell_type": "code",
   "execution_count": 5,
   "id": "dc7d02d8-9f31-448e-bf3a-e7e3258e0469",
   "metadata": {},
   "outputs": [],
   "source": [
    "\n",
    "significant_summary = []\n",
    "for item in model:\n",
    "    for index, row in item['model_summary'].iterrows():\n",
    "        if row['pvalue']:\n",
    "            if (row['pvalue'] < p_val_thresh) & (row['model_converged_flag']==True):\n",
    "                significant_summary.append((row['analyte_name'], row['pathway_abundance_coeff'], row['pvalue'], item['pathway'], item['cohort_category'], item['sample'], row['number_of_samples']))\n",
    "\n",
    "significant_summary_df = pd.DataFrame(significant_summary, columns=['analyte_name', 'pathway_abundance_coeff', 'pvalue', 'pathway', 'cohort_category', 'sample', 'number_of_samples'])\n",
    "significant_summary_df.sort_values(by='pvalue', inplace=True)\n"
   ]
  },
  {
   "cell_type": "code",
   "execution_count": 6,
   "id": "ebc00dfc-e320-4443-b765-c36ca8493895",
   "metadata": {},
   "outputs": [],
   "source": [
    "full_summary_df.to_excel(os.path.join(DATA_ROOT_PATH, 'john_hopkins', 'pathway_glm_model_all_associations.xlsx'), index=False, header=True)\n"
   ]
  },
  {
   "cell_type": "code",
   "execution_count": null,
   "id": "7e5e6b08-8762-4c7f-9409-98e9a4793bd5",
   "metadata": {},
   "outputs": [],
   "source": []
  }
 ],
 "metadata": {
  "kernelspec": {
   "display_name": "Python 3 (ipykernel)",
   "language": "python",
   "name": "python3"
  },
  "language_info": {
   "codemirror_mode": {
    "name": "ipython",
    "version": 3
   },
   "file_extension": ".py",
   "mimetype": "text/x-python",
   "name": "python",
   "nbconvert_exporter": "python",
   "pygments_lexer": "ipython3",
   "version": "3.10.9"
  }
 },
 "nbformat": 4,
 "nbformat_minor": 5
}
