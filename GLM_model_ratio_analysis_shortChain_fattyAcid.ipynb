{
 "cells": [
  {
   "cell_type": "code",
   "execution_count": 1,
   "id": "4f41b002",
   "metadata": {},
   "outputs": [],
   "source": [
    "import os\n",
    "import joblib\n",
    "import matplotlib.pyplot as plt\n",
    "import seaborn as sns\n",
    "from paths import *\n",
    "import numpy as np\n",
    "import pandas as pd"
   ]
  },
  {
   "cell_type": "code",
   "execution_count": 6,
   "id": "e598e4b7",
   "metadata": {},
   "outputs": [],
   "source": [
    "model = joblib.load(os.path.join(OUTPUT_PATH, \"GLM_shortChain_fattyAcid_without_outlier_sample_serum_feces_ratio.joblib\"))\n",
    "\n",
    "model_list = [model]\n",
    "model_name_list = [\"Without outlier\"]\n"
   ]
  },
  {
   "cell_type": "code",
   "execution_count": 15,
   "id": "6f1416c4",
   "metadata": {},
   "outputs": [
    {
     "data": {
      "text/html": [
       "<div>\n",
       "<style scoped>\n",
       "    .dataframe tbody tr th:only-of-type {\n",
       "        vertical-align: middle;\n",
       "    }\n",
       "\n",
       "    .dataframe tbody tr th {\n",
       "        vertical-align: top;\n",
       "    }\n",
       "\n",
       "    .dataframe thead th {\n",
       "        text-align: right;\n",
       "    }\n",
       "</style>\n",
       "<table border=\"1\" class=\"dataframe\">\n",
       "  <thead>\n",
       "    <tr style=\"text-align: right;\">\n",
       "      <th></th>\n",
       "      <th>analyte_name</th>\n",
       "      <th>disease_coeff</th>\n",
       "    </tr>\n",
       "  </thead>\n",
       "  <tbody>\n",
       "    <tr>\n",
       "      <th>0</th>\n",
       "      <td>2-Methylbutyric acid</td>\n",
       "      <td>-0.133243</td>\n",
       "    </tr>\n",
       "    <tr>\n",
       "      <th>1</th>\n",
       "      <td>Acetic acid</td>\n",
       "      <td>0.313652</td>\n",
       "    </tr>\n",
       "    <tr>\n",
       "      <th>2</th>\n",
       "      <td>Butyric acid</td>\n",
       "      <td>0.300880</td>\n",
       "    </tr>\n",
       "    <tr>\n",
       "      <th>3</th>\n",
       "      <td>Hexanoic acid</td>\n",
       "      <td>NaN</td>\n",
       "    </tr>\n",
       "    <tr>\n",
       "      <th>4</th>\n",
       "      <td>Isobutyric acid</td>\n",
       "      <td>NaN</td>\n",
       "    </tr>\n",
       "    <tr>\n",
       "      <th>5</th>\n",
       "      <td>Isovaleric acid</td>\n",
       "      <td>-0.161534</td>\n",
       "    </tr>\n",
       "    <tr>\n",
       "      <th>6</th>\n",
       "      <td>Propionic acid</td>\n",
       "      <td>0.297206</td>\n",
       "    </tr>\n",
       "    <tr>\n",
       "      <th>7</th>\n",
       "      <td>Valeric acid</td>\n",
       "      <td>NaN</td>\n",
       "    </tr>\n",
       "  </tbody>\n",
       "</table>\n",
       "</div>"
      ],
      "text/plain": [
       "           analyte_name  disease_coeff\n",
       "0  2-Methylbutyric acid      -0.133243\n",
       "1           Acetic acid       0.313652\n",
       "2          Butyric acid       0.300880\n",
       "3         Hexanoic acid            NaN\n",
       "4       Isobutyric acid            NaN\n",
       "5       Isovaleric acid      -0.161534\n",
       "6        Propionic acid       0.297206\n",
       "7          Valeric acid            NaN"
      ]
     },
     "execution_count": 15,
     "metadata": {},
     "output_type": "execute_result"
    }
   ],
   "source": [
    "disease_coeff = []\n",
    "pval_thresh = 0.05\n",
    "\n",
    "for model in model_list:\n",
    "    disease_coeff_model = []\n",
    "    for item in model:\n",
    "        if (item[\"model\"].pvalues[\"Disease_label\"] < pval_thresh) & (item[\"model\"].converged==1):\n",
    "            disease_coeff_model.append(item[\"model\"].params[\"Disease_label\"])\n",
    "        else:\n",
    "            disease_coeff_model.append(None)\n",
    "    disease_coeff.append(disease_coeff_model)\n",
    "        \n",
    "analyte_list = []\n",
    "for item in model_1:\n",
    "    analyte_list.append(item[\"analyte\"])\n",
    "    \n",
    "disease_coeff = np.array(disease_coeff).transpose()\n",
    "disease_coeff[disease_coeff == None] = np.nan\n",
    "disease_coeff = np.where(disease_coeff == None, np.nan, disease_coeff).astype(float)\n",
    "disease_coeff_df = pd.DataFrame(disease_coeff, index=analyte_list, columns=model_name_list)\n",
    "disease_coeff_df.reset_index(inplace=True)\n",
    "disease_coeff_df.rename(columns={\"index\":\"analyte_name\", \"Without outlier\":\"disease_coeff\"}, inplace=True)\n",
    "disease_coeff_df"
   ]
  },
  {
   "cell_type": "code",
   "execution_count": 17,
   "id": "91aa7d13",
   "metadata": {},
   "outputs": [],
   "source": [
    "sorted_df = disease_coeff_df.dropna().sort_values(by=\"disease_coeff\", ascending=False)"
   ]
  },
  {
   "cell_type": "code",
   "execution_count": 26,
   "id": "f03e2238",
   "metadata": {},
   "outputs": [
    {
     "data": {
      "image/png": "[encoded data removed]",
      "text/plain": [
       "<Figure size 288x360 with 1 Axes>"
      ]
     },
     "metadata": {
      "needs_background": "light"
     },
     "output_type": "display_data"
    },
    {
     "name": "stdout",
     "output_type": "stream",
     "text": [
      "Saving the figure ...\n"
     ]
    }
   ],
   "source": [
    "FIG_SIZE = (4, 5)\n",
    "FONTSIZE = 13\n",
    "LABELSIZE = 15\n",
    "\n",
    "filename_suffix_list = [\"combined_population\", \"ms_treated_population\", \"ms_not_treated_population\"]\n",
    "\n",
    "fig, ax = plt.subplots(figsize=FIG_SIZE)\n",
    "plt.barh(sorted_df[\"analyte_name\"], sorted_df[\"disease_coeff\"])\n",
    "plt.xticks(fontsize=FONTSIZE)\n",
    "plt.yticks(fontsize=FONTSIZE)\n",
    "plt.xlabel('Disease coeff for Serum/Feces ratio', fontsize=LABELSIZE)\n",
    "# plt.ylabel('Analyte name', fontsize=LABELSIZE)\n",
    "plt.show()\n",
    "\n",
    "print('Saving the figure ...')\n",
    "fig_filename = os.path.join(OUTPUT_PATH, \"figures\", \"disease_coeff_plot_for_the_serum_feces_ratio_for_targeted_compounds_using_combined_population.svg\")\n",
    "fig.savefig(fig_filename, format='svg', bbox_inches='tight')\n",
    "\n"
   ]
  },
  {
   "cell_type": "code",
   "execution_count": null,
   "id": "c2ab70e4",
   "metadata": {},
   "outputs": [],
   "source": []
  }
 ],
 "metadata": {
  "kernelspec": {
   "display_name": "Python 3",
   "language": "python",
   "name": "python3"
  },
  "language_info": {
   "codemirror_mode": {
    "name": "ipython",
    "version": 3
   },
   "file_extension": ".py",
   "mimetype": "text/x-python",
   "name": "python",
   "nbconvert_exporter": "python",
   "pygments_lexer": "ipython3",
   "version": "3.6.9"
  }
 },
 "nbformat": 4,
 "nbformat_minor": 5
}
