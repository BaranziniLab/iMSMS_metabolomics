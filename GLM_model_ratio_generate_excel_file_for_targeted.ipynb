{
 "cells": [
  {
   "cell_type": "code",
   "execution_count": 37,
   "id": "b8601609",
   "metadata": {},
   "outputs": [],
   "source": [
    "import pandas as pd\n",
    "import joblib\n",
    "import os\n",
    "from paths import *"
   ]
  },
  {
   "cell_type": "code",
   "execution_count": 38,
   "id": "218ab1cd",
   "metadata": {},
   "outputs": [],
   "source": [
    "population_type = \"shortChain_fattyAcid\"\n",
    "filename = \"GLM_{}_without_outlier_sample_serum_feces_ratio.joblib\".format(population_type)\n",
    "\n"
   ]
  },
  {
   "cell_type": "code",
   "execution_count": 39,
   "id": "39bac4a4",
   "metadata": {},
   "outputs": [],
   "source": [
    "model = joblib.load(os.path.join(\"result\", filename))\n"
   ]
  },
  {
   "cell_type": "code",
   "execution_count": 34,
   "id": "e3534556",
   "metadata": {},
   "outputs": [],
   "source": [
    "model_summary_list = []\n",
    "for item in model:\n",
    "    analyte_name = item[\"analyte\"]\n",
    "    try:            \n",
    "        disease_coeff = item[\"model\"].params[\"Disease_label\"]\n",
    "        disease_coeff_pvalue = item[\"model\"].pvalues[\"Disease_label\"]\n",
    "        disease_coeff_CI = tuple(item[\"model\"].conf_int().loc['Disease_label'])\n",
    "        model_converged_flag = item[\"model\"].converged\n",
    "    except:\n",
    "        disease_coeff = None\n",
    "        disease_coeff_pvalue = None\n",
    "        disease_coeff_CI = None\n",
    "        model_converged_flag = None\n",
    "    model_summary_list.append((analyte_name, disease_coeff, disease_coeff_pvalue, disease_coeff_CI, model_converged_flag))        \n",
    "\n",
    "\n",
    "\n",
    "\n",
    "model_summary_df = pd.DataFrame(model_summary_list, columns=[\"analyte_name\", \"disease_coeff\", \"pvalue\", \"CI\", \"model_converged_flag\"])\n",
    "# Create ExcelWriter object\n",
    "writer = pd.ExcelWriter(os.path.join(\"result\", 'GLM_result_{}_serum_feces_ratio.xlsx'.format(population_type)))\n",
    "\n",
    "model_summary_df.to_excel(writer, sheet_name=\"without_outlier\", index=False)\n",
    "\n",
    "# Save and close the ExcelWriter object\n",
    "writer.save()\n",
    "writer.close()\n"
   ]
  },
  {
   "cell_type": "code",
   "execution_count": null,
   "id": "66c06777",
   "metadata": {},
   "outputs": [],
   "source": []
  }
 ],
 "metadata": {
  "kernelspec": {
   "display_name": "Python 3",
   "language": "python",
   "name": "python3"
  },
  "language_info": {
   "codemirror_mode": {
    "name": "ipython",
    "version": 3
   },
   "file_extension": ".py",
   "mimetype": "text/x-python",
   "name": "python",
   "nbconvert_exporter": "python",
   "pygments_lexer": "ipython3",
   "version": "3.6.9"
  }
 },
 "nbformat": 4,
 "nbformat_minor": 5
}
