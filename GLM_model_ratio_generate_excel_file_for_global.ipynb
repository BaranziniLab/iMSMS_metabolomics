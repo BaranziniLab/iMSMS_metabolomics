{
 "cells": [
  {
   "cell_type": "code",
   "execution_count": 4,
   "id": "f6ba9edb",
   "metadata": {},
   "outputs": [],
   "source": [
    "import pandas as pd\n",
    "import joblib\n",
    "import os\n",
    "from paths import *\n"
   ]
  },
  {
   "cell_type": "code",
   "execution_count": 5,
   "id": "ca3be449",
   "metadata": {},
   "outputs": [],
   "source": [
    "population_type = \"global_compounds\"\n",
    "filename = \"GLM_{}_without_outlier_sample_serum_feces_ratio.joblib\".format(population_type)\n",
    "\n",
    "sheet_name = [\"Chemical Annotation\", \"Sample Meta Data\", \"Log Transformed Data\"]\n",
    "\n",
    "file_path = os.path.join(DATA_ROOT_PATH, GLOBAL_STOOL_DATA_FILENAME)\n",
    "analyte_metadata_feces = pd.read_excel(file_path, engine='openpyxl', sheet_name=sheet_name[0])\n",
    "\n",
    "file_path = os.path.join(DATA_ROOT_PATH, GLOBAL_SERUM_DATA_FILENAME)\n",
    "analyte_metadata_serum = pd.read_excel(file_path, engine='openpyxl', sheet_name=sheet_name[0])\n",
    "\n",
    "analyte_metadata = pd.concat([analyte_metadata_serum, analyte_metadata_feces], ignore_index=True).drop_duplicates(subset=[\"CHEM_ID\", \"CHEMICAL_NAME\"])\n"
   ]
  },
  {
   "cell_type": "code",
   "execution_count": 6,
   "id": "0157b928",
   "metadata": {},
   "outputs": [],
   "source": [
    "model = joblib.load(os.path.join(\"result\", filename))\n"
   ]
  },
  {
   "cell_type": "code",
   "execution_count": 9,
   "id": "74a728bc",
   "metadata": {},
   "outputs": [],
   "source": [
    "model_summary_list = []\n",
    "for item in model:\n",
    "    analyte_name = item[\"analyte\"]\n",
    "    try:            \n",
    "        disease_coeff = item[\"model\"].params[\"Disease_label\"]\n",
    "        disease_coeff_pvalue = item[\"model\"].pvalues[\"Disease_label\"]\n",
    "        disease_coeff_CI = tuple(item[\"model\"].conf_int().loc['Disease_label'])\n",
    "        model_converged_flag = item[\"model\"].converged\n",
    "    except:\n",
    "        disease_coeff = None\n",
    "        disease_coeff_pvalue = None\n",
    "        disease_coeff_CI = None\n",
    "        model_converged_flag = None\n",
    "    model_summary_list.append((analyte_name, disease_coeff, disease_coeff_pvalue, disease_coeff_CI, model_converged_flag))        \n",
    "\n",
    "    \n",
    "# analyte_list = []\n",
    "# for item in model:    \n",
    "#     analyte_list.append(analyte_metadata[analyte_metadata[\"CHEM_ID\"] == item[\"analyte\"]][\"CHEMICAL_NAME\"].values[0])\n",
    "\n",
    "# disease_coeff = np.array(disease_coeff).transpose()\n",
    "# disease_coeff[disease_coeff == None] = np.nan\n",
    "# disease_coeff = np.where(disease_coeff == None, np.nan, disease_coeff).astype(float)\n",
    "# disease_coeff_df = pd.DataFrame(disease_coeff, index=analyte_list, columns=model_name_list)\n",
    "# disease_coeff_df.dropna(inplace=True)\n",
    "# disease_coeff_df.reset_index(inplace=True)\n",
    "# disease_coeff_df.rename(columns={\"index\":\"analyte_name\", \"Without outlier\":\"disease_coeff\"}, inplace=True)\n",
    "\n",
    "\n",
    "model_summary_df = pd.DataFrame(model_summary_list, columns=[\"analyte_name\", \"disease_coeff\", \"pvalue\", \"CI\", \"model_converged_flag\"])\n"
   ]
  },
  {
   "cell_type": "code",
   "execution_count": 32,
   "id": "e59b9561",
   "metadata": {},
   "outputs": [],
   "source": [
    "model_summary_df_ = model_summary_df.dropna(subset=[\"disease_coeff\"])\n",
    "columns_selected = list(model_summary_df_.columns)\n",
    "columns_selected.append(\"CHEMICAL_NAME\")\n",
    "\n",
    "model_summary_df_2 = pd.merge(model_summary_df_, analyte_metadata, left_on = \"analyte_name\", right_on = \"CHEM_ID\")[columns_selected].drop(\"analyte_name\", axis=1).rename(columns={\"CHEMICAL_NAME\":\"analyte_name\"})\n",
    "model_summary_df_2 = model_summary_df_2[list(model_summary_df_.columns)].sort_values(by=\"pvalue\").reset_index().drop(\"index\", axis=1)\n"
   ]
  },
  {
   "cell_type": "code",
   "execution_count": 33,
   "id": "13015e0e",
   "metadata": {},
   "outputs": [],
   "source": [
    "# Create ExcelWriter object\n",
    "writer = pd.ExcelWriter(os.path.join(\"result\", 'GLM_result_{}_serum_feces_ratio.xlsx'.format(population_type)))\n",
    "\n",
    "model_summary_df_2.to_excel(writer, sheet_name=\"without_outlier\", index=False)\n",
    "\n",
    "# Save and close the ExcelWriter object\n",
    "writer.save()\n",
    "writer.close()\n"
   ]
  },
  {
   "cell_type": "code",
   "execution_count": null,
   "id": "1224f237",
   "metadata": {},
   "outputs": [],
   "source": []
  }
 ],
 "metadata": {
  "kernelspec": {
   "display_name": "Python 3",
   "language": "python",
   "name": "python3"
  },
  "language_info": {
   "codemirror_mode": {
    "name": "ipython",
    "version": 3
   },
   "file_extension": ".py",
   "mimetype": "text/x-python",
   "name": "python",
   "nbconvert_exporter": "python",
   "pygments_lexer": "ipython3",
   "version": "3.6.9"
  }
 },
 "nbformat": 4,
 "nbformat_minor": 5
}
