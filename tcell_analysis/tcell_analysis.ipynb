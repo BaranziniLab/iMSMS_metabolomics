{
 "cells": [
  {
   "cell_type": "code",
   "execution_count": 1,
   "id": "577552f3-3677-498c-910c-77138f9114a1",
   "metadata": {},
   "outputs": [
    {
     "name": "stderr",
     "output_type": "stream",
     "text": [
      "/Users/karthiksoman/anaconda3/lib/python3.10/site-packages/pandas/core/arrays/masked.py:60: UserWarning: Pandas requires version '1.3.6' or newer of 'bottleneck' (version '1.3.5' currently installed).\n",
      "  from pandas.core import (\n"
     ]
    }
   ],
   "source": [
    "import sys\n",
    "sys.path.insert(0,'..')\n",
    "from paths import *\n",
    "import pandas as pd\n",
    "import numpy as np\n",
    "import os\n",
    "import matplotlib.pyplot as plt\n",
    "import matplotlib.patches as mpatches\n",
    "import seaborn as sns\n",
    "import warnings\n",
    "from tqdm import tqdm\n",
    "from scipy.stats import ttest_ind\n",
    "\n",
    "from IPython.display import clear_output\n"
   ]
  },
  {
   "cell_type": "markdown",
   "id": "95bbd404-a562-497a-b971-bf81ceb83086",
   "metadata": {},
   "source": [
    "## Load untargeted metabolomics data"
   ]
  },
  {
   "cell_type": "code",
   "execution_count": 2,
   "id": "a683bf42-e95a-4fd5-8f94-bfb6ed23bade",
   "metadata": {},
   "outputs": [],
   "source": [
    "sample = \"feces\"\n",
    "\n",
    "if sample == \"serum\":\n",
    "    filename = GLOBAL_SERUM_DATA_FILENAME\n",
    "else:\n",
    "    filename = GLOBAL_STOOL_DATA_FILENAME\n",
    "    \n",
    "\n",
    "file_path = os.path.join(DATA_ROOT_PATH, filename)\n",
    "\n",
    "sheet_name = [\"Chemical Annotation\", \"Sample Meta Data\", \"Log Transformed Data\"]\n",
    "\n",
    "analyte_metadata = pd.read_excel(file_path, engine='openpyxl', sheet_name=sheet_name[0])\n",
    "patient_metadata = pd.read_excel(file_path, engine='openpyxl', sheet_name=sheet_name[1])\n",
    "data = pd.read_excel(file_path, engine='openpyxl', sheet_name=sheet_name[2])\n",
    "\n",
    "data.head()\n",
    "\n",
    "patient_metadata.loc[:, \"site_code\"] = patient_metadata[\"CLIENT_SAMPLE_ID\"].apply(lambda x:x[0:3])\n",
    "\n"
   ]
  },
  {
   "cell_type": "markdown",
   "id": "a44d783a-a0df-4e2b-a1af-3c2b8e4c804b",
   "metadata": {},
   "source": [
    "## Analyte selection"
   ]
  },
  {
   "cell_type": "code",
   "execution_count": 3,
   "id": "c2162095-5adb-4026-8390-f99077998eee",
   "metadata": {},
   "outputs": [],
   "source": [
    "global_metabolomics_compound_spoke_map = pd.read_csv(os.path.join(os.path.dirname(OUTPUT_PATH), \"global_metabolomics_compound_spoke_map.csv\"))\n",
    "\n",
    "analyte_columns = list(data.columns)\n",
    "analyte_columns.remove(\"PARENT_SAMPLE_NAME\")\n",
    "\n",
    "analyte_columns_selected = global_metabolomics_compound_spoke_map[global_metabolomics_compound_spoke_map.CHEM_ID.isin(analyte_columns)][\"CHEM_ID\"].unique()\n",
    "\n",
    "data_with_analyte_columns_selected = data[[\"PARENT_SAMPLE_NAME\"]+list(analyte_columns_selected)]\n"
   ]
  },
  {
   "cell_type": "markdown",
   "id": "b28c553f-95f7-4d84-b587-bca7741b8988",
   "metadata": {},
   "source": [
    "## Merging patient metadata with analyte concentration data"
   ]
  },
  {
   "cell_type": "code",
   "execution_count": 4,
   "id": "18b8e709-6701-4f49-bf77-f04b3a8aa243",
   "metadata": {},
   "outputs": [
    {
     "data": {
      "text/html": [
       "<div>\n",
       "<style scoped>\n",
       "    .dataframe tbody tr th:only-of-type {\n",
       "        vertical-align: middle;\n",
       "    }\n",
       "\n",
       "    .dataframe tbody tr th {\n",
       "        vertical-align: top;\n",
       "    }\n",
       "\n",
       "    .dataframe thead th {\n",
       "        text-align: right;\n",
       "    }\n",
       "</style>\n",
       "<table border=\"1\" class=\"dataframe\">\n",
       "  <thead>\n",
       "    <tr style=\"text-align: right;\">\n",
       "      <th></th>\n",
       "      <th>PARENT_SAMPLE_NAME</th>\n",
       "      <th>35</th>\n",
       "      <th>50</th>\n",
       "      <th>62</th>\n",
       "      <th>93</th>\n",
       "      <th>98</th>\n",
       "      <th>111</th>\n",
       "      <th>112</th>\n",
       "      <th>144</th>\n",
       "      <th>158</th>\n",
       "      <th>...</th>\n",
       "      <th>GROUP_NAME</th>\n",
       "      <th>AGE</th>\n",
       "      <th>BMI</th>\n",
       "      <th>GENDER</th>\n",
       "      <th>CLIENT_SAMPLE_ID</th>\n",
       "      <th>CLIENT_MATRIX</th>\n",
       "      <th>TREATMENT</th>\n",
       "      <th>SAMPLE_AMOUNT_UNITS</th>\n",
       "      <th>house</th>\n",
       "      <th>site</th>\n",
       "    </tr>\n",
       "  </thead>\n",
       "  <tbody>\n",
       "    <tr>\n",
       "      <th>0</th>\n",
       "      <td>UCSF-07758</td>\n",
       "      <td>0.023685</td>\n",
       "      <td>-0.992358</td>\n",
       "      <td>0.081437</td>\n",
       "      <td>1.225531</td>\n",
       "      <td>1.439210</td>\n",
       "      <td>-1.336249</td>\n",
       "      <td>-0.044492</td>\n",
       "      <td>0.906045</td>\n",
       "      <td>-2.241044</td>\n",
       "      <td>...</td>\n",
       "      <td>Control</td>\n",
       "      <td>32.0</td>\n",
       "      <td>18.426534</td>\n",
       "      <td>F</td>\n",
       "      <td>71802-0027</td>\n",
       "      <td>feces</td>\n",
       "      <td>Control</td>\n",
       "      <td>ug</td>\n",
       "      <td>7180027</td>\n",
       "      <td>718</td>\n",
       "    </tr>\n",
       "    <tr>\n",
       "      <th>1</th>\n",
       "      <td>UCSF-07759</td>\n",
       "      <td>0.166186</td>\n",
       "      <td>-0.094343</td>\n",
       "      <td>2.291841</td>\n",
       "      <td>0.394435</td>\n",
       "      <td>1.246446</td>\n",
       "      <td>-0.067657</td>\n",
       "      <td>1.480448</td>\n",
       "      <td>0.891433</td>\n",
       "      <td>0.079749</td>\n",
       "      <td>...</td>\n",
       "      <td>Control</td>\n",
       "      <td>44.0</td>\n",
       "      <td>19.843750</td>\n",
       "      <td>F</td>\n",
       "      <td>71702-0164</td>\n",
       "      <td>feces</td>\n",
       "      <td>Control</td>\n",
       "      <td>ug</td>\n",
       "      <td>7170164</td>\n",
       "      <td>717</td>\n",
       "    </tr>\n",
       "    <tr>\n",
       "      <th>2</th>\n",
       "      <td>UCSF-07760</td>\n",
       "      <td>0.465597</td>\n",
       "      <td>-1.197209</td>\n",
       "      <td>-1.401667</td>\n",
       "      <td>1.095159</td>\n",
       "      <td>1.556548</td>\n",
       "      <td>-1.543398</td>\n",
       "      <td>0.210838</td>\n",
       "      <td>0.647214</td>\n",
       "      <td>-1.386518</td>\n",
       "      <td>...</td>\n",
       "      <td>Control</td>\n",
       "      <td>34.0</td>\n",
       "      <td>23.685228</td>\n",
       "      <td>F</td>\n",
       "      <td>71602-0131</td>\n",
       "      <td>feces</td>\n",
       "      <td>Control</td>\n",
       "      <td>ug</td>\n",
       "      <td>7160131</td>\n",
       "      <td>716</td>\n",
       "    </tr>\n",
       "    <tr>\n",
       "      <th>3</th>\n",
       "      <td>UCSF-07761</td>\n",
       "      <td>-0.375407</td>\n",
       "      <td>-2.276426</td>\n",
       "      <td>-3.918197</td>\n",
       "      <td>-1.385966</td>\n",
       "      <td>-1.021095</td>\n",
       "      <td>-1.543398</td>\n",
       "      <td>-0.053911</td>\n",
       "      <td>-0.691927</td>\n",
       "      <td>-2.241044</td>\n",
       "      <td>...</td>\n",
       "      <td>Control</td>\n",
       "      <td>65.0</td>\n",
       "      <td>33.388778</td>\n",
       "      <td>F</td>\n",
       "      <td>71702-0214</td>\n",
       "      <td>feces</td>\n",
       "      <td>Control</td>\n",
       "      <td>ug</td>\n",
       "      <td>7170214</td>\n",
       "      <td>717</td>\n",
       "    </tr>\n",
       "    <tr>\n",
       "      <th>4</th>\n",
       "      <td>UCSF-07762</td>\n",
       "      <td>0.340142</td>\n",
       "      <td>-0.125123</td>\n",
       "      <td>0.211002</td>\n",
       "      <td>1.791118</td>\n",
       "      <td>1.316333</td>\n",
       "      <td>0.284801</td>\n",
       "      <td>1.346525</td>\n",
       "      <td>2.621563</td>\n",
       "      <td>-2.241044</td>\n",
       "      <td>...</td>\n",
       "      <td>Control</td>\n",
       "      <td>29.0</td>\n",
       "      <td>28.133657</td>\n",
       "      <td>F</td>\n",
       "      <td>71802-0168</td>\n",
       "      <td>feces</td>\n",
       "      <td>Control</td>\n",
       "      <td>ug</td>\n",
       "      <td>7180168</td>\n",
       "      <td>718</td>\n",
       "    </tr>\n",
       "  </tbody>\n",
       "</table>\n",
       "<p>5 rows × 689 columns</p>\n",
       "</div>"
      ],
      "text/plain": [
       "  PARENT_SAMPLE_NAME        35        50        62        93        98  \\\n",
       "0         UCSF-07758  0.023685 -0.992358  0.081437  1.225531  1.439210   \n",
       "1         UCSF-07759  0.166186 -0.094343  2.291841  0.394435  1.246446   \n",
       "2         UCSF-07760  0.465597 -1.197209 -1.401667  1.095159  1.556548   \n",
       "3         UCSF-07761 -0.375407 -2.276426 -3.918197 -1.385966 -1.021095   \n",
       "4         UCSF-07762  0.340142 -0.125123  0.211002  1.791118  1.316333   \n",
       "\n",
       "        111       112       144       158  ...  GROUP_NAME   AGE        BMI  \\\n",
       "0 -1.336249 -0.044492  0.906045 -2.241044  ...     Control  32.0  18.426534   \n",
       "1 -0.067657  1.480448  0.891433  0.079749  ...     Control  44.0  19.843750   \n",
       "2 -1.543398  0.210838  0.647214 -1.386518  ...     Control  34.0  23.685228   \n",
       "3 -1.543398 -0.053911 -0.691927 -2.241044  ...     Control  65.0  33.388778   \n",
       "4  0.284801  1.346525  2.621563 -2.241044  ...     Control  29.0  28.133657   \n",
       "\n",
       "   GENDER  CLIENT_SAMPLE_ID  CLIENT_MATRIX  TREATMENT  SAMPLE_AMOUNT_UNITS  \\\n",
       "0       F        71802-0027          feces    Control                   ug   \n",
       "1       F        71702-0164          feces    Control                   ug   \n",
       "2       F        71602-0131          feces    Control                   ug   \n",
       "3       F        71702-0214          feces    Control                   ug   \n",
       "4       F        71802-0168          feces    Control                   ug   \n",
       "\n",
       "     house  site  \n",
       "0  7180027   718  \n",
       "1  7170164   717  \n",
       "2  7160131   716  \n",
       "3  7170214   717  \n",
       "4  7180168   718  \n",
       "\n",
       "[5 rows x 689 columns]"
      ]
     },
     "execution_count": 4,
     "metadata": {},
     "output_type": "execute_result"
    }
   ],
   "source": [
    "selected_metadata_columns = [\"PARENT_SAMPLE_NAME\", \"CLIENT_IDENTIFIER\", \"GROUP_NAME\", \"AGE\", \"BMI\", \"GENDER\", \"CLIENT_SAMPLE_ID\", \"CLIENT_MATRIX\", \"TREATMENT\", \"SAMPLE_AMOUNT_UNITS\"]\n",
    "patient_metadata_selected_columns = patient_metadata[selected_metadata_columns]\n",
    "patient_metadata_selected_columns.loc[:, 'house'] = (patient_metadata_selected_columns['CLIENT_SAMPLE_ID'].str[:3] + patient_metadata_selected_columns['CLIENT_SAMPLE_ID'].str[-4:])\n",
    "patient_metadata_selected_columns.loc[:, 'site'] = patient_metadata_selected_columns.loc[:, 'CLIENT_SAMPLE_ID'].str[:3]\n",
    "\n",
    "\n",
    "data_with_patient_metadata = pd.merge(data_with_analyte_columns_selected, patient_metadata_selected_columns, on=\"PARENT_SAMPLE_NAME\")\n",
    "\n",
    "selected_metadata_columns.append('site')\n",
    "\n",
    "clear_output()\n",
    "\n",
    "data_with_patient_metadata.head()\n",
    "\n"
   ]
  },
  {
   "cell_type": "markdown",
   "id": "f45dd1b1-36c3-4ba5-a0a1-29518d96d3ae",
   "metadata": {},
   "source": [
    "## Load patient ids shared by Jorge Correale"
   ]
  },
  {
   "cell_type": "code",
   "execution_count": 5,
   "id": "e68299e8-8392-4c14-b8c3-e94c3a4b87c5",
   "metadata": {},
   "outputs": [],
   "source": [
    "tcell_patient_ids = pd.read_excel(os.path.join(DATA_ROOT_PATH, 'tcell_data', 'patients_selected_by_Jorge_Correale.xlsx'), engine='openpyxl')\n",
    "tcell_patient_ids_list = list(tcell_patient_ids.Patients) + list(tcell_patient_ids.Controls)\n",
    "tcell_patient_ids_list = list(pd.DataFrame(tcell_patient_ids_list, columns=['patient_id']).dropna().patient_id)\n",
    "\n",
    "tcell_patient_data = data_with_patient_metadata[data_with_patient_metadata.CLIENT_SAMPLE_ID.isin(tcell_patient_ids_list)]\n"
   ]
  },
  {
   "cell_type": "markdown",
   "id": "0ddc3fc9-0249-4747-8d24-8c02f5463a25",
   "metadata": {},
   "source": [
    "## Get CHEM ID for riboflavin"
   ]
  },
  {
   "cell_type": "code",
   "execution_count": 6,
   "id": "6daec604-19ca-4bb5-bba3-978bbde348e6",
   "metadata": {},
   "outputs": [
    {
     "data": {
      "text/plain": [
       "500"
      ]
     },
     "execution_count": 6,
     "metadata": {},
     "output_type": "execute_result"
    }
   ],
   "source": [
    "riboflavin_chem_id = analyte_metadata[analyte_metadata['CHEMICAL_NAME'].str.contains('riboflavin')].CHEM_ID.values[0]\n",
    "riboflavin_chem_id"
   ]
  },
  {
   "cell_type": "code",
   "execution_count": 7,
   "id": "25beb660-52ca-4dd9-8b0f-4761923d878c",
   "metadata": {},
   "outputs": [
    {
     "data": {
      "text/html": [
       "<div>\n",
       "<style scoped>\n",
       "    .dataframe tbody tr th:only-of-type {\n",
       "        vertical-align: middle;\n",
       "    }\n",
       "\n",
       "    .dataframe tbody tr th {\n",
       "        vertical-align: top;\n",
       "    }\n",
       "\n",
       "    .dataframe thead th {\n",
       "        text-align: right;\n",
       "    }\n",
       "</style>\n",
       "<table border=\"1\" class=\"dataframe\">\n",
       "  <thead>\n",
       "    <tr style=\"text-align: right;\">\n",
       "      <th></th>\n",
       "      <th>CHEM_ID</th>\n",
       "      <th>LIB_ID</th>\n",
       "      <th>COMP_ID</th>\n",
       "      <th>CHRO_LIB_ENTRY_ID</th>\n",
       "      <th>SUPER_PATHWAY</th>\n",
       "      <th>SUB_PATHWAY</th>\n",
       "      <th>PATHWAY_SORTORDER</th>\n",
       "      <th>TYPE</th>\n",
       "      <th>INCHIKEY</th>\n",
       "      <th>SMILES</th>\n",
       "      <th>CHEMICAL_NAME</th>\n",
       "      <th>PLOT_NAME</th>\n",
       "      <th>CAS</th>\n",
       "      <th>CHEMSPIDER</th>\n",
       "      <th>HMDB</th>\n",
       "      <th>KEGG</th>\n",
       "      <th>PUBCHEM</th>\n",
       "      <th>PLATFORM</th>\n",
       "    </tr>\n",
       "  </thead>\n",
       "  <tbody>\n",
       "  </tbody>\n",
       "</table>\n",
       "</div>"
      ],
      "text/plain": [
       "Empty DataFrame\n",
       "Columns: [CHEM_ID, LIB_ID, COMP_ID, CHRO_LIB_ENTRY_ID, SUPER_PATHWAY, SUB_PATHWAY, PATHWAY_SORTORDER, TYPE, INCHIKEY, SMILES, CHEMICAL_NAME, PLOT_NAME, CAS, CHEMSPIDER, HMDB, KEGG, PUBCHEM, PLATFORM]\n",
       "Index: []"
      ]
     },
     "execution_count": 7,
     "metadata": {},
     "output_type": "execute_result"
    }
   ],
   "source": [
    "analyte_metadata[analyte_metadata['CHEMICAL_NAME'].str.contains('Vit')]\n",
    "\n"
   ]
  },
  {
   "cell_type": "markdown",
   "id": "f3413be0-a525-4da9-b936-2cf1ed89cf91",
   "metadata": {},
   "source": [
    "## Separate MS and Control group and get their Riboflavin levels"
   ]
  },
  {
   "cell_type": "code",
   "execution_count": 8,
   "id": "cfe4e077-3ba3-40c2-89bf-14908dd985e5",
   "metadata": {},
   "outputs": [],
   "source": [
    "tcell_patient_data_ms = tcell_patient_data[tcell_patient_data['GROUP_NAME']=='MS']\n",
    "tcell_patient_data_control = tcell_patient_data[tcell_patient_data['GROUP_NAME']=='Control']\n",
    "\n",
    "tcell_patient_data_ms_riboflavin = list(tcell_patient_data_ms[riboflavin_chem_id])\n",
    "tcell_patient_data_control_riboflavin = list(tcell_patient_data_control[riboflavin_chem_id])\n",
    "\n",
    "# tcell_patient_data_ms_riboflavin = np.exp(tcell_patient_data_ms_riboflavin)\n",
    "# tcell_patient_data_control_riboflavin = np.exp(tcell_patient_data_control_riboflavin)\n"
   ]
  },
  {
   "cell_type": "markdown",
   "id": "a658851e-7796-4b47-993d-4870ef7a2f94",
   "metadata": {},
   "source": [
    "## t-test of 2 groups"
   ]
  },
  {
   "cell_type": "code",
   "execution_count": 9,
   "id": "4a504250-e0ca-4349-a763-303ec975fb64",
   "metadata": {},
   "outputs": [],
   "source": [
    "\n",
    "t_stat, p_val = ttest_ind(tcell_patient_data_ms_riboflavin, tcell_patient_data_control_riboflavin)\n",
    "\n",
    "if p_val < 0.001:\n",
    "    stars = '***'\n",
    "elif p_val < 0.01:\n",
    "    stars = '**'\n",
    "elif p_val < 0.05:\n",
    "    stars = '*'\n",
    "else:\n",
    "    stars = 'ns'\n"
   ]
  },
  {
   "cell_type": "markdown",
   "id": "b298b855-8734-478a-b1e5-6ac8c5f51ad5",
   "metadata": {},
   "source": [
    "## Box plot of Riboflavin level for 2 groups"
   ]
  },
  {
   "cell_type": "code",
   "execution_count": 10,
   "id": "c222db1e-c6ca-4767-a5e5-98d7612f5e0b",
   "metadata": {},
   "outputs": [
    {
     "name": "stderr",
     "output_type": "stream",
     "text": [
      "/Users/karthiksoman/anaconda3/lib/python3.10/site-packages/seaborn/categorical.py:166: FutureWarning: Setting a gradient palette using color= is deprecated and will be removed in version 0.13. Set `palette='dark:gray'` for same effect.\n",
      "  warnings.warn(msg, FutureWarning)\n",
      "/Users/karthiksoman/anaconda3/lib/python3.10/site-packages/seaborn/_oldcore.py:1119: FutureWarning: use_inf_as_na option is deprecated and will be removed in a future version. Convert inf values to NaN before operating instead.\n",
      "  with pd.option_context('mode.use_inf_as_na', True):\n",
      "/Users/karthiksoman/anaconda3/lib/python3.10/site-packages/seaborn/_oldcore.py:1119: FutureWarning: use_inf_as_na option is deprecated and will be removed in a future version. Convert inf values to NaN before operating instead.\n",
      "  with pd.option_context('mode.use_inf_as_na', True):\n",
      "/Users/karthiksoman/anaconda3/lib/python3.10/site-packages/seaborn/_oldcore.py:1075: FutureWarning: When grouping with a length-1 list-like, you will need to pass a length-1 tuple to get_group in a future version of pandas. Pass `(name,)` instead of `name` to silence this warning.\n",
      "  data_subset = grouped_data.get_group(pd_key)\n"
     ]
    },
    {
     "data": {
      "image/png": "[encoded data removed]",
      "text/plain": [
       "<Figure size 200x400 with 1 Axes>"
      ]
     },
     "metadata": {},
     "output_type": "display_data"
    },
    {
     "name": "stdout",
     "output_type": "stream",
     "text": [
      "Saving the figure ...\n"
     ]
    }
   ],
   "source": [
    "\n",
    "fig, ax = plt.subplots(figsize=(2, 4))\n",
    "\n",
    "riboflavin_data_combined = [tcell_patient_data_ms_riboflavin, tcell_patient_data_control_riboflavin]\n",
    "\n",
    "sns.boxplot(data=riboflavin_data_combined, ax=ax, showfliers=False)\n",
    "sns.swarmplot(data=riboflavin_data_combined, color='gray', alpha=0.5, ax=ax, marker='o')\n",
    "ax.set_xticklabels(['MS', 'Control'])\n",
    "\n",
    "y, h, col = max(max(riboflavin_data_combined[0]), max(riboflavin_data_combined[1])) + .1, 0.2, 'k'\n",
    "plt.plot([0, 0, 1, 1], [y, y+h, y+h, y], lw=1.5, color=col)\n",
    "plt.text((0 + 1) * .5, y + h, stars, ha='center', va='bottom', color=col)\n",
    "plt.ylabel('Riboflavin level')\n",
    "\n",
    "ax.spines['top'].set_visible(False)\n",
    "ax.spines['right'].set_visible(False)\n",
    "\n",
    "plt.show()\n",
    "\n",
    "print('Saving the figure ...')\n",
    "fig_filename = os.path.join(DATA_ROOT_PATH, 'tcell_data', 'figures', f'box_plot_{sample}.tiff')\n",
    "fig.savefig(fig_filename, format='tiff', bbox_inches='tight')\n",
    "\n"
   ]
  },
  {
   "cell_type": "code",
   "execution_count": 11,
   "id": "b9e2922e-23f2-489d-b0f1-f3d7c97d5d5e",
   "metadata": {},
   "outputs": [
    {
     "data": {
      "text/plain": [
       "0.3558312701023374"
      ]
     },
     "execution_count": 11,
     "metadata": {},
     "output_type": "execute_result"
    }
   ],
   "source": [
    "p_val"
   ]
  },
  {
   "cell_type": "code",
   "execution_count": 12,
   "id": "c3a68d63-9621-4e16-9242-ef23d9a16109",
   "metadata": {},
   "outputs": [],
   "source": [
    "df_1 = pd.merge(tcell_patient_ids, tcell_patient_data_ms, left_on='Patients', right_on='CLIENT_SAMPLE_ID')\n",
    "\n",
    "df_2 = pd.merge(df_1, tcell_patient_data_control, left_on='Controls', right_on='CLIENT_SAMPLE_ID')\n"
   ]
  },
  {
   "cell_type": "code",
   "execution_count": 13,
   "id": "f5534e47-43ff-496a-b9b0-55a1720f5182",
   "metadata": {},
   "outputs": [
    {
     "data": {
      "text/html": [
       "<div>\n",
       "<style scoped>\n",
       "    .dataframe tbody tr th:only-of-type {\n",
       "        vertical-align: middle;\n",
       "    }\n",
       "\n",
       "    .dataframe tbody tr th {\n",
       "        vertical-align: top;\n",
       "    }\n",
       "\n",
       "    .dataframe thead th {\n",
       "        text-align: right;\n",
       "    }\n",
       "</style>\n",
       "<table border=\"1\" class=\"dataframe\">\n",
       "  <thead>\n",
       "    <tr style=\"text-align: right;\">\n",
       "      <th></th>\n",
       "      <th>Patients</th>\n",
       "      <th>Controls</th>\n",
       "      <th>500_x</th>\n",
       "      <th>500_y</th>\n",
       "    </tr>\n",
       "  </thead>\n",
       "  <tbody>\n",
       "    <tr>\n",
       "      <th>0</th>\n",
       "      <td>71801-0002</td>\n",
       "      <td>71802-0005</td>\n",
       "      <td>0.601233</td>\n",
       "      <td>-0.689718</td>\n",
       "    </tr>\n",
       "    <tr>\n",
       "      <th>1</th>\n",
       "      <td>71801-0003</td>\n",
       "      <td>71802-0006</td>\n",
       "      <td>0.523558</td>\n",
       "      <td>-0.095791</td>\n",
       "    </tr>\n",
       "    <tr>\n",
       "      <th>2</th>\n",
       "      <td>71801-0013</td>\n",
       "      <td>71802-0010</td>\n",
       "      <td>-1.597964</td>\n",
       "      <td>-0.417641</td>\n",
       "    </tr>\n",
       "    <tr>\n",
       "      <th>3</th>\n",
       "      <td>71801-0017</td>\n",
       "      <td>71802-0011</td>\n",
       "      <td>0.434001</td>\n",
       "      <td>0.298686</td>\n",
       "    </tr>\n",
       "    <tr>\n",
       "      <th>4</th>\n",
       "      <td>71801-0020</td>\n",
       "      <td>71802-0012</td>\n",
       "      <td>-0.205326</td>\n",
       "      <td>0.162480</td>\n",
       "    </tr>\n",
       "    <tr>\n",
       "      <th>5</th>\n",
       "      <td>71801-0023</td>\n",
       "      <td>71802-0015</td>\n",
       "      <td>-1.131582</td>\n",
       "      <td>-0.340699</td>\n",
       "    </tr>\n",
       "    <tr>\n",
       "      <th>6</th>\n",
       "      <td>71801-0032</td>\n",
       "      <td>71802-0021</td>\n",
       "      <td>0.386817</td>\n",
       "      <td>-0.140426</td>\n",
       "    </tr>\n",
       "    <tr>\n",
       "      <th>7</th>\n",
       "      <td>71801-0035</td>\n",
       "      <td>71802-0031</td>\n",
       "      <td>-0.052182</td>\n",
       "      <td>-0.483760</td>\n",
       "    </tr>\n",
       "    <tr>\n",
       "      <th>8</th>\n",
       "      <td>71801-0038</td>\n",
       "      <td>71802-0046</td>\n",
       "      <td>-1.213687</td>\n",
       "      <td>-0.153122</td>\n",
       "    </tr>\n",
       "    <tr>\n",
       "      <th>9</th>\n",
       "      <td>71801-0041</td>\n",
       "      <td>71802-0052</td>\n",
       "      <td>-0.453953</td>\n",
       "      <td>0.634642</td>\n",
       "    </tr>\n",
       "    <tr>\n",
       "      <th>10</th>\n",
       "      <td>71801-0046</td>\n",
       "      <td>71802-0077</td>\n",
       "      <td>-1.440373</td>\n",
       "      <td>0.269147</td>\n",
       "    </tr>\n",
       "    <tr>\n",
       "      <th>11</th>\n",
       "      <td>71801-0052</td>\n",
       "      <td>71802-0129</td>\n",
       "      <td>0.332235</td>\n",
       "      <td>-0.064483</td>\n",
       "    </tr>\n",
       "  </tbody>\n",
       "</table>\n",
       "</div>"
      ],
      "text/plain": [
       "      Patients    Controls     500_x     500_y\n",
       "0   71801-0002  71802-0005  0.601233 -0.689718\n",
       "1   71801-0003  71802-0006  0.523558 -0.095791\n",
       "2   71801-0013  71802-0010 -1.597964 -0.417641\n",
       "3   71801-0017  71802-0011  0.434001  0.298686\n",
       "4   71801-0020  71802-0012 -0.205326  0.162480\n",
       "5   71801-0023  71802-0015 -1.131582 -0.340699\n",
       "6   71801-0032  71802-0021  0.386817 -0.140426\n",
       "7   71801-0035  71802-0031 -0.052182 -0.483760\n",
       "8   71801-0038  71802-0046 -1.213687 -0.153122\n",
       "9   71801-0041  71802-0052 -0.453953  0.634642\n",
       "10  71801-0046  71802-0077 -1.440373  0.269147\n",
       "11  71801-0052  71802-0129  0.332235 -0.064483"
      ]
     },
     "execution_count": 13,
     "metadata": {},
     "output_type": "execute_result"
    }
   ],
   "source": [
    "df_3 = df_2[['Patients', 'Controls']+[str(riboflavin_chem_id)+'_x', str(riboflavin_chem_id)+'_y']]\n",
    "df_3"
   ]
  },
  {
   "cell_type": "code",
   "execution_count": 14,
   "id": "7641af48-fc30-4d51-91c3-0a879897b29e",
   "metadata": {},
   "outputs": [
    {
     "name": "stderr",
     "output_type": "stream",
     "text": [
      "/var/folders/p1/h56gxdhs5vgb0ztp7h4z606h0000gn/T/ipykernel_88619/253726988.py:10: UserWarning: Ignoring `palette` because no `hue` variable has been assigned.\n",
      "  sns.stripplot(data=[df_3['Patients'], df_3['Controls']], jitter=True, palette='Set2')\n"
     ]
    },
    {
     "data": {
      "image/png": "[encoded data removed]",
      "text/plain": [
       "<Figure size 200x400 with 1 Axes>"
      ]
     },
     "metadata": {},
     "output_type": "display_data"
    },
    {
     "name": "stdout",
     "output_type": "stream",
     "text": [
      "Saving the figure ...\n"
     ]
    }
   ],
   "source": [
    "from scipy.stats import chi2_contingency\n",
    "\n",
    "\n",
    "contingency_table = pd.crosstab(df_3['500_x'], df_3['500_y'])\n",
    "chi2, p, dof, expected = chi2_contingency(contingency_table)\n",
    "\n",
    "\n",
    "fig = plt.figure(figsize=(2, 4))\n",
    "\n",
    "sns.stripplot(data=[df_3['Patients'], df_3['Controls']], jitter=True, palette='Set2')\n",
    "\n",
    "for i in range(df_3.shape[0]):\n",
    "    plt.plot([0, 1], [df_3['500_x'].iloc[i], df_3['500_y'].iloc[i]], color='gray', linestyle='-', linewidth=0.5)\n",
    "    plt.scatter(0, df_3['500_x'].iloc[i], color='red', zorder=3)\n",
    "    plt.scatter(1, df_3['500_y'].iloc[i], color='green', zorder=3)\n",
    "    \n",
    "plt.xticks([0, 1], ['MS', 'Control'])\n",
    "plt.ylabel('Riboflavin level')\n",
    "# plt.title('Patient and Control Data with Connections between 500_x and 500_y')\n",
    "\n",
    "plt.text(0.5, max(max(df_3['500_x']), max(df_3['500_y'])) + 0.2, f'chi2 p-value: {p:.2f}', ha='center')\n",
    "\n",
    "plt.show()\n",
    "\n",
    "print('Saving the figure ...')\n",
    "fig_filename = os.path.join(DATA_ROOT_PATH, 'tcell_data', 'figures', f'strip_plot_{sample}.tiff')\n",
    "fig = fig.savefig(fig_filename, format='tiff', bbox_inches='tight')\n",
    "\n"
   ]
  },
  {
   "cell_type": "code",
   "execution_count": null,
   "id": "65fb1ca2-62f9-47c1-bf07-98c3a0d8d87b",
   "metadata": {},
   "outputs": [],
   "source": []
  },
  {
   "cell_type": "code",
   "execution_count": null,
   "id": "c5f45ea6-2e4f-40c7-a076-d8cbb3cbedb5",
   "metadata": {},
   "outputs": [],
   "source": []
  }
 ],
 "metadata": {
  "kernelspec": {
   "display_name": "Python 3 (ipykernel)",
   "language": "python",
   "name": "python3"
  },
  "language_info": {
   "codemirror_mode": {
    "name": "ipython",
    "version": 3
   },
   "file_extension": ".py",
   "mimetype": "text/x-python",
   "name": "python",
   "nbconvert_exporter": "python",
   "pygments_lexer": "ipython3",
   "version": "3.10.9"
  }
 },
 "nbformat": 4,
 "nbformat_minor": 5
}
