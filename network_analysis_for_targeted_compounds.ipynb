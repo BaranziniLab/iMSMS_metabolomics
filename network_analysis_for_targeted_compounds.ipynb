{
 "cells": [
  {
   "cell_type": "code",
   "execution_count": 25,
   "id": "979542fb",
   "metadata": {},
   "outputs": [],
   "source": [
    "import os\n",
    "import pickle\n",
    "import pandas as pd\n",
    "import numpy as np\n",
    "from paths import *\n"
   ]
  },
  {
   "cell_type": "code",
   "execution_count": 26,
   "id": "90e6df63",
   "metadata": {},
   "outputs": [],
   "source": [
    "compound_type = \"targeted\"\n",
    "sample = \"feces\"\n",
    "sel_sheet_index = 0\n",
    "\n",
    "filename = \"extracted_paths_for_{}_compounds_{}_sample_sheet_index_{}_dict.pickle\".format(compound_type, sample, str(sel_sheet_index))\n"
   ]
  },
  {
   "cell_type": "code",
   "execution_count": null,
   "id": "ea49f46e",
   "metadata": {},
   "outputs": [],
   "source": [
    "with open(os.path.join(OUTPUT_PATH, \"spoke_embedding_analysis\", filename), \"rb\") as f:\n",
    "    extracted_paths = pickle.load(f)\n",
    "    "
   ]
  },
  {
   "cell_type": "code",
   "execution_count": null,
   "id": "362d9de4",
   "metadata": {},
   "outputs": [],
   "source": []
  }
 ],
 "metadata": {
  "kernelspec": {
   "display_name": "Python 3",
   "language": "python",
   "name": "python3"
  },
  "language_info": {
   "codemirror_mode": {
    "name": "ipython",
    "version": 3
   },
   "file_extension": ".py",
   "mimetype": "text/x-python",
   "name": "python",
   "nbconvert_exporter": "python",
   "pygments_lexer": "ipython3",
   "version": "3.6.9"
  }
 },
 "nbformat": 4,
 "nbformat_minor": 5
}
