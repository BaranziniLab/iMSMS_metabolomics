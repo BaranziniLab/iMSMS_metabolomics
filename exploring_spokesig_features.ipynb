{
 "cells": [
  {
   "cell_type": "code",
   "execution_count": 6,
   "id": "de430df8",
   "metadata": {},
   "outputs": [],
   "source": [
    "import pickle\n",
    "import os\n",
    "import pandas as pd\n",
    "from paths import *\n",
    "import pandas as pd"
   ]
  },
  {
   "cell_type": "code",
   "execution_count": 2,
   "id": "bc5f650f",
   "metadata": {},
   "outputs": [
    {
     "name": "stdout",
     "output_type": "stream",
     "text": [
      "CPU times: user 9.09 s, sys: 33.8 s, total: 42.9 s\n",
      "Wall time: 42.9 s\n"
     ]
    }
   ],
   "source": [
    "%%time\n",
    "with open(os.path.join(OUTPUT_PATH, \"spoke_embedding_analysis\", \"ppr_features_dict_gzip_compressed.pickle\"), \"rb\") as f:\n",
    "    features = pickle.load(f)"
   ]
  },
  {
   "cell_type": "code",
   "execution_count": 3,
   "id": "12c5fe9e",
   "metadata": {},
   "outputs": [
    {
     "data": {
      "text/plain": [
       "{'features': array(['Anatomy:UBERON:0001255', 'Gene:8938', 'Gene:2812', ...,\n",
       "        'Variant:rs72991939', 'Variant:rs113428065', 'Variant:rs1056914'],\n",
       "       dtype='<U191')}"
      ]
     },
     "execution_count": 3,
     "metadata": {},
     "output_type": "execute_result"
    }
   ],
   "source": [
    "features"
   ]
  },
  {
   "cell_type": "code",
   "execution_count": 7,
   "id": "00ecd909",
   "metadata": {},
   "outputs": [],
   "source": [
    "features_df = pd.DataFrame(features[\"features\"], columns=[\"node_id\"])\n"
   ]
  },
  {
   "cell_type": "code",
   "execution_count": 9,
   "id": "076f4eb2",
   "metadata": {},
   "outputs": [],
   "source": [
    "features_df[\"node_type\"] = features_df.node_id.apply(lambda x:x.split(\":\")[0])\n"
   ]
  },
  {
   "cell_type": "code",
   "execution_count": 13,
   "id": "01685578",
   "metadata": {},
   "outputs": [],
   "source": [
    "features_df.node_id = features_df.node_id.apply(lambda x:\":\".join(x.split(\":\")[1:]))\n"
   ]
  },
  {
   "cell_type": "code",
   "execution_count": 15,
   "id": "0d9a835d",
   "metadata": {},
   "outputs": [],
   "source": [
    "features_df.to_csv(os.path.join(OUTPUT_PATH, \"spoke_embedding_analysis\", \"spoke35M_ppr_features.csv\"), index=False, header=True)\n"
   ]
  },
  {
   "cell_type": "code",
   "execution_count": 19,
   "id": "9399ebb7",
   "metadata": {},
   "outputs": [
    {
     "data": {
      "text/plain": [
       "(21,)"
      ]
     },
     "execution_count": 19,
     "metadata": {},
     "output_type": "execute_result"
    }
   ],
   "source": [
    "features_df.node_type.unique().shape"
   ]
  },
  {
   "cell_type": "code",
   "execution_count": 20,
   "id": "33e67a9b",
   "metadata": {},
   "outputs": [
    {
     "data": {
      "text/html": [
       "<div>\n",
       "<style scoped>\n",
       "    .dataframe tbody tr th:only-of-type {\n",
       "        vertical-align: middle;\n",
       "    }\n",
       "\n",
       "    .dataframe tbody tr th {\n",
       "        vertical-align: top;\n",
       "    }\n",
       "\n",
       "    .dataframe thead th {\n",
       "        text-align: right;\n",
       "    }\n",
       "</style>\n",
       "<table border=\"1\" class=\"dataframe\">\n",
       "  <thead>\n",
       "    <tr style=\"text-align: right;\">\n",
       "      <th></th>\n",
       "      <th>node_id</th>\n",
       "      <th>node_type</th>\n",
       "    </tr>\n",
       "  </thead>\n",
       "  <tbody>\n",
       "    <tr>\n",
       "      <th>1</th>\n",
       "      <td>8938</td>\n",
       "      <td>Gene</td>\n",
       "    </tr>\n",
       "    <tr>\n",
       "      <th>2</th>\n",
       "      <td>2812</td>\n",
       "      <td>Gene</td>\n",
       "    </tr>\n",
       "    <tr>\n",
       "      <th>3</th>\n",
       "      <td>127391</td>\n",
       "      <td>Gene</td>\n",
       "    </tr>\n",
       "    <tr>\n",
       "      <th>4</th>\n",
       "      <td>222008</td>\n",
       "      <td>Gene</td>\n",
       "    </tr>\n",
       "    <tr>\n",
       "      <th>5</th>\n",
       "      <td>147323</td>\n",
       "      <td>Gene</td>\n",
       "    </tr>\n",
       "    <tr>\n",
       "      <th>...</th>\n",
       "      <td>...</td>\n",
       "      <td>...</td>\n",
       "    </tr>\n",
       "    <tr>\n",
       "      <th>665854</th>\n",
       "      <td>101927844</td>\n",
       "      <td>Gene</td>\n",
       "    </tr>\n",
       "    <tr>\n",
       "      <th>665857</th>\n",
       "      <td>101928120</td>\n",
       "      <td>Gene</td>\n",
       "    </tr>\n",
       "    <tr>\n",
       "      <th>665866</th>\n",
       "      <td>107303344</td>\n",
       "      <td>Gene</td>\n",
       "    </tr>\n",
       "    <tr>\n",
       "      <th>665875</th>\n",
       "      <td>441490</td>\n",
       "      <td>Gene</td>\n",
       "    </tr>\n",
       "    <tr>\n",
       "      <th>665888</th>\n",
       "      <td>101929372</td>\n",
       "      <td>Gene</td>\n",
       "    </tr>\n",
       "  </tbody>\n",
       "</table>\n",
       "<p>20730 rows × 2 columns</p>\n",
       "</div>"
      ],
      "text/plain": [
       "          node_id node_type\n",
       "1            8938      Gene\n",
       "2            2812      Gene\n",
       "3          127391      Gene\n",
       "4          222008      Gene\n",
       "5          147323      Gene\n",
       "...           ...       ...\n",
       "665854  101927844      Gene\n",
       "665857  101928120      Gene\n",
       "665866  107303344      Gene\n",
       "665875     441490      Gene\n",
       "665888  101929372      Gene\n",
       "\n",
       "[20730 rows x 2 columns]"
      ]
     },
     "execution_count": 20,
     "metadata": {},
     "output_type": "execute_result"
    }
   ],
   "source": [
    "features_df[features_df.node_type==\"Gene\"]"
   ]
  },
  {
   "cell_type": "code",
   "execution_count": null,
   "id": "ca7583ad",
   "metadata": {},
   "outputs": [],
   "source": [
    "\"\"\"\n",
    "From an implicit embedding vector of MS, extract top N biological nodes (both top positive and top negative nodes)\n",
    "Check the proximity of these biological nodes with respect to MS disease node in graph space\n",
    "\"\"\""
   ]
  }
 ],
 "metadata": {
  "kernelspec": {
   "display_name": "Python 3",
   "language": "python",
   "name": "python3"
  },
  "language_info": {
   "codemirror_mode": {
    "name": "ipython",
    "version": 3
   },
   "file_extension": ".py",
   "mimetype": "text/x-python",
   "name": "python",
   "nbconvert_exporter": "python",
   "pygments_lexer": "ipython3",
   "version": "3.6.9"
  }
 },
 "nbformat": 4,
 "nbformat_minor": 5
}
