{
 "cells": [
  {
   "cell_type": "code",
   "execution_count": 100,
   "id": "07e8a320",
   "metadata": {},
   "outputs": [],
   "source": [
    "from paths import *\n",
    "import os\n",
    "import pickle\n",
    "import pandas as pd\n",
    "import matplotlib.pyplot as plt\n",
    "import pickle\n",
    "from neo4j import GraphDatabase, basic_auth\n",
    "import warnings\n",
    "\n"
   ]
  },
  {
   "cell_type": "code",
   "execution_count": 101,
   "id": "e0fbfefb",
   "metadata": {},
   "outputs": [],
   "source": [
    "warnings.filterwarnings('ignore', 'FixedFormatter should only be used together with FixedLocator')\n"
   ]
  },
  {
   "cell_type": "code",
   "execution_count": 19,
   "id": "5ae481d7",
   "metadata": {},
   "outputs": [],
   "source": [
    "shortChain_fattyAcid_map = pd.read_csv(os.path.join(OUTPUT_PATH, \"short_chain_fatty_acid_spoke_map.csv\"))\n",
    "global_compound_map = pd.read_csv(os.path.join(OUTPUT_PATH, \"global_metabolomics_compound_spoke_map.csv\"))\n",
    "total_compounds = pd.concat([shortChain_fattyAcid_map, global_compound_map[[\"name\", \"spoke_identifer\"]]], ignore_index=True)\n",
    "\n",
    "with open(os.path.join(OUTPUT_PATH, \"compounds_with_pagerank.pickle\"), \"rb\") as f:\n",
    "    compound_with_pagerank = pickle.load(f)\n",
    "with open(os.path.join(OUTPUT_PATH, \"compounds_with_no_pagerank.pickle\"), \"rb\") as f:\n",
    "    compounds_with_no_pagerank = pickle.load(f)\n",
    "    \n",
    "compound_with_pagerank = list(map(lambda x:x.split(\"Compound:\")[-1], compound_with_pagerank))\n",
    "compounds_with_no_pagerank = list(map(lambda x:x.split(\"Compound:\")[-1], compounds_with_no_pagerank))\n"
   ]
  },
  {
   "cell_type": "markdown",
   "id": "96a3392d",
   "metadata": {},
   "source": [
    "## iMSMS compound counts"
   ]
  },
  {
   "cell_type": "code",
   "execution_count": 61,
   "id": "dba12cbf",
   "metadata": {},
   "outputs": [
    {
     "name": "stdout",
     "output_type": "stream",
     "text": [
      "Total iMSMS compounds (both targeted and global) = 1214\n",
      "Number of iMSMS compounds with SPOKE vectors = 881/1214\n",
      "Number of iMSMS compounds without SPOKE vectors = 333/1214\n"
     ]
    }
   ],
   "source": [
    "total_iMSMS_compounds = total_compounds.name.unique().shape[0]\n",
    "total_iMSMS_compounds_with_SPOKE_vectors = total_compounds[total_compounds[\"spoke_identifer\"].isin(compound_with_pagerank)].name.unique().shape[0]\n",
    "total_iMSMS_compounds_with_no_SPOKE_vectors_df = total_compounds[total_compounds[\"spoke_identifer\"].isin(compounds_with_no_pagerank)]\n",
    "total_iMSMS_compounds_with_no_SPOKE_vectors = total_iMSMS_compounds_with_no_SPOKE_vectors_df.name.unique().shape[0]\n",
    "print(\"Total iMSMS compounds (both targeted and global) =\", total_iMSMS_compounds)\n",
    "print(\"Number of iMSMS compounds with SPOKE vectors = {}/{}\".format(total_iMSMS_compounds_with_SPOKE_vectors, total_iMSMS_compounds))\n",
    "print(\"Number of iMSMS compounds without SPOKE vectors = {}/{}\".format(total_iMSMS_compounds_with_no_SPOKE_vectors, total_iMSMS_compounds))\n"
   ]
  },
  {
   "cell_type": "markdown",
   "id": "8612da92",
   "metadata": {},
   "source": [
    "## Counts for iMSMS compounds with no SPOKE vectors"
   ]
  },
  {
   "cell_type": "code",
   "execution_count": 74,
   "id": "9c188d34",
   "metadata": {},
   "outputs": [
    {
     "name": "stdout",
     "output_type": "stream",
     "text": [
      "Number of iMSMS compounds with no vectors, but present as SPOKE nodes with 0 degree = 19/333\n",
      "Number of iMSMS compounds not mapped to any SPOKE nodes = 314/333\n"
     ]
    }
   ],
   "source": [
    "compounds_with_no_SPOKE_vectors = list(total_compounds[total_compounds[\"spoke_identifer\"].isin(compounds_with_no_pagerank)].spoke_identifer.unique())\n",
    "\n",
    "query = \"\"\" MATCH (c:Compound)    \n",
    "            WHERE c.identifier IN {}\n",
    "            RETURN c.identifier AS CompoundIdentifier, size([(c)-[]-() | 1]) AS Degree\n",
    "        \"\"\".format(compounds_with_no_SPOKE_vectors)\n",
    "\n",
    "auth = basic_auth(SPOKE_USER, SPOKE_PASSWORD)\n",
    "sdb = GraphDatabase.driver(URI, auth=auth)\n",
    "\n",
    "compound_degree_list = []\n",
    "with sdb.session() as session:\n",
    "    with session.begin_transaction() as tx:\n",
    "        result = tx.run(query)\n",
    "        for row in result:\n",
    "            compound_degree_list.append((row[\"CompoundIdentifier\"], row[\"Degree\"]))\n",
    "sdb.close()\n",
    "\n",
    "compound_degree_df = pd.DataFrame(compound_degree_list, columns=[\"CompoundIdentifier\", \"Degree\"])\n",
    "total_compounds_with_0_degree_df = total_compounds[total_compounds[\"spoke_identifer\"].isin(compound_degree_df.CompoundIdentifier)]\n",
    "total_compounds_with_0_degree = total_compounds_with_0_degree_df.name.unique().shape[0]\n",
    "print(\"Number of iMSMS compounds with no vectors, but present as SPOKE nodes with 0 degree = {}/{}\".format(total_compounds_with_0_degree, total_iMSMS_compounds_with_no_SPOKE_vectors))\n",
    "\n",
    "compounds_not_in_spoke = list(set(compounds_with_no_SPOKE_vectors)-set(total_compounds_with_0_degree_df.spoke_identifer.unique()))\n",
    "total_compounds_not_in_spoke_df = total_iMSMS_compounds_with_no_SPOKE_vectors_df[total_iMSMS_compounds_with_no_SPOKE_vectors_df.spoke_identifer.isin(compounds_not_in_spoke)]\n",
    "total_compounds_not_in_spoke = total_compounds_not_in_spoke_df.name.unique().shape[0]\n",
    "print(\"Number of iMSMS compounds not mapped to any SPOKE nodes = {}/{}\".format(total_compounds_not_in_spoke, total_iMSMS_compounds_with_no_SPOKE_vectors))\n",
    "\n",
    "\n"
   ]
  },
  {
   "cell_type": "markdown",
   "id": "79a9688e",
   "metadata": {},
   "source": [
    "## Double checking if the compounds are not in SPOKE"
   ]
  },
  {
   "cell_type": "code",
   "execution_count": 125,
   "id": "048e529c",
   "metadata": {},
   "outputs": [
    {
     "name": "stdout",
     "output_type": "stream",
     "text": [
      "Returned compounds =  0\n"
     ]
    }
   ],
   "source": [
    "query = \"\"\" MATCH (c:Compound)    \n",
    "            WHERE c.identifier IN {}\n",
    "            RETURN c.identifier AS CompoundIdentifier\n",
    "        \"\"\".format(list(total_compounds_not_in_spoke_df.spoke_identifer.unique()))\n",
    "\n",
    "auth = basic_auth(SPOKE_USER, SPOKE_PASSWORD)\n",
    "sdb = GraphDatabase.driver(URI, auth=auth)\n",
    "\n",
    "compound_check_list = []\n",
    "with sdb.session() as session:\n",
    "    with session.begin_transaction() as tx:\n",
    "        result = tx.run(query)\n",
    "        for row in result:\n",
    "            compound_check_list.append((row[\"CompoundIdentifier\"]))\n",
    "sdb.close()\n",
    "print(\"Returned compounds = \", len(compound_check_list))"
   ]
  },
  {
   "cell_type": "markdown",
   "id": "2b264459",
   "metadata": {},
   "source": [
    "## Bar plot for iMSMS compouds with and w/o SPOKE vectors"
   ]
  },
  {
   "cell_type": "code",
   "execution_count": 119,
   "id": "aeca5fb5",
   "metadata": {},
   "outputs": [
    {
     "data": {
      "image/png": "[encoded data removed]",
      "text/plain": [
       "<Figure size 288x360 with 1 Axes>"
      ]
     },
     "metadata": {
      "needs_background": "light"
     },
     "output_type": "display_data"
    },
    {
     "name": "stdout",
     "output_type": "stream",
     "text": [
      "Saving figure ...\n",
      "Saved!\n"
     ]
    }
   ],
   "source": [
    "# Create the figure\n",
    "fontsize = 20\n",
    "figsize = (4, 5)\n",
    "\n",
    "fig, ax = plt.subplots(figsize=figsize)\n",
    "\n",
    "# Add the bar chart to the axis\n",
    "ax.bar(['iMSMS compounds with SPOKE vectors', 'Compounds with no SPOKE vectors'],\n",
    "       [total_iMSMS_compounds_with_SPOKE_vectors, total_iMSMS_compounds_with_no_SPOKE_vectors],\n",
    "       color='gray')\n",
    "\n",
    "# Add the counts for each bar\n",
    "for i, count in enumerate([total_iMSMS_compounds_with_SPOKE_vectors, total_iMSMS_compounds_with_no_SPOKE_vectors]):\n",
    "    ax.text(i, count+10, f\"{count:,}\", ha='center', fontsize=fontsize)\n",
    "\n",
    "# Format the axis\n",
    "ax.set_xticklabels(['With SPOKE vectors', 'W/O SPOKE vectors'], fontsize=12, rotation=45, ha='right')\n",
    "ax.tick_params(axis='y', labelsize=fontsize)\n",
    "\n",
    "# Remove the top and right spines\n",
    "ax.spines['top'].set_visible(False)\n",
    "ax.spines['right'].set_visible(False)\n",
    "\n",
    "# Set the x and y labels\n",
    "# ax.set_xlabel('iMSMS compounds', fontsize=fontsize)\n",
    "ax.set_ylabel('Count', fontsize=fontsize)\n",
    "\n",
    "# Set the tick sizes\n",
    "plt.xticks(fontsize=fontsize-3)\n",
    "plt.yticks(fontsize=fontsize-3)\n",
    "\n",
    "# Remove the top and right spines again\n",
    "plt.gca().spines['top'].set_visible(False)\n",
    "plt.gca().spines['right'].set_visible(False)\n",
    "\n",
    "plt.show()\n",
    "\n",
    "print(\"Saving figure ...\")\n",
    "fig.savefig(os.path.join(OUTPUT_PATH, \"figures\", \"iMSMS_compounds_with_and_wo_spoke_vectors_barplot.svg\"), format='svg', bbox_inches='tight')\n",
    "print(\"Saved!\")\n"
   ]
  },
  {
   "cell_type": "markdown",
   "id": "91fabbb2",
   "metadata": {},
   "source": [
    "## Bar plot for iMSMS compounds w/o SPOKE vectors"
   ]
  },
  {
   "cell_type": "code",
   "execution_count": 120,
   "id": "2fc8391c",
   "metadata": {},
   "outputs": [
    {
     "data": {
      "image/png": "[encoded data removed]",
      "text/plain": [
       "<Figure size 288x360 with 1 Axes>"
      ]
     },
     "metadata": {
      "needs_background": "light"
     },
     "output_type": "display_data"
    },
    {
     "name": "stdout",
     "output_type": "stream",
     "text": [
      "Saving figure ...\n",
      "Saved!\n"
     ]
    }
   ],
   "source": [
    "# Create the figure\n",
    "fontsize = 20\n",
    "figsize = (4, 5)\n",
    "\n",
    "fig, ax = plt.subplots(figsize=figsize)\n",
    "\n",
    "# Add the bar chart to the axis\n",
    "ax.bar(['total_compounds_with_0_degree', 'total_compounds_not_in_spoke'],\n",
    "       [total_compounds_with_0_degree, total_compounds_not_in_spoke],\n",
    "       color=[1.0, 0.3, 0.3])\n",
    "\n",
    "# Add the counts for each bar\n",
    "for i, count in enumerate([total_compounds_with_0_degree, total_compounds_not_in_spoke]):\n",
    "    ax.text(i, count+10, f\"{count:,}\", ha='center', fontsize=fontsize)\n",
    "\n",
    "# Format the axis\n",
    "ax.set_xticklabels(['nodes with 0 degree', 'nodes that do not map to SPOKE'], fontsize=fontsize, rotation=45, ha='right')\n",
    "ax.tick_params(axis='y', labelsize=fontsize)\n",
    "\n",
    "# Remove the top and right spines\n",
    "ax.spines['top'].set_visible(False)\n",
    "ax.spines['right'].set_visible(False)\n",
    "\n",
    "# Set the x and y labels\n",
    "# ax.set_xlabel('iMSMS compounds', fontsize=fontsize)\n",
    "ax.set_ylabel('Count', fontsize=fontsize)\n",
    "\n",
    "# Set the tick sizes\n",
    "plt.xticks(fontsize=fontsize-3)\n",
    "plt.yticks(fontsize=fontsize-3)\n",
    "\n",
    "# Remove the top and right spines again\n",
    "plt.gca().spines['top'].set_visible(False)\n",
    "plt.gca().spines['right'].set_visible(False)\n",
    "\n",
    "plt.show()\n",
    "\n",
    "print(\"Saving figure ...\")\n",
    "fig.savefig(os.path.join(OUTPUT_PATH, \"figures\", \"iMSMS_compounds_wo_spoke_vectors_barplot.svg\"), format='svg', bbox_inches='tight')\n",
    "print(\"Saved!\")\n"
   ]
  },
  {
   "cell_type": "code",
   "execution_count": null,
   "id": "1002bcda",
   "metadata": {},
   "outputs": [],
   "source": []
  }
 ],
 "metadata": {
  "kernelspec": {
   "display_name": "Python 3",
   "language": "python",
   "name": "python3"
  },
  "language_info": {
   "codemirror_mode": {
    "name": "ipython",
    "version": 3
   },
   "file_extension": ".py",
   "mimetype": "text/x-python",
   "name": "python",
   "nbconvert_exporter": "python",
   "pygments_lexer": "ipython3",
   "version": "3.6.9"
  }
 },
 "nbformat": 4,
 "nbformat_minor": 5
}
