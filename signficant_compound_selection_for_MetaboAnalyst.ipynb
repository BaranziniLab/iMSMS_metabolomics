{
 "cells": [
  {
   "cell_type": "code",
   "execution_count": 2,
   "id": "08c03479",
   "metadata": {},
   "outputs": [],
   "source": [
    "import pandas as pd\n",
    "import os\n",
    "import pyperclip\n",
    "from paths import *"
   ]
  },
  {
   "cell_type": "code",
   "execution_count": 58,
   "id": "bbf41598",
   "metadata": {},
   "outputs": [],
   "source": [
    "\"\"\"\n",
    "data_1_pubchem_total is directly taken from MetaboAnalyst. \n",
    "After giving the names, it returned the associated pubchem ids of the targeted compounds\n",
    "\"\"\"\n",
    "data_1_pubchem_total = pd.DataFrame([\n",
    "                               (\"2-Methylbutyric acid\", \"8314\"), \n",
    "                               (\"Acetic acid\", \"176\"), \n",
    "                               (\"Butyric acid\", \"264\"),\n",
    "                                (\"Hexanoic acid\", \"8892\"),\n",
    "                                (\"Isobutyric acid\", \"6590\"),                               \n",
    "                               (\"Isovaleric acid\", \"10430\"), \n",
    "                               (\"Propionic acid\", \"1032\"),\n",
    "                                (\"Valeric acid\", \"7991\")\n",
    "                              ], \n",
    "                              columns=[\"analyte_name\", \"PUBCHEM\"])\n"
   ]
  },
  {
   "cell_type": "code",
   "execution_count": 59,
   "id": "47edfcf3",
   "metadata": {},
   "outputs": [],
   "source": [
    "sample = \"feces\"\n",
    "if sample == \"feces\":\n",
    "    global_data_path = GLOBAL_STOOL_DATA_FILENAME\n",
    "else:\n",
    "    global_data_path = GLOBAL_SERUM_DATA_FILENAME\n",
    "\n",
    "pval_thresh = 0.05\n",
    "sheet_name_list = [\"Without outlier\", \"Without outlier-MS treated\", \"Without outlier-MS not treated\",\n",
    "                  \"With outlier\", \"With outlier-MStreated\", \"With outlier-MS not treated\"]\n",
    "sheet_index = 0\n",
    "\n",
    "\n",
    "file_path1 = os.path.join(OUTPUT_PATH, \"GLM_result_targeted_compounds_{}_sample.xlsx\".format(sample))\n",
    "file_path2 = os.path.join(OUTPUT_PATH, \"GLM_result_global_compounds_{}_sample.xlsx\".format(sample))\n"
   ]
  },
  {
   "cell_type": "code",
   "execution_count": 60,
   "id": "7b69dbb0",
   "metadata": {},
   "outputs": [],
   "source": [
    "\n",
    "data_1 = pd.read_excel(file_path1, engine='openpyxl', sheet_name = sheet_name_list[sheet_index])\n",
    "data_1 = data_1[(data_1[\"model_converged_flag\"]==1) & (data_1[\"pvalue\"] < pval_thresh)]\n",
    "\n",
    "\n",
    "data_2 = pd.read_excel(file_path2, engine='openpyxl', sheet_name = sheet_name_list[sheet_index])\n",
    "data_2 = data_2[(data_2[\"model_converged_flag\"]==1) & (data_2[\"pvalue\"] < pval_thresh)]\n",
    "\n",
    "global_data = pd.read_excel(os.path.join(DATA_ROOT_PATH, global_data_path), engine='openpyxl', sheet_name=\"Chemical Annotation\")\n"
   ]
  },
  {
   "cell_type": "code",
   "execution_count": 61,
   "id": "ebd2737b",
   "metadata": {},
   "outputs": [],
   "source": [
    "data_1_pubchem = pd.merge(data_1, data_1_pubchem_total, on=\"analyte_name\")[[\"analyte_name\", \"PUBCHEM\"]]\n"
   ]
  },
  {
   "cell_type": "code",
   "execution_count": 63,
   "id": "f40f92ec",
   "metadata": {},
   "outputs": [],
   "source": [
    "data_2_pubchem = pd.merge(data_2, global_data, left_on=\"chem_id\", right_on=\"CHEM_ID\")[[\"analyte_name\", \"PUBCHEM\"]]\n",
    "data_2_pubchem.PUBCHEM = data_2_pubchem.PUBCHEM.astype(\"str\")\n",
    "data_2_pubchem.PUBCHEM = data_2_pubchem.PUBCHEM.apply(lambda x:x.split(\",\"))\n",
    "data_2_pubchem = data_2_pubchem.explode(\"PUBCHEM\").drop_duplicates(subset=\"analyte_name\")\n"
   ]
  },
  {
   "cell_type": "code",
   "execution_count": 64,
   "id": "b03e6cc0",
   "metadata": {},
   "outputs": [],
   "source": [
    "data_pubchem = pd.concat([data_1_pubchem, data_2_pubchem], ignore_index=True).drop_duplicates(subset=\"PUBCHEM\")\n"
   ]
  },
  {
   "cell_type": "code",
   "execution_count": 67,
   "id": "1829d967",
   "metadata": {},
   "outputs": [],
   "source": [
    "analytes = list(data_pubchem[\"PUBCHEM\"].unique())\n"
   ]
  },
  {
   "cell_type": "code",
   "execution_count": 68,
   "id": "91ee4662",
   "metadata": {},
   "outputs": [],
   "source": [
    "analytes_text = \"\\n\".join(analytes)\n"
   ]
  },
  {
   "cell_type": "code",
   "execution_count": null,
   "id": "d0a38c41",
   "metadata": {},
   "outputs": [],
   "source": [
    "pyperclip.copy(analytes_text)\n"
   ]
  }
 ],
 "metadata": {
  "kernelspec": {
   "display_name": "Python 3",
   "language": "python",
   "name": "python3"
  },
  "language_info": {
   "codemirror_mode": {
    "name": "ipython",
    "version": 3
   },
   "file_extension": ".py",
   "mimetype": "text/x-python",
   "name": "python",
   "nbconvert_exporter": "python",
   "pygments_lexer": "ipython3",
   "version": "3.6.9"
  }
 },
 "nbformat": 4,
 "nbformat_minor": 5
}
