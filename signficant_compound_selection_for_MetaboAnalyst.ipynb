{
 "cells": [
  {
   "cell_type": "code",
   "execution_count": 23,
   "id": "08c03479",
   "metadata": {},
   "outputs": [],
   "source": [
    "import pandas as pd\n",
    "import os\n",
    "import pyperclip"
   ]
  },
  {
   "cell_type": "code",
   "execution_count": 15,
   "id": "47edfcf3",
   "metadata": {},
   "outputs": [],
   "source": [
    "sample = \"feces\"\n",
    "pval_thresh = 0.05\n",
    "file_path1 = os.path.join(os.getenv(\"HOME\"), \"UCSF/iMSMS_project/spoke_35M_data/GLM_result_targeted_compounds_{}_sample.xlsx\".format(sample))\n",
    "file_path2 = os.path.join(os.getenv(\"HOME\"), \"UCSF/iMSMS_project/spoke_35M_data/GLM_result_global_compounds_{}_sample.xlsx\".format(sample))\n"
   ]
  },
  {
   "cell_type": "code",
   "execution_count": 18,
   "id": "7b69dbb0",
   "metadata": {},
   "outputs": [],
   "source": [
    "\n",
    "data_1 = pd.read_excel(file_path1, engine='openpyxl')\n",
    "data_2 = pd.read_excel(file_path2, engine='openpyxl')\n",
    "data_2.drop(\"chem_id\", axis=1, inplace=True)\n",
    "\n",
    "data = pd.concat([data_1, data_2], ignore_index=True)\n",
    "data = data[(data[\"model_converged_flag\"]==1) & (data[\"pvalue\"] < pval_thresh)]\n"
   ]
  },
  {
   "cell_type": "code",
   "execution_count": 22,
   "id": "1829d967",
   "metadata": {},
   "outputs": [
    {
     "data": {
      "text/plain": [
       "389"
      ]
     },
     "execution_count": 22,
     "metadata": {},
     "output_type": "execute_result"
    }
   ],
   "source": [
    "analytes = list(data[\"analyte_name\"].unique())\n"
   ]
  },
  {
   "cell_type": "code",
   "execution_count": 24,
   "id": "91ee4662",
   "metadata": {},
   "outputs": [],
   "source": [
    "analytes_text = \"\\n\".join(analytes)\n"
   ]
  },
  {
   "cell_type": "code",
   "execution_count": 25,
   "id": "272d97c8",
   "metadata": {},
   "outputs": [],
   "source": [
    "pyperclip.copy(analytes_text)\n"
   ]
  },
  {
   "cell_type": "code",
   "execution_count": null,
   "id": "d0a38c41",
   "metadata": {},
   "outputs": [],
   "source": []
  }
 ],
 "metadata": {
  "kernelspec": {
   "display_name": "Python 3 (ipykernel)",
   "language": "python",
   "name": "python3"
  },
  "language_info": {
   "codemirror_mode": {
    "name": "ipython",
    "version": 3
   },
   "file_extension": ".py",
   "mimetype": "text/x-python",
   "name": "python",
   "nbconvert_exporter": "python",
   "pygments_lexer": "ipython3",
   "version": "3.10.9"
  }
 },
 "nbformat": 4,
 "nbformat_minor": 5
}
