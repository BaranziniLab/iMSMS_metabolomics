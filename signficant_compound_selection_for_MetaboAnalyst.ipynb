{
 "cells": [
  {
   "cell_type": "code",
   "execution_count": 1,
   "id": "08c03479",
   "metadata": {},
   "outputs": [],
   "source": [
    "import pandas as pd\n",
    "import os\n",
    "import pyperclip\n",
    "from paths import *"
   ]
  },
  {
   "cell_type": "code",
   "execution_count": 2,
   "id": "a03dd689",
   "metadata": {},
   "outputs": [
    {
     "data": {
      "text/plain": [
       "'\\nSerum. Untreated - caffeine pathway\\nFeces. Untreated  - Phenylalanine, tyrosine and tryptophan biosynthesis\\n'"
      ]
     },
     "execution_count": 2,
     "metadata": {},
     "output_type": "execute_result"
    }
   ],
   "source": [
    "\"\"\"\n",
    "Serum. Untreated - caffeine pathway\n",
    "Feces. Untreated  - Phenylalanine, tyrosine and tryptophan biosynthesis\n",
    "\"\"\"\n"
   ]
  },
  {
   "cell_type": "code",
   "execution_count": 3,
   "id": "bbf41598",
   "metadata": {},
   "outputs": [],
   "source": [
    "\"\"\"\n",
    "data_1_pubchem_total is directly taken from MetaboAnalyst. \n",
    "After giving the names, it returned the associated pubchem ids of the targeted compounds\n",
    "\"\"\"\n",
    "data_1_pubchem_total = pd.DataFrame([\n",
    "                               (\"2-Methylbutyric acid\", \"8314\"), \n",
    "                               (\"Acetic acid\", \"176\"), \n",
    "                               (\"Butyric acid\", \"264\"),\n",
    "                                (\"Hexanoic acid\", \"8892\"),\n",
    "                                (\"Isobutyric acid\", \"6590\"),                               \n",
    "                               (\"Isovaleric acid\", \"10430\"), \n",
    "                               (\"Propionic acid\", \"1032\"),\n",
    "                                (\"Valeric acid\", \"7991\")\n",
    "                              ], \n",
    "                              columns=[\"analyte_name\", \"PUBCHEM\"])\n"
   ]
  },
  {
   "cell_type": "code",
   "execution_count": 68,
   "id": "47edfcf3",
   "metadata": {},
   "outputs": [],
   "source": [
    "sample = \"feces\"\n",
    "sheet_index = 2\n",
    "\n",
    "if sample == \"feces\":\n",
    "    global_data_path = GLOBAL_STOOL_DATA_FILENAME\n",
    "else:\n",
    "    global_data_path = GLOBAL_SERUM_DATA_FILENAME\n",
    "\n",
    "pval_thresh = 0.05\n",
    "sheet_name_list = [\"Without outlier\", \"Without outlier-MS treated\", \"Without outlier-MS not treated\",\n",
    "                  \"With outlier\", \"With outlier-MStreated\", \"With outlier-MS not treated\"]\n",
    "\n",
    "\n",
    "\n",
    "file_path1 = os.path.join(OUTPUT_PATH, \"GLM_result_targeted_compounds_{}_sample.xlsx\".format(sample))\n",
    "file_path2 = os.path.join(OUTPUT_PATH, \"GLM_result_global_compounds_{}_sample.xlsx\".format(sample))\n"
   ]
  },
  {
   "cell_type": "code",
   "execution_count": 69,
   "id": "7b69dbb0",
   "metadata": {},
   "outputs": [],
   "source": [
    "\n",
    "data_1 = pd.read_excel(file_path1, engine='openpyxl', sheet_name = sheet_name_list[sheet_index])\n",
    "data_1 = data_1[(data_1[\"model_converged_flag\"]==1) & (data_1[\"pvalue\"] < pval_thresh)]\n",
    "\n",
    "\n",
    "data_2 = pd.read_excel(file_path2, engine='openpyxl', sheet_name = sheet_name_list[sheet_index])\n",
    "data_2 = data_2[(data_2[\"model_converged_flag\"]==1) & (data_2[\"pvalue\"] < pval_thresh)]\n",
    "\n",
    "global_data = pd.read_excel(os.path.join(DATA_ROOT_PATH, global_data_path), engine='openpyxl', sheet_name=\"Chemical Annotation\")\n",
    "\n"
   ]
  },
  {
   "cell_type": "code",
   "execution_count": 70,
   "id": "ebd2737b",
   "metadata": {},
   "outputs": [],
   "source": [
    "data_1_pubchem = pd.merge(data_1, data_1_pubchem_total, on=\"analyte_name\")[[\"analyte_name\", \"PUBCHEM\"]]\n"
   ]
  },
  {
   "cell_type": "code",
   "execution_count": 71,
   "id": "f40f92ec",
   "metadata": {},
   "outputs": [],
   "source": [
    "data_2_pubchem = pd.merge(data_2, global_data, left_on=\"chem_id\", right_on=\"CHEM_ID\")[[\"analyte_name\", \"PUBCHEM\"]]\n",
    "data_2_pubchem.PUBCHEM = data_2_pubchem.PUBCHEM.astype(\"str\")\n",
    "data_2_pubchem.PUBCHEM = data_2_pubchem.PUBCHEM.apply(lambda x:x.split(\",\"))\n",
    "data_2_pubchem = data_2_pubchem.explode(\"PUBCHEM\").drop_duplicates(subset=\"analyte_name\")\n"
   ]
  },
  {
   "cell_type": "code",
   "execution_count": 72,
   "id": "b03e6cc0",
   "metadata": {},
   "outputs": [],
   "source": [
    "data_pubchem = pd.concat([data_1_pubchem, data_2_pubchem], ignore_index=True).drop_duplicates(subset=\"PUBCHEM\")\n",
    "data_pubchem.analyte_name = data_pubchem.analyte_name.apply(lambda x:x.split(\"(\")[0])\n",
    "data_pubchem.analyte_name = data_pubchem.analyte_name.apply(lambda x:x.split(\"*\")[0])\n"
   ]
  },
  {
   "cell_type": "code",
   "execution_count": 73,
   "id": "14f7dc1e",
   "metadata": {},
   "outputs": [
    {
     "data": {
      "text/html": [
       "<div>\n",
       "<style scoped>\n",
       "    .dataframe tbody tr th:only-of-type {\n",
       "        vertical-align: middle;\n",
       "    }\n",
       "\n",
       "    .dataframe tbody tr th {\n",
       "        vertical-align: top;\n",
       "    }\n",
       "\n",
       "    .dataframe thead th {\n",
       "        text-align: right;\n",
       "    }\n",
       "</style>\n",
       "<table border=\"1\" class=\"dataframe\">\n",
       "  <thead>\n",
       "    <tr style=\"text-align: right;\">\n",
       "      <th></th>\n",
       "      <th>analyte_name</th>\n",
       "      <th>PUBCHEM</th>\n",
       "    </tr>\n",
       "  </thead>\n",
       "  <tbody>\n",
       "    <tr>\n",
       "      <th>0</th>\n",
       "      <td>2-Methylbutyric acid</td>\n",
       "      <td>8314</td>\n",
       "    </tr>\n",
       "    <tr>\n",
       "      <th>1</th>\n",
       "      <td>Acetic acid</td>\n",
       "      <td>176</td>\n",
       "    </tr>\n",
       "    <tr>\n",
       "      <th>2</th>\n",
       "      <td>Isovaleric acid</td>\n",
       "      <td>10430</td>\n",
       "    </tr>\n",
       "    <tr>\n",
       "      <th>3</th>\n",
       "      <td>Propionic acid</td>\n",
       "      <td>1032</td>\n",
       "    </tr>\n",
       "    <tr>\n",
       "      <th>4</th>\n",
       "      <td>S-1-pyrroline-5-carboxylate</td>\n",
       "      <td>11966181</td>\n",
       "    </tr>\n",
       "    <tr>\n",
       "      <th>...</th>\n",
       "      <td>...</td>\n",
       "      <td>...</td>\n",
       "    </tr>\n",
       "    <tr>\n",
       "      <th>311</th>\n",
       "      <td>N-methylproline</td>\n",
       "      <td>643474</td>\n",
       "    </tr>\n",
       "    <tr>\n",
       "      <th>312</th>\n",
       "      <td>beta-cryptoxanthin</td>\n",
       "      <td>5281235</td>\n",
       "    </tr>\n",
       "    <tr>\n",
       "      <th>313</th>\n",
       "      <td>N-acetyl-1-methylhistidine</td>\n",
       "      <td>53859791</td>\n",
       "    </tr>\n",
       "    <tr>\n",
       "      <th>314</th>\n",
       "      <td>fructosyllysine</td>\n",
       "      <td>9839580</td>\n",
       "    </tr>\n",
       "    <tr>\n",
       "      <th>315</th>\n",
       "      <td>dodecenedioate</td>\n",
       "      <td>5283028</td>\n",
       "    </tr>\n",
       "  </tbody>\n",
       "</table>\n",
       "<p>299 rows × 2 columns</p>\n",
       "</div>"
      ],
      "text/plain": [
       "                    analyte_name   PUBCHEM\n",
       "0           2-Methylbutyric acid      8314\n",
       "1                    Acetic acid       176\n",
       "2                Isovaleric acid     10430\n",
       "3                 Propionic acid      1032\n",
       "4    S-1-pyrroline-5-carboxylate  11966181\n",
       "..                           ...       ...\n",
       "311              N-methylproline    643474\n",
       "312           beta-cryptoxanthin   5281235\n",
       "313   N-acetyl-1-methylhistidine  53859791\n",
       "314              fructosyllysine   9839580\n",
       "315              dodecenedioate    5283028\n",
       "\n",
       "[299 rows x 2 columns]"
      ]
     },
     "execution_count": 73,
     "metadata": {},
     "output_type": "execute_result"
    }
   ],
   "source": [
    "data_pubchem"
   ]
  },
  {
   "cell_type": "code",
   "execution_count": 74,
   "id": "1829d967",
   "metadata": {},
   "outputs": [],
   "source": [
    "analytes = list(data_pubchem[\"PUBCHEM\"].unique())\n",
    "\n",
    "# analytes = list(data_pubchem[\"analyte_name\"].unique())\n",
    "\n"
   ]
  },
  {
   "cell_type": "code",
   "execution_count": 75,
   "id": "91ee4662",
   "metadata": {},
   "outputs": [],
   "source": [
    "analytes_text = \"\\n\".join(analytes)\n"
   ]
  },
  {
   "cell_type": "code",
   "execution_count": 76,
   "id": "d0a38c41",
   "metadata": {},
   "outputs": [],
   "source": [
    "pyperclip.copy(analytes_text)\n"
   ]
  },
  {
   "cell_type": "code",
   "execution_count": 77,
   "id": "fb342c7c",
   "metadata": {},
   "outputs": [
    {
     "data": {
      "text/plain": [
       "299"
      ]
     },
     "execution_count": 77,
     "metadata": {},
     "output_type": "execute_result"
    }
   ],
   "source": [
    "len(analytes)"
   ]
  },
  {
   "cell_type": "code",
   "execution_count": null,
   "id": "020494b2",
   "metadata": {},
   "outputs": [],
   "source": []
  }
 ],
 "metadata": {
  "kernelspec": {
   "display_name": "Python 3 (ipykernel)",
   "language": "python",
   "name": "python3"
  },
  "language_info": {
   "codemirror_mode": {
    "name": "ipython",
    "version": 3
   },
   "file_extension": ".py",
   "mimetype": "text/x-python",
   "name": "python",
   "nbconvert_exporter": "python",
   "pygments_lexer": "ipython3",
   "version": "3.10.9"
  }
 },
 "nbformat": 4,
 "nbformat_minor": 5
}
