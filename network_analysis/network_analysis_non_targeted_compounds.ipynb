{
 "cells": [
  {
   "cell_type": "code",
   "execution_count": 100,
   "id": "fed09d81",
   "metadata": {},
   "outputs": [],
   "source": [
    "import os\n",
    "import pickle\n",
    "import pandas as pd\n",
    "import numpy as np\n",
    "import sys\n",
    "sys.path.insert(0, \"..\")\n",
    "from paths import *\n",
    "from neo4j import GraphDatabase, basic_auth\n"
   ]
  },
  {
   "cell_type": "code",
   "execution_count": 139,
   "id": "38170806",
   "metadata": {},
   "outputs": [],
   "source": [
    "compound_type = \"combined\"\n",
    "sample = \"serum\"\n",
    "sel_sheet_index = 0\n",
    "\n",
    "extracted_paths_filename = \"extracted_paths_for_{}_compounds_{}_sample_sheet_index_{}_dict.pickle\".format(compound_type, sample, str(sel_sheet_index))\n",
    "top_nodes_filename = \"top_nodes_for_each_nodetype_for_{}_compounds_{}_sample_sheet_index_{}_list.pickle\".format(compound_type, sample, str(sel_sheet_index))\n"
   ]
  },
  {
   "cell_type": "code",
   "execution_count": 140,
   "id": "03c73ed1",
   "metadata": {},
   "outputs": [],
   "source": [
    "def get_node_names(nodes_df):\n",
    "    auth = basic_auth(SPOKE_USER, SPOKE_PASSWORD)\n",
    "    sdb = GraphDatabase.driver(URI, auth=auth)\n",
    "\n",
    "    query_gene_organism = \"\"\"\n",
    "                MATCH(n:{})\n",
    "                WHERE n.identifier = {}\n",
    "                RETURN n.name AS n_name\n",
    "    \"\"\"\n",
    "    query = \"\"\"\n",
    "                MATCH(n:{})\n",
    "                WHERE n.identifier = '{}'\n",
    "                RETURN n.name AS n_name\n",
    "    \"\"\"\n",
    "    node_list = []\n",
    "    with sdb.session() as session:\n",
    "        with session.begin_transaction() as tx:\n",
    "            for index, row in nodes_df.iterrows():\n",
    "                if row[\"node_type\"] == \"Variant\" and row[\"node_type\"] == \"MiRNA\" and row[\"node_type\"] == \"Reaction\" and row[\"node_type\"] == \"EC\":\n",
    "                    node_list.append((row[\"node_id\"], row[\"node_id\"], row[\"node_type\"]))\n",
    "                elif row[\"node_type\"] == \"Gene\" or row[\"node_type\"]==\"Organism\":\n",
    "                    result = tx.run(query_gene_organism.format(row[\"node_type\"], int(row[\"node_id\"])))\n",
    "                    for row_ in result:\n",
    "                        node_list.append((row[\"node_id\"], row_[\"n_name\"], row[\"node_type\"]))\n",
    "                else:\n",
    "                    result = tx.run(query.format(row[\"node_type\"], row[\"node_id\"]))\n",
    "                    for row_ in result:\n",
    "                        node_list.append((row[\"node_id\"], row_[\"n_name\"], row[\"node_type\"]))\n",
    "    sdb.close()\n",
    "    nodes_df_ = pd.DataFrame(node_list, columns = [\"node_id\", \"node_name\", \"node_type\"])\n",
    "    return nodes_df_\n",
    "\n",
    "\n",
    "def merge_paths_with_node_names(top_salient_proximal_paths, nodes_df):\n",
    "    top_salient_proximal_paths_1 = pd.merge(top_salient_proximal_paths, nodes_df, left_on=\"source\", right_on=\"composite_id\")\n",
    "    top_salient_proximal_paths_2 = pd.merge(top_salient_proximal_paths, nodes_df, left_on=\"target\", right_on=\"composite_id\")\n",
    "    top_salient_proximal_paths_3 = pd.merge(top_salient_proximal_paths_1, top_salient_proximal_paths_2, on=[\"source\", \"target\"])[[\"source\", \"target\", \"node_name_x\", \"node_name_y\", \"node_type_x\", \"node_type_y\"]]\n",
    "    top_salient_proximal_paths_3.rename(columns={\"source\":\"source_id\", \"target\":\"target_id\", \"node_name_x\":\"source_name\", \"node_name_y\":\"target_name\", \"node_type_x\": \"source_node_type\", \"node_type_y\":\"target_node_type\"}, inplace=True)\n",
    "    top_salient_proximal_paths_3.drop_duplicates(inplace=True)\n",
    "    return top_salient_proximal_paths_3\n",
    "\n"
   ]
  },
  {
   "cell_type": "code",
   "execution_count": 141,
   "id": "e0982467",
   "metadata": {},
   "outputs": [],
   "source": [
    "with open(os.path.join(OUTPUT_PATH, extracted_paths_filename), \"rb\") as f:\n",
    "    extracted_paths = pickle.load(f)\n",
    "    \n",
    "with open(os.path.join(OUTPUT_PATH, top_nodes_filename), \"rb\") as f:\n",
    "    top_nodes = pickle.load(f)\n",
    "    "
   ]
  },
  {
   "cell_type": "code",
   "execution_count": 142,
   "id": "1bbcf6fd",
   "metadata": {},
   "outputs": [],
   "source": [
    "top_salient_proximal_nodes_list = list(extracted_paths[\"intermediate_to_MS\"].keys())\n"
   ]
  },
  {
   "cell_type": "code",
   "execution_count": 143,
   "id": "4b887ffa",
   "metadata": {},
   "outputs": [],
   "source": [
    "N = 10\n",
    "top_salient_proximal_negative_nodes = []\n",
    "top_salient_proximal_positive_nodes = []\n",
    "for item in top_nodes:\n",
    "    try:\n",
    "        item_top_negative_nodes = item[\"top_negative_nodes\"].head(N)\n",
    "        item_top_negative_nodes = list(np.unique(item_top_negative_nodes.node_type + \":\" + item_top_negative_nodes.node_id))\n",
    "        item_top_salient_proximal_negative_nodes = list(set(item_top_negative_nodes).intersection(set(top_salient_proximal_nodes_list)))\n",
    "    except:\n",
    "        item_top_salient_proximal_negative_nodes = []\n",
    "    try:\n",
    "        item_top_positive_nodes = item[\"top_positive_nodes\"].tail(N)\n",
    "        item_top_positive_nodes = list(np.unique(item_top_positive_nodes.node_type + \":\" + item_top_positive_nodes.node_id))\n",
    "        item_top_salient_proximal_positive_nodes = list(set(item_top_positive_nodes).intersection(set(top_salient_proximal_nodes_list)))\n",
    "    except:\n",
    "        item_top_salient_proximal_positive_nodes = []\n",
    "    top_salient_proximal_negative_nodes.append(item_top_salient_proximal_negative_nodes)\n",
    "    top_salient_proximal_positive_nodes.append(item_top_salient_proximal_positive_nodes)\n",
    "\n",
    "top_salient_proximal_negative_nodes = np.concatenate(top_salient_proximal_negative_nodes)\n",
    "top_salient_proximal_positive_nodes = np.concatenate(top_salient_proximal_positive_nodes)\n",
    "\n",
    "    "
   ]
  },
  {
   "cell_type": "code",
   "execution_count": 144,
   "id": "abfe440c",
   "metadata": {},
   "outputs": [],
   "source": [
    "top_salient_proximal_negative_nodes_paths = []\n",
    "for item in top_salient_proximal_negative_nodes:\n",
    "    top_salient_proximal_negative_nodes_paths.append(extracted_paths[\"intermediate_to_MS\"][item])\n",
    "    \n",
    "top_salient_proximal_positive_nodes_paths = []\n",
    "for item in top_salient_proximal_positive_nodes:\n",
    "    top_salient_proximal_positive_nodes_paths.append(extracted_paths[\"intermediate_to_MS\"][item])\n",
    "    \n",
    "top_salient_proximal_negative_nodes_paths = pd.concat(top_salient_proximal_negative_nodes_paths, ignore_index=True)\n",
    "top_salient_proximal_positive_nodes_paths = pd.concat(top_salient_proximal_positive_nodes_paths, ignore_index=True)\n"
   ]
  },
  {
   "cell_type": "code",
   "execution_count": 145,
   "id": "d4615c65",
   "metadata": {},
   "outputs": [],
   "source": [
    "nodes_df_negative = pd.DataFrame(pd.concat([top_salient_proximal_negative_nodes_paths.source, top_salient_proximal_negative_nodes_paths.target]), columns=[\"node_id\"]).drop_duplicates()\n",
    "nodes_df_negative[\"node_type\"] = nodes_df_negative.node_id.apply(lambda x:x.split(\":\")[0])\n",
    "nodes_df_negative[\"node_id\"] = nodes_df_negative.node_id.apply(lambda x:\":\".join(x.split(\":\")[1:]))\n",
    "\n",
    "nodes_df_positive = pd.DataFrame(pd.concat([top_salient_proximal_positive_nodes_paths.source, top_salient_proximal_positive_nodes_paths.target]), columns=[\"node_id\"]).drop_duplicates()\n",
    "nodes_df_positive[\"node_type\"] = nodes_df_positive.node_id.apply(lambda x:x.split(\":\")[0])\n",
    "nodes_df_positive[\"node_id\"] = nodes_df_positive.node_id.apply(lambda x:\":\".join(x.split(\":\")[1:]))\n",
    "\n",
    "nodes_df_negative_ = get_node_names(nodes_df_negative)\n",
    "nodes_df_positive_ = get_node_names(nodes_df_positive)\n",
    "\n",
    "\n",
    "nodes_df_negative_[\"composite_id\"] = nodes_df_negative_[\"node_type\"] + \":\" + nodes_df_negative_[\"node_id\"]\n",
    "nodes_df_positive_[\"composite_id\"] = nodes_df_positive_[\"node_type\"] + \":\" + nodes_df_positive_[\"node_id\"]\n",
    "\n"
   ]
  },
  {
   "cell_type": "code",
   "execution_count": 146,
   "id": "0debb3be",
   "metadata": {},
   "outputs": [],
   "source": [
    "top_salient_proximal_negative_nodes_paths_with_node_names = merge_paths_with_node_names(top_salient_proximal_negative_nodes_paths, nodes_df_negative_)\n",
    "top_salient_proximal_positive_nodes_paths_with_node_names = merge_paths_with_node_names(top_salient_proximal_positive_nodes_paths, nodes_df_positive_)\n",
    "\n"
   ]
  },
  {
   "cell_type": "code",
   "execution_count": 129,
   "id": "a70916f9",
   "metadata": {},
   "outputs": [
    {
     "name": "stdout",
     "output_type": "stream",
     "text": [
      "CPU times: user 3min 15s, sys: 7min 52s, total: 11min 8s\n",
      "Wall time: 14min 50s\n"
     ]
    }
   ],
   "source": [
    "# %%time\n",
    "# with open(os.path.join(\"..\", \"..\", \"spoke_35M.gpickle\"), \"rb\") as f:\n",
    "#     G = pickle.load(f)"
   ]
  },
  {
   "cell_type": "code",
   "execution_count": 147,
   "id": "4952ea9e",
   "metadata": {},
   "outputs": [],
   "source": [
    "negative_edgetype_list = []\n",
    "for index, row in top_salient_proximal_negative_nodes_paths_with_node_names.iterrows():\n",
    "    negative_edgetype_list.append(G[row[\"source_id\"]][row[\"target_id\"]][\"edgetype\"])\n",
    "    \n",
    "top_salient_proximal_negative_nodes_paths_with_node_names[\"edgetype\"] = negative_edgetype_list\n",
    "\n",
    "\n",
    "positive_edgetype_list = []\n",
    "for index, row in top_salient_proximal_positive_nodes_paths_with_node_names.iterrows():\n",
    "    positive_edgetype_list.append(G[row[\"source_id\"]][row[\"target_id\"]][\"edgetype\"])\n",
    "\n",
    "top_salient_proximal_positive_nodes_paths_with_node_names[\"edgetype\"] = positive_edgetype_list\n",
    "    \n"
   ]
  },
  {
   "cell_type": "code",
   "execution_count": 148,
   "id": "c5d23f88",
   "metadata": {},
   "outputs": [],
   "source": [
    "top_salient_proximal_positive_nodes_paths_with_node_names.loc[top_salient_proximal_positive_nodes_paths_with_node_names.source_id.isin(top_salient_proximal_positive_nodes), \"source_node_flag\"] = \"salient_proximal\"\n",
    "top_salient_proximal_positive_nodes_paths_with_node_names.loc[~top_salient_proximal_positive_nodes_paths_with_node_names.source_id.isin(top_salient_proximal_positive_nodes), \"source_node_flag\"] = \"connection_node\"\n",
    "top_salient_proximal_positive_nodes_paths_with_node_names.loc[top_salient_proximal_positive_nodes_paths_with_node_names.target_id.isin(top_salient_proximal_positive_nodes), \"target_node_flag\"] = \"salient_proximal\"\n",
    "top_salient_proximal_positive_nodes_paths_with_node_names.loc[~top_salient_proximal_positive_nodes_paths_with_node_names.target_id.isin(top_salient_proximal_positive_nodes), \"target_node_flag\"] = \"connection_node\"\n",
    "\n",
    "\n",
    "top_salient_proximal_negative_nodes_paths_with_node_names.loc[top_salient_proximal_negative_nodes_paths_with_node_names.source_id.isin(top_salient_proximal_negative_nodes), \"source_node_flag\"] = \"salient_proximal\"\n",
    "top_salient_proximal_negative_nodes_paths_with_node_names.loc[~top_salient_proximal_negative_nodes_paths_with_node_names.source_id.isin(top_salient_proximal_negative_nodes), \"source_node_flag\"] = \"connection_node\"\n",
    "top_salient_proximal_negative_nodes_paths_with_node_names.loc[top_salient_proximal_negative_nodes_paths_with_node_names.target_id.isin(top_salient_proximal_negative_nodes), \"target_node_flag\"] = \"salient_proximal\"\n",
    "top_salient_proximal_negative_nodes_paths_with_node_names.loc[~top_salient_proximal_negative_nodes_paths_with_node_names.target_id.isin(top_salient_proximal_negative_nodes), \"target_node_flag\"] = \"connection_node\"\n",
    "\n"
   ]
  },
  {
   "cell_type": "code",
   "execution_count": 149,
   "id": "8601ba5a",
   "metadata": {},
   "outputs": [],
   "source": [
    "\n",
    "negative_edge_filename = \"negative_network_edges_for_{}_compounds_{}_sample_sheet_index_{}.tsv\".format(compound_type, sample, str(sel_sheet_index))\n",
    "positive_edge_filename = \"positive_network_edges_for_{}_compounds_{}_sample_sheet_index_{}.tsv\".format(compound_type, sample, str(sel_sheet_index))\n",
    "\n",
    "\n",
    "top_salient_proximal_negative_nodes_paths_with_node_names.to_csv(os.path.join(OUTPUT_PATH, negative_edge_filename), sep=\"\\t\", index=False, header=True)\n",
    "top_salient_proximal_positive_nodes_paths_with_node_names.to_csv(os.path.join(OUTPUT_PATH, positive_edge_filename), sep=\"\\t\", index=False, header=True)\n",
    "\n"
   ]
  },
  {
   "cell_type": "code",
   "execution_count": 151,
   "id": "b98f218d",
   "metadata": {},
   "outputs": [
    {
     "data": {
      "text/plain": [
       "(49, 9)"
      ]
     },
     "execution_count": 151,
     "metadata": {},
     "output_type": "execute_result"
    }
   ],
   "source": [
    "top_salient_proximal_positive_nodes_paths_with_node_names.shape"
   ]
  },
  {
   "cell_type": "code",
   "execution_count": null,
   "id": "0c0b6e89",
   "metadata": {},
   "outputs": [],
   "source": []
  }
 ],
 "metadata": {
  "kernelspec": {
   "display_name": "Python 3 (ipykernel)",
   "language": "python",
   "name": "python3"
  },
  "language_info": {
   "codemirror_mode": {
    "name": "ipython",
    "version": 3
   },
   "file_extension": ".py",
   "mimetype": "text/x-python",
   "name": "python",
   "nbconvert_exporter": "python",
   "pygments_lexer": "ipython3",
   "version": "3.10.9"
  }
 },
 "nbformat": 4,
 "nbformat_minor": 5
}
