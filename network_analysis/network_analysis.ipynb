{
 "cells": [
  {
   "cell_type": "code",
   "execution_count": 3,
   "id": "170b8c53",
   "metadata": {},
   "outputs": [],
   "source": [
    "import os\n",
    "import pickle\n",
    "import pandas as pd\n",
    "import numpy as np\n",
    "import sys\n",
    "sys.path.insert(0, \"..\")\n",
    "from paths import *\n",
    "from neo4j import GraphDatabase, basic_auth\n",
    "import matplotlib.pyplot as plt\n",
    "import seaborn as sns\n",
    "from tqdm import tqdm\n"
   ]
  },
  {
   "cell_type": "code",
   "execution_count": 4,
   "id": "d24268cb",
   "metadata": {},
   "outputs": [],
   "source": [
    "pval_thresh = 0.05\n",
    "compound_type = \"combined\"\n",
    "sample = \"feces\"\n",
    "sel_sheet_index = 2\n",
    "\n",
    "filename = \"top_nodes_for_each_nodetype_for_{}_compounds_{}_sample_sheet_index_{}_list.pickle\".format(compound_type, sample, str(sel_sheet_index))\n"
   ]
  },
  {
   "cell_type": "code",
   "execution_count": 7,
   "id": "d3697dbc",
   "metadata": {},
   "outputs": [],
   "source": [
    "with open(os.path.join(OUTPUT_PATH, \"after_spoke_compound_pruning\", filename), \"rb\") as f:\n",
    "    top_nodes = pickle.load(f)\n",
    "    "
   ]
  },
  {
   "cell_type": "code",
   "execution_count": 8,
   "id": "6aadad9d",
   "metadata": {},
   "outputs": [],
   "source": [
    "def get_node_names(nodes_df):\n",
    "    auth = basic_auth(SPOKE_USER, SPOKE_PASSWORD)\n",
    "    sdb = GraphDatabase.driver(URI, auth=auth)\n",
    "    node_type = nodes_df[\"node_type\"].unique()[0]\n",
    "    if node_type != \"Variant\" and node_type != \"MiRNA\" and node_type != \"Reaction\" and node_type != \"EC\":\n",
    "        if  node_type == \"Gene\" or node_type == \"Organism\":\n",
    "            query = \"\"\"\n",
    "                        MATCH(n:{})\n",
    "                        WHERE n.identifier = {}\n",
    "                        RETURN n.name AS n_name\n",
    "            \"\"\"\n",
    "        else:\n",
    "            query = \"\"\"\n",
    "                        MATCH(n:{})\n",
    "                        WHERE n.identifier = '{}'\n",
    "                        RETURN n.name AS n_name\n",
    "            \"\"\"\n",
    "        node_list = []\n",
    "        with sdb.session() as session:\n",
    "            with session.begin_transaction() as tx:\n",
    "                for index, row in nodes_df.iterrows():\n",
    "                    result = tx.run(query.format(row[\"node_type\"], row[\"node_id\"]))\n",
    "                    for row_ in result:\n",
    "                        node_list.append((row[\"node_id\"], row_[\"n_name\"], row[\"node_type\"]))\n",
    "        sdb.close()\n",
    "        nodes_df_ = pd.DataFrame(node_list, columns = [\"node_id\", \"node_name\", \"node_type\"])    \n",
    "        return pd.merge(nodes_df, nodes_df_, on=[\"node_id\", \"node_type\"], how=\"left\")\n",
    "    else:\n",
    "        nodes_df[\"node_name\"] = nodes_df[\"node_id\"]\n",
    "        return nodes_df\n",
    "\n",
    "\n",
    "def plot_figure(top_negative_nodes_, top_positive_nodes_, save=False):\n",
    "    logpval_thresh = -np.log10(pval_thresh)\n",
    "    FONTSIZE = 12\n",
    "\n",
    "    # Create a figure with two subplots\n",
    "    fig, (ax1, ax2) = plt.subplots(1, 2, figsize=(13, 5))\n",
    "\n",
    "    if top_negative_nodes_.shape[0] != 0:\n",
    "        nodetype = top_negative_nodes_.node_type.unique()[0]\n",
    "        ax1.bar(top_negative_nodes_['node_name'], top_negative_nodes_['log_p'], color=\"r\")\n",
    "        ax1.set_xticklabels(top_negative_nodes_['node_name'], rotation=45, ha='right', fontsize=FONTSIZE)\n",
    "        ax1.set_ylabel('MS proximity (-log10 pvalue)')\n",
    "        # ax2.set_title('Top Negative value nodes')\n",
    "        ax1.axhline(y=logpval_thresh, color='blue', linestyle='--')\n",
    "\n",
    "    if top_positive_nodes_.shape[0] != 0:\n",
    "        nodetype = top_positive_nodes_.node_type.unique()[0]\n",
    "        ax2.bar(top_positive_nodes_['node_name'], top_positive_nodes_['log_p'], color=\"g\")\n",
    "        ax2.set_xticklabels(top_positive_nodes_['node_name'], rotation=45, ha='right', fontsize=FONTSIZE)\n",
    "        # ax2.set_ylabel('-log10(p)')\n",
    "        # ax1.set_title('Top Positive value nodes')\n",
    "        ax2.axhline(y=logpval_thresh, color='blue', linestyle='--')\n",
    "\n",
    "    # Set the layout and show the plot\n",
    "    fig.suptitle(f'{nodetype}', fontsize=13)\n",
    "    fig.tight_layout()\n",
    "    plt.show()\n",
    "    if save:\n",
    "        print(\"Saving figure ...\")\n",
    "        filename = \"{}_compounds_{}_sample_sheet_index_{}_{}_nodetype.svg\".format(compound_type, sample, str(sel_sheet_index), nodetype)\n",
    "        fig.savefig(os.path.join(OUTPUT_PATH, \"after_spoke_compound_pruning\", \"figures\", filename), format=\"svg\", bbox_inches='tight')\n",
    "        print(\"Saved!\")\n"
   ]
  },
  {
   "cell_type": "code",
   "execution_count": null,
   "id": "b8f253be",
   "metadata": {},
   "outputs": [],
   "source": [
    "%%time\n",
    "N = 15\n",
    "for item in tqdm(top_nodes):\n",
    "    # item = top_nodes[7]\n",
    "    top_negative_nodes = item[\"top_negative_nodes\"]\n",
    "    top_positive_nodes = item[\"top_positive_nodes\"]\n",
    "    try:\n",
    "        top_negative_nodes_ = get_node_names(top_negative_nodes)\n",
    "        top_negative_nodes_[\"log_p\"] = -np.log10(top_negative_nodes_.p_value)\n",
    "        top_negative_nodes_ = top_negative_nodes_.head(N)\n",
    "        top_negative_nodes_.dropna(subset=[\"node_name\"], inplace=True)\n",
    "    except:\n",
    "        top_negative_nodes_ = pd.DataFrame(columns=[\"node_type\", \"node_name\", \"log_p\", \"embedding_values\"])\n",
    "\n",
    "    try:\n",
    "        top_positive_nodes_ = get_node_names(top_positive_nodes)\n",
    "        top_positive_nodes_[\"log_p\"] = -np.log10(top_positive_nodes_.p_value)\n",
    "        top_positive_nodes_.sort_values(by=\"embedding_values\", ascending=False, inplace=True)            \n",
    "        top_positive_nodes_ = top_positive_nodes_.head(N)\n",
    "        top_positive_nodes_.dropna(subset=[\"node_name\"], inplace=True)\n",
    "    except:\n",
    "        top_positive_nodes_ = pd.DataFrame(columns=[\"node_type\", \"node_name\", \"log_p\", \"embedding_values\"])\n",
    "    plot_figure(top_negative_nodes_, top_positive_nodes_, save=True)\n"
   ]
  },
  {
   "cell_type": "code",
   "execution_count": 9,
   "id": "6c3f6999",
   "metadata": {},
   "outputs": [
    {
     "data": {
      "text/plain": [
       "['Anatomy',\n",
       " 'Gene',\n",
       " 'CellType',\n",
       " 'Compound',\n",
       " 'ProteinDomain',\n",
       " 'Protein',\n",
       " 'SideEffect',\n",
       " 'Disease',\n",
       " 'Reaction',\n",
       " 'PwGroup',\n",
       " 'Symptom',\n",
       " 'EC',\n",
       " 'Food',\n",
       " 'MiRNA',\n",
       " 'BiologicalProcess',\n",
       " 'CellularComponent',\n",
       " 'MolecularFunction',\n",
       " 'Pathway',\n",
       " 'Organism',\n",
       " 'ProteinFamily',\n",
       " 'Variant']"
      ]
     },
     "execution_count": 9,
     "metadata": {},
     "output_type": "execute_result"
    }
   ],
   "source": [
    "nodetype_list = []\n",
    "for item_ in top_nodes:\n",
    "    nodetype_list.append(item_[\"nodetype\"])\n",
    "    \n",
    "nodetype_list\n"
   ]
  },
  {
   "cell_type": "code",
   "execution_count": 10,
   "id": "54d349e0",
   "metadata": {},
   "outputs": [],
   "source": [
    "with open(os.path.join(OUTPUT_PATH, \"after_spoke_compound_pruning\", \"shortest_pathLength_distributions_of_all_nodetypes_to_MS_node.pickle\"), \"rb\") as f:\n",
    "    shortest_pathlength_distribution = pickle.load(f)\n",
    "    \n",
    "    \n",
    "    "
   ]
  },
  {
   "cell_type": "code",
   "execution_count": 33,
   "id": "beaf3463",
   "metadata": {},
   "outputs": [
    {
     "name": "stdout",
     "output_type": "stream",
     "text": [
      "Variant\n"
     ]
    },
    {
     "data": {
      "image/png": "[encoded data removed]",
      "text/plain": [
       "<Figure size 300x300 with 1 Axes>"
      ]
     },
     "metadata": {},
     "output_type": "display_data"
    },
    {
     "name": "stdout",
     "output_type": "stream",
     "text": [
      "Saving figure ...\n",
      "Saved!\n"
     ]
    }
   ],
   "source": [
    "node_index = 20\n",
    "shortest_pathLength_distribution = shortest_pathlength_distribution[node_index][\"shortest_pathLength_distribution\"]\n",
    "node_type = shortest_pathlength_distribution[node_index][\"node_type\"]\n",
    "print(node_type)\n",
    "shortest_pathLength_distribution = list(filter(None, shortest_pathLength_distribution))\n",
    "\n",
    "\n",
    "FIG_SIZE = (3,3)\n",
    "FONTSIZE = 10\n",
    "\n",
    "# assuming shortest_pathLength_distribution is a list of discrete values\n",
    "fig, ax = plt.subplots(figsize=FIG_SIZE)\n",
    "\n",
    "# create a histogram with the specified bins\n",
    "n, bins, patches = ax.hist(shortest_pathLength_distribution, bins=range(min(shortest_pathLength_distribution), max(shortest_pathLength_distribution)+2), edgecolor='gray', color=\"lightgray\", alpha=1)\n",
    "\n",
    "# set the height of each patch to the corresponding bin value\n",
    "for i in range(len(patches)):\n",
    "    patches[i].set_height(n[i])\n",
    "\n",
    "# create a step-like curve for the outline\n",
    "outline, = ax.step(bins[:-1], n, where='post', color='black')\n",
    "\n",
    "ax.set_xlabel('Shortest Pathlength', fontsize=FONTSIZE)\n",
    "ax.set_ylabel('Density', fontsize=FONTSIZE)\n",
    "plt.gca().spines['top'].set_visible(False)\n",
    "plt.gca().spines['right'].set_visible(False)\n",
    "plt.xticks(fontsize=FONTSIZE)\n",
    "plt.yticks(fontsize=FONTSIZE)\n",
    "\n",
    "# set the limits and labels of the x and y axes\n",
    "ax.set_xlim([min(shortest_pathLength_distribution)-0.5, max(shortest_pathLength_distribution)+0.5])\n",
    "ax.set_ylim([0, max(n)+1])\n",
    "\n",
    "\n",
    "plt.show()\n",
    "\n",
    "print(\"Saving figure ...\")\n",
    "filename = \"shortest_pathlength_distribution_{}_nodetype.svg\".format(node_type)\n",
    "fig.savefig(os.path.join(OUTPUT_PATH, \"after_spoke_compound_pruning\", \"figures\", filename), format=\"svg\", bbox_inches='tight')\n",
    "print(\"Saved!\")\n"
   ]
  },
  {
   "cell_type": "code",
   "execution_count": null,
   "id": "34aeed42",
   "metadata": {},
   "outputs": [],
   "source": []
  }
 ],
 "metadata": {
  "kernelspec": {
   "display_name": "Python 3 (ipykernel)",
   "language": "python",
   "name": "python3"
  },
  "language_info": {
   "codemirror_mode": {
    "name": "ipython",
    "version": 3
   },
   "file_extension": ".py",
   "mimetype": "text/x-python",
   "name": "python",
   "nbconvert_exporter": "python",
   "pygments_lexer": "ipython3",
   "version": "3.10.9"
  }
 },
 "nbformat": 4,
 "nbformat_minor": 5
}
